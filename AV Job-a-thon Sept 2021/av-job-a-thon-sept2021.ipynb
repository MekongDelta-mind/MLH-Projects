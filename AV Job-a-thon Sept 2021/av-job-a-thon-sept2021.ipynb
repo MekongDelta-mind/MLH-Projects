{
 "cells": [
  {
   "cell_type": "markdown",
   "metadata": {
    "id": "l5LkanReeKOB"
   },
   "source": [
    "# av-job-a-thon-sept2021\n",
    "\n",
    "Use the \"Run\" button to execute the code."
   ]
  },
  {
   "cell_type": "code",
   "execution_count": 2,
   "metadata": {
    "executionInfo": {
     "elapsed": 4407,
     "status": "ok",
     "timestamp": 1632330727691,
     "user": {
      "displayName": "Prabin Kumar Nayak",
      "photoUrl": "https://lh3.googleusercontent.com/a-/AOh14GjoVsNpk3w81WtIWsA-15IhGvEKNrpcCDxNCIhJLw=s64",
      "userId": "08357207907825346919"
     },
     "user_tz": -330
    },
    "id": "q_P757oOeKOF"
   },
   "outputs": [],
   "source": [
    "!pip install jovian --upgrade --quiet"
   ]
  },
  {
   "cell_type": "code",
   "execution_count": 3,
   "metadata": {
    "executionInfo": {
     "elapsed": 39,
     "status": "ok",
     "timestamp": 1632330727693,
     "user": {
      "displayName": "Prabin Kumar Nayak",
      "photoUrl": "https://lh3.googleusercontent.com/a-/AOh14GjoVsNpk3w81WtIWsA-15IhGvEKNrpcCDxNCIhJLw=s64",
      "userId": "08357207907825346919"
     },
     "user_tz": -330
    },
    "id": "qYrhE3GQeKOH"
   },
   "outputs": [],
   "source": [
    "import jovian"
   ]
  },
  {
   "cell_type": "code",
   "execution_count": 4,
   "metadata": {
    "colab": {
     "base_uri": "https://localhost:8080/",
     "height": 128
    },
    "executionInfo": {
     "elapsed": 7397,
     "status": "ok",
     "timestamp": 1632330735053,
     "user": {
      "displayName": "Prabin Kumar Nayak",
      "photoUrl": "https://lh3.googleusercontent.com/a-/AOh14GjoVsNpk3w81WtIWsA-15IhGvEKNrpcCDxNCIhJLw=s64",
      "userId": "08357207907825346919"
     },
     "user_tz": -330
    },
    "id": "aL3UU6vkeKOJ",
    "outputId": "a12a6ea3-ec5f-428a-9f8b-6d2e98704126"
   },
   "outputs": [
    {
     "name": "stdout",
     "output_type": "stream",
     "text": [
      "[jovian] Detected Colab notebook...\u001b[0m\n",
      "[jovian] Please enter your API key ( from https://jovian.ai/ ):\u001b[0m\n",
      "API KEY: ··········\n",
      "[jovian] Uploading colab notebook to Jovian...\u001b[0m\n",
      "Committed successfully! https://jovian.ai/pknayak0707-job/av-job-a-thon-sept2021\n"
     ]
    },
    {
     "data": {
      "application/vnd.google.colaboratory.intrinsic+json": {
       "type": "string"
      },
      "text/plain": [
       "'https://jovian.ai/pknayak0707-job/av-job-a-thon-sept2021'"
      ]
     },
     "execution_count": 4,
     "metadata": {},
     "output_type": "execute_result"
    }
   ],
   "source": [
    "# Execute this to save new versions of the notebook\n",
    "jovian.commit(project=\"av-job-a-thon-sept2021\")"
   ]
  },
  {
   "cell_type": "markdown",
   "metadata": {
    "id": "hLt07ZFdeWR2"
   },
   "source": [
    "## Step 1: Importing and Merging Data"
   ]
  },
  {
   "cell_type": "code",
   "execution_count": 5,
   "metadata": {
    "colab": {
     "base_uri": "https://localhost:8080/"
    },
    "executionInfo": {
     "elapsed": 93470,
     "status": "ok",
     "timestamp": 1632330831688,
     "user": {
      "displayName": "Prabin Kumar Nayak",
      "photoUrl": "https://lh3.googleusercontent.com/a-/AOh14GjoVsNpk3w81WtIWsA-15IhGvEKNrpcCDxNCIhJLw=s64",
      "userId": "08357207907825346919"
     },
     "user_tz": -330
    },
    "id": "U8eOsQfjeKOK",
    "outputId": "326f51af-7617-4958-a445-dac1b1401acb"
   },
   "outputs": [
    {
     "name": "stdout",
     "output_type": "stream",
     "text": [
      "Mounted at /content/drive\n"
     ]
    }
   ],
   "source": [
    "# Load the Drive helper and mount the drive instance\n",
    "from google.colab import drive\n",
    "drive.mount('/content/drive')"
   ]
  },
  {
   "cell_type": "code",
   "execution_count": 6,
   "metadata": {
    "executionInfo": {
     "elapsed": 22,
     "status": "ok",
     "timestamp": 1632330831690,
     "user": {
      "displayName": "Prabin Kumar Nayak",
      "photoUrl": "https://lh3.googleusercontent.com/a-/AOh14GjoVsNpk3w81WtIWsA-15IhGvEKNrpcCDxNCIhJLw=s64",
      "userId": "08357207907825346919"
     },
     "user_tz": -330
    },
    "id": "tuT6QmFCemua"
   },
   "outputs": [],
   "source": [
    "# Suppressing Warnings\n",
    "import warnings\n",
    "warnings.filterwarnings('ignore')"
   ]
  },
  {
   "cell_type": "code",
   "execution_count": 7,
   "metadata": {
    "executionInfo": {
     "elapsed": 17,
     "status": "ok",
     "timestamp": 1632330831692,
     "user": {
      "displayName": "Prabin Kumar Nayak",
      "photoUrl": "https://lh3.googleusercontent.com/a-/AOh14GjoVsNpk3w81WtIWsA-15IhGvEKNrpcCDxNCIhJLw=s64",
      "userId": "08357207907825346919"
     },
     "user_tz": -330
    },
    "id": "RyXd8uwKep7M"
   },
   "outputs": [],
   "source": [
    "# Importing Pandas and NumPy\n",
    "import pandas as pd, numpy as np"
   ]
  },
  {
   "cell_type": "code",
   "execution_count": 8,
   "metadata": {
    "executionInfo": {
     "elapsed": 755,
     "status": "ok",
     "timestamp": 1632330866689,
     "user": {
      "displayName": "Prabin Kumar Nayak",
      "photoUrl": "https://lh3.googleusercontent.com/a-/AOh14GjoVsNpk3w81WtIWsA-15IhGvEKNrpcCDxNCIhJLw=s64",
      "userId": "08357207907825346919"
     },
     "user_tz": -330
    },
    "id": "vKrBSplqesst"
   },
   "outputs": [],
   "source": [
    "# the path of the loaction where the data is present\n",
    "data_dir = '/content/drive/MyDrive/Professional/Coding Challenges/Analytics Vidhya/Job-a-thon Sept 2021'"
   ]
  },
  {
   "cell_type": "code",
   "execution_count": null,
   "metadata": {
    "colab": {
     "base_uri": "https://localhost:8080/",
     "height": 54
    },
    "executionInfo": {
     "elapsed": 16,
     "status": "ok",
     "timestamp": 1632026254403,
     "user": {
      "displayName": "Prabin Kumar Nayak",
      "photoUrl": "https://lh3.googleusercontent.com/a-/AOh14GjoVsNpk3w81WtIWsA-15IhGvEKNrpcCDxNCIhJLw=s64",
      "userId": "08357207907825346919"
     },
     "user_tz": -330
    },
    "id": "cUC1N1cOeubl",
    "outputId": "208329d8-02d7-42c3-a22a-1e29cd7d6da0"
   },
   "outputs": [
    {
     "data": {
      "application/vnd.google.colaboratory.intrinsic+json": {
       "type": "string"
      },
      "text/plain": [
       "'/content/drive/MyDrive/Professional/Coding Challenges/Analytics Vidhya/Job-a-thon Sept 2021/TRAIN.csv'"
      ]
     },
     "execution_count": 11,
     "metadata": {},
     "output_type": "execute_result"
    }
   ],
   "source": [
    "original_train_path = data_dir + '/TRAIN.csv'\n",
    "original_train_path"
   ]
  },
  {
   "cell_type": "code",
   "execution_count": null,
   "metadata": {
    "colab": {
     "base_uri": "https://localhost:8080/",
     "height": 226
    },
    "executionInfo": {
     "elapsed": 1576,
     "status": "ok",
     "timestamp": 1632026257802,
     "user": {
      "displayName": "Prabin Kumar Nayak",
      "photoUrl": "https://lh3.googleusercontent.com/a-/AOh14GjoVsNpk3w81WtIWsA-15IhGvEKNrpcCDxNCIhJLw=s64",
      "userId": "08357207907825346919"
     },
     "user_tz": -330
    },
    "id": "h5tQf-yofmrF",
    "outputId": "cd563955-92c3-4357-95ea-8dc8dea64c2f"
   },
   "outputs": [
    {
     "data": {
      "text/html": [
       "<div>\n",
       "<style scoped>\n",
       "    .dataframe tbody tr th:only-of-type {\n",
       "        vertical-align: middle;\n",
       "    }\n",
       "\n",
       "    .dataframe tbody tr th {\n",
       "        vertical-align: top;\n",
       "    }\n",
       "\n",
       "    .dataframe thead th {\n",
       "        text-align: right;\n",
       "    }\n",
       "</style>\n",
       "<table border=\"1\" class=\"dataframe\">\n",
       "  <thead>\n",
       "    <tr style=\"text-align: right;\">\n",
       "      <th></th>\n",
       "      <th>ID</th>\n",
       "      <th>Store_id</th>\n",
       "      <th>Store_Type</th>\n",
       "      <th>Location_Type</th>\n",
       "      <th>Region_Code</th>\n",
       "      <th>Date</th>\n",
       "      <th>Holiday</th>\n",
       "      <th>Discount</th>\n",
       "      <th>#Order</th>\n",
       "      <th>Sales</th>\n",
       "    </tr>\n",
       "  </thead>\n",
       "  <tbody>\n",
       "    <tr>\n",
       "      <th>0</th>\n",
       "      <td>T1000001</td>\n",
       "      <td>1</td>\n",
       "      <td>S1</td>\n",
       "      <td>L3</td>\n",
       "      <td>R1</td>\n",
       "      <td>2018-01-01</td>\n",
       "      <td>1</td>\n",
       "      <td>Yes</td>\n",
       "      <td>9</td>\n",
       "      <td>7011.84</td>\n",
       "    </tr>\n",
       "    <tr>\n",
       "      <th>1</th>\n",
       "      <td>T1000002</td>\n",
       "      <td>253</td>\n",
       "      <td>S4</td>\n",
       "      <td>L2</td>\n",
       "      <td>R1</td>\n",
       "      <td>2018-01-01</td>\n",
       "      <td>1</td>\n",
       "      <td>Yes</td>\n",
       "      <td>60</td>\n",
       "      <td>51789.12</td>\n",
       "    </tr>\n",
       "    <tr>\n",
       "      <th>2</th>\n",
       "      <td>T1000003</td>\n",
       "      <td>252</td>\n",
       "      <td>S3</td>\n",
       "      <td>L2</td>\n",
       "      <td>R1</td>\n",
       "      <td>2018-01-01</td>\n",
       "      <td>1</td>\n",
       "      <td>Yes</td>\n",
       "      <td>42</td>\n",
       "      <td>36868.20</td>\n",
       "    </tr>\n",
       "    <tr>\n",
       "      <th>3</th>\n",
       "      <td>T1000004</td>\n",
       "      <td>251</td>\n",
       "      <td>S2</td>\n",
       "      <td>L3</td>\n",
       "      <td>R1</td>\n",
       "      <td>2018-01-01</td>\n",
       "      <td>1</td>\n",
       "      <td>Yes</td>\n",
       "      <td>23</td>\n",
       "      <td>19715.16</td>\n",
       "    </tr>\n",
       "    <tr>\n",
       "      <th>4</th>\n",
       "      <td>T1000005</td>\n",
       "      <td>250</td>\n",
       "      <td>S2</td>\n",
       "      <td>L3</td>\n",
       "      <td>R4</td>\n",
       "      <td>2018-01-01</td>\n",
       "      <td>1</td>\n",
       "      <td>Yes</td>\n",
       "      <td>62</td>\n",
       "      <td>45614.52</td>\n",
       "    </tr>\n",
       "  </tbody>\n",
       "</table>\n",
       "</div>"
      ],
      "text/plain": [
       "         ID  Store_id Store_Type  ... Discount #Order     Sales\n",
       "0  T1000001         1         S1  ...      Yes      9   7011.84\n",
       "1  T1000002       253         S4  ...      Yes     60  51789.12\n",
       "2  T1000003       252         S3  ...      Yes     42  36868.20\n",
       "3  T1000004       251         S2  ...      Yes     23  19715.16\n",
       "4  T1000005       250         S2  ...      Yes     62  45614.52\n",
       "\n",
       "[5 rows x 10 columns]"
      ]
     },
     "execution_count": 12,
     "metadata": {},
     "output_type": "execute_result"
    }
   ],
   "source": [
    "sales_train_df = pd.read_csv(original_train_path)\n",
    "sales_train_df.head(5)"
   ]
  },
  {
   "cell_type": "code",
   "execution_count": null,
   "metadata": {
    "colab": {
     "base_uri": "https://localhost:8080/"
    },
    "executionInfo": {
     "elapsed": 15,
     "status": "ok",
     "timestamp": 1632026257804,
     "user": {
      "displayName": "Prabin Kumar Nayak",
      "photoUrl": "https://lh3.googleusercontent.com/a-/AOh14GjoVsNpk3w81WtIWsA-15IhGvEKNrpcCDxNCIhJLw=s64",
      "userId": "08357207907825346919"
     },
     "user_tz": -330
    },
    "id": "rDqCb0WhkDrG",
    "outputId": "ceb76877-aedd-4304-deb4-9ab0b2ba967a"
   },
   "outputs": [
    {
     "data": {
      "text/plain": [
       "Index(['ID', 'Store_id', 'Store_Type', 'Location_Type', 'Region_Code', 'Date',\n",
       "       'Holiday', 'Discount', '#Order', 'Sales'],\n",
       "      dtype='object')"
      ]
     },
     "execution_count": 13,
     "metadata": {},
     "output_type": "execute_result"
    }
   ],
   "source": [
    "sales_train_df.columns"
   ]
  },
  {
   "cell_type": "code",
   "execution_count": null,
   "metadata": {
    "id": "5MXZIuyuyV6P"
   },
   "outputs": [],
   "source": [
    "#/content/drive/MyDrive/Professional/Coding Challenges/Analytics Vidhya/Job-a-thon Sept 2021/TEST_FINAL.csv"
   ]
  },
  {
   "cell_type": "code",
   "execution_count": null,
   "metadata": {
    "colab": {
     "base_uri": "https://localhost:8080/"
    },
    "executionInfo": {
     "elapsed": 19,
     "status": "ok",
     "timestamp": 1632026260753,
     "user": {
      "displayName": "Prabin Kumar Nayak",
      "photoUrl": "https://lh3.googleusercontent.com/a-/AOh14GjoVsNpk3w81WtIWsA-15IhGvEKNrpcCDxNCIhJLw=s64",
      "userId": "08357207907825346919"
     },
     "user_tz": -330
    },
    "id": "JfJ5KdPuyXZ_",
    "outputId": "6d2af26b-ff98-4a3e-fb9b-2924f162d267"
   },
   "outputs": [
    {
     "name": "stdout",
     "output_type": "stream",
     "text": [
      "'Data Dictionary.gsheet'   SAMPLE.csv   TEST_FINAL.csv\t TRAIN.csv\n"
     ]
    }
   ],
   "source": [
    "# escape character\n",
    "!ls /content/drive/MyDrive/Professional/Coding\\ Challenges/Analytics\\ Vidhya/Job-a-thon\\ Sept\\ 2021"
   ]
  },
  {
   "cell_type": "code",
   "execution_count": null,
   "metadata": {
    "colab": {
     "base_uri": "https://localhost:8080/",
     "height": 206
    },
    "executionInfo": {
     "elapsed": 10,
     "status": "ok",
     "timestamp": 1632026264184,
     "user": {
      "displayName": "Prabin Kumar Nayak",
      "photoUrl": "https://lh3.googleusercontent.com/a-/AOh14GjoVsNpk3w81WtIWsA-15IhGvEKNrpcCDxNCIhJLw=s64",
      "userId": "08357207907825346919"
     },
     "user_tz": -330
    },
    "id": "M8vANTU9ueDX",
    "outputId": "46acf0bb-cb46-4130-f79e-6e8471dbf455"
   },
   "outputs": [
    {
     "data": {
      "text/html": [
       "<div>\n",
       "<style scoped>\n",
       "    .dataframe tbody tr th:only-of-type {\n",
       "        vertical-align: middle;\n",
       "    }\n",
       "\n",
       "    .dataframe tbody tr th {\n",
       "        vertical-align: top;\n",
       "    }\n",
       "\n",
       "    .dataframe thead th {\n",
       "        text-align: right;\n",
       "    }\n",
       "</style>\n",
       "<table border=\"1\" class=\"dataframe\">\n",
       "  <thead>\n",
       "    <tr style=\"text-align: right;\">\n",
       "      <th></th>\n",
       "      <th>ID</th>\n",
       "      <th>Store_id</th>\n",
       "      <th>Store_Type</th>\n",
       "      <th>Location_Type</th>\n",
       "      <th>Region_Code</th>\n",
       "      <th>Date</th>\n",
       "      <th>Holiday</th>\n",
       "      <th>Discount</th>\n",
       "    </tr>\n",
       "  </thead>\n",
       "  <tbody>\n",
       "    <tr>\n",
       "      <th>0</th>\n",
       "      <td>T1188341</td>\n",
       "      <td>171</td>\n",
       "      <td>S4</td>\n",
       "      <td>L2</td>\n",
       "      <td>R3</td>\n",
       "      <td>2019-06-01</td>\n",
       "      <td>0</td>\n",
       "      <td>No</td>\n",
       "    </tr>\n",
       "    <tr>\n",
       "      <th>1</th>\n",
       "      <td>T1188342</td>\n",
       "      <td>172</td>\n",
       "      <td>S1</td>\n",
       "      <td>L1</td>\n",
       "      <td>R1</td>\n",
       "      <td>2019-06-01</td>\n",
       "      <td>0</td>\n",
       "      <td>No</td>\n",
       "    </tr>\n",
       "    <tr>\n",
       "      <th>2</th>\n",
       "      <td>T1188343</td>\n",
       "      <td>173</td>\n",
       "      <td>S4</td>\n",
       "      <td>L2</td>\n",
       "      <td>R1</td>\n",
       "      <td>2019-06-01</td>\n",
       "      <td>0</td>\n",
       "      <td>No</td>\n",
       "    </tr>\n",
       "    <tr>\n",
       "      <th>3</th>\n",
       "      <td>T1188344</td>\n",
       "      <td>174</td>\n",
       "      <td>S1</td>\n",
       "      <td>L1</td>\n",
       "      <td>R4</td>\n",
       "      <td>2019-06-01</td>\n",
       "      <td>0</td>\n",
       "      <td>No</td>\n",
       "    </tr>\n",
       "    <tr>\n",
       "      <th>4</th>\n",
       "      <td>T1188345</td>\n",
       "      <td>170</td>\n",
       "      <td>S1</td>\n",
       "      <td>L1</td>\n",
       "      <td>R2</td>\n",
       "      <td>2019-06-01</td>\n",
       "      <td>0</td>\n",
       "      <td>No</td>\n",
       "    </tr>\n",
       "  </tbody>\n",
       "</table>\n",
       "</div>"
      ],
      "text/plain": [
       "         ID  Store_id Store_Type  ...        Date Holiday Discount\n",
       "0  T1188341       171         S4  ...  2019-06-01       0       No\n",
       "1  T1188342       172         S1  ...  2019-06-01       0       No\n",
       "2  T1188343       173         S4  ...  2019-06-01       0       No\n",
       "3  T1188344       174         S1  ...  2019-06-01       0       No\n",
       "4  T1188345       170         S1  ...  2019-06-01       0       No\n",
       "\n",
       "[5 rows x 8 columns]"
      ]
     },
     "execution_count": 16,
     "metadata": {},
     "output_type": "execute_result"
    }
   ],
   "source": [
    "original_test_path = data_dir + '/TEST_FINAL.csv'\n",
    "sales_test_df = pd.read_csv(original_test_path)\n",
    "sales_test_df.head(5)"
   ]
  },
  {
   "cell_type": "code",
   "execution_count": null,
   "metadata": {
    "colab": {
     "base_uri": "https://localhost:8080/",
     "height": 206
    },
    "executionInfo": {
     "elapsed": 18,
     "status": "ok",
     "timestamp": 1632026267782,
     "user": {
      "displayName": "Prabin Kumar Nayak",
      "photoUrl": "https://lh3.googleusercontent.com/a-/AOh14GjoVsNpk3w81WtIWsA-15IhGvEKNrpcCDxNCIhJLw=s64",
      "userId": "08357207907825346919"
     },
     "user_tz": -330
    },
    "id": "fQOgiQGww2Ve",
    "outputId": "c6fa202a-b40f-47fd-f3a3-f5a56c69cacd"
   },
   "outputs": [
    {
     "data": {
      "text/html": [
       "<div>\n",
       "<style scoped>\n",
       "    .dataframe tbody tr th:only-of-type {\n",
       "        vertical-align: middle;\n",
       "    }\n",
       "\n",
       "    .dataframe tbody tr th {\n",
       "        vertical-align: top;\n",
       "    }\n",
       "\n",
       "    .dataframe thead th {\n",
       "        text-align: right;\n",
       "    }\n",
       "</style>\n",
       "<table border=\"1\" class=\"dataframe\">\n",
       "  <thead>\n",
       "    <tr style=\"text-align: right;\">\n",
       "      <th></th>\n",
       "      <th>ID</th>\n",
       "      <th>Sales</th>\n",
       "    </tr>\n",
       "  </thead>\n",
       "  <tbody>\n",
       "    <tr>\n",
       "      <th>0</th>\n",
       "      <td>T1188341</td>\n",
       "      <td>42275</td>\n",
       "    </tr>\n",
       "    <tr>\n",
       "      <th>1</th>\n",
       "      <td>T1188342</td>\n",
       "      <td>42275</td>\n",
       "    </tr>\n",
       "    <tr>\n",
       "      <th>2</th>\n",
       "      <td>T1188343</td>\n",
       "      <td>42275</td>\n",
       "    </tr>\n",
       "    <tr>\n",
       "      <th>3</th>\n",
       "      <td>T1188344</td>\n",
       "      <td>42275</td>\n",
       "    </tr>\n",
       "    <tr>\n",
       "      <th>4</th>\n",
       "      <td>T1188345</td>\n",
       "      <td>42275</td>\n",
       "    </tr>\n",
       "  </tbody>\n",
       "</table>\n",
       "</div>"
      ],
      "text/plain": [
       "         ID  Sales\n",
       "0  T1188341  42275\n",
       "1  T1188342  42275\n",
       "2  T1188343  42275\n",
       "3  T1188344  42275\n",
       "4  T1188345  42275"
      ]
     },
     "execution_count": 17,
     "metadata": {},
     "output_type": "execute_result"
    }
   ],
   "source": [
    "sample_sub = pd.read_csv(data_dir + '/SAMPLE.csv')\n",
    "sample_sub.head(5)"
   ]
  },
  {
   "cell_type": "code",
   "execution_count": null,
   "metadata": {
    "colab": {
     "base_uri": "https://localhost:8080/"
    },
    "executionInfo": {
     "elapsed": 10,
     "status": "ok",
     "timestamp": 1632026269378,
     "user": {
      "displayName": "Prabin Kumar Nayak",
      "photoUrl": "https://lh3.googleusercontent.com/a-/AOh14GjoVsNpk3w81WtIWsA-15IhGvEKNrpcCDxNCIhJLw=s64",
      "userId": "08357207907825346919"
     },
     "user_tz": -330
    },
    "id": "VyIcm5FgWptt",
    "outputId": "3587faf5-a320-4f41-c5d2-956e63e4346e"
   },
   "outputs": [
    {
     "data": {
      "text/plain": [
       "(22265, 2)"
      ]
     },
     "execution_count": 18,
     "metadata": {},
     "output_type": "execute_result"
    }
   ],
   "source": [
    "sample_sub.shape"
   ]
  },
  {
   "cell_type": "code",
   "execution_count": null,
   "metadata": {
    "colab": {
     "base_uri": "https://localhost:8080/",
     "height": 91
    },
    "executionInfo": {
     "elapsed": 1964,
     "status": "ok",
     "timestamp": 1631969293167,
     "user": {
      "displayName": "Prabin Kumar Nayak",
      "photoUrl": "https://lh3.googleusercontent.com/a-/AOh14GjoVsNpk3w81WtIWsA-15IhGvEKNrpcCDxNCIhJLw=s64",
      "userId": "08357207907825346919"
     },
     "user_tz": -330
    },
    "id": "j_sR3Wg1y-yF",
    "outputId": "e50e258c-97a2-4a4b-e0ec-0f16785182ad"
   },
   "outputs": [
    {
     "name": "stdout",
     "output_type": "stream",
     "text": [
      "[jovian] Detected Colab notebook...\u001b[0m\n",
      "[jovian] Uploading colab notebook to Jovian...\u001b[0m\n",
      "Committed successfully! https://jovian.ai/pknayak0707-job/av-job-a-thon-sept2021\n"
     ]
    },
    {
     "data": {
      "application/vnd.google.colaboratory.intrinsic+json": {
       "type": "string"
      },
      "text/plain": [
       "'https://jovian.ai/pknayak0707-job/av-job-a-thon-sept2021'"
      ]
     },
     "execution_count": 17,
     "metadata": {},
     "output_type": "execute_result"
    }
   ],
   "source": [
    "jovian.commit()"
   ]
  },
  {
   "cell_type": "code",
   "execution_count": null,
   "metadata": {
    "id": "NZnbKF2XzExs"
   },
   "outputs": [],
   "source": []
  },
  {
   "cell_type": "markdown",
   "metadata": {
    "id": "8vu9R80WzGjn"
   },
   "source": [
    "## Step 2: Inspecting the Dataframe"
   ]
  },
  {
   "cell_type": "markdown",
   "metadata": {
    "id": "E9YFpVQ0zK0m"
   },
   "source": [
    "### Shape of the datasets"
   ]
  },
  {
   "cell_type": "code",
   "execution_count": null,
   "metadata": {
    "colab": {
     "base_uri": "https://localhost:8080/"
    },
    "executionInfo": {
     "elapsed": 9,
     "status": "ok",
     "timestamp": 1632026272580,
     "user": {
      "displayName": "Prabin Kumar Nayak",
      "photoUrl": "https://lh3.googleusercontent.com/a-/AOh14GjoVsNpk3w81WtIWsA-15IhGvEKNrpcCDxNCIhJLw=s64",
      "userId": "08357207907825346919"
     },
     "user_tz": -330
    },
    "id": "2nLxg9hnzHfR",
    "outputId": "a80539fc-af1e-40cf-e7f3-da7e3b7cfedb"
   },
   "outputs": [
    {
     "data": {
      "text/plain": [
       "(188340, 10)"
      ]
     },
     "execution_count": 19,
     "metadata": {},
     "output_type": "execute_result"
    }
   ],
   "source": [
    "sales_train_df.shape"
   ]
  },
  {
   "cell_type": "code",
   "execution_count": null,
   "metadata": {
    "colab": {
     "base_uri": "https://localhost:8080/"
    },
    "executionInfo": {
     "elapsed": 11,
     "status": "ok",
     "timestamp": 1632026274189,
     "user": {
      "displayName": "Prabin Kumar Nayak",
      "photoUrl": "https://lh3.googleusercontent.com/a-/AOh14GjoVsNpk3w81WtIWsA-15IhGvEKNrpcCDxNCIhJLw=s64",
      "userId": "08357207907825346919"
     },
     "user_tz": -330
    },
    "id": "4SwOPmrgzPoB",
    "outputId": "f5f1bdbf-bea9-40a4-a5ae-bde7b747a68c"
   },
   "outputs": [
    {
     "data": {
      "text/plain": [
       "(22265, 8)"
      ]
     },
     "execution_count": 20,
     "metadata": {},
     "output_type": "execute_result"
    }
   ],
   "source": [
    "sales_test_df.shape"
   ]
  },
  {
   "cell_type": "code",
   "execution_count": null,
   "metadata": {
    "colab": {
     "base_uri": "https://localhost:8080/"
    },
    "executionInfo": {
     "elapsed": 374,
     "status": "ok",
     "timestamp": 1632026277129,
     "user": {
      "displayName": "Prabin Kumar Nayak",
      "photoUrl": "https://lh3.googleusercontent.com/a-/AOh14GjoVsNpk3w81WtIWsA-15IhGvEKNrpcCDxNCIhJLw=s64",
      "userId": "08357207907825346919"
     },
     "user_tz": -330
    },
    "id": "Vj5uf_0gzXSG",
    "outputId": "b653a98e-cd65-4f02-e9e7-a156dd441481"
   },
   "outputs": [
    {
     "data": {
      "text/plain": [
       "['#Order', 'Sales']"
      ]
     },
     "execution_count": 21,
     "metadata": {},
     "output_type": "execute_result"
    }
   ],
   "source": [
    "[x for x in sales_train_df.columns if x not in sales_test_df.columns]"
   ]
  },
  {
   "cell_type": "markdown",
   "metadata": {
    "id": "R7m2xfBf0C4o"
   },
   "source": [
    "The columns `#Order`, `Sales` "
   ]
  },
  {
   "cell_type": "markdown",
   "metadata": {
    "id": "kgjqKSFq2S5d"
   },
   "source": [
    "### Unique Values of the columns"
   ]
  },
  {
   "cell_type": "code",
   "execution_count": null,
   "metadata": {
    "colab": {
     "base_uri": "https://localhost:8080/"
    },
    "executionInfo": {
     "elapsed": 653,
     "status": "ok",
     "timestamp": 1632026281540,
     "user": {
      "displayName": "Prabin Kumar Nayak",
      "photoUrl": "https://lh3.googleusercontent.com/a-/AOh14GjoVsNpk3w81WtIWsA-15IhGvEKNrpcCDxNCIhJLw=s64",
      "userId": "08357207907825346919"
     },
     "user_tz": -330
    },
    "id": "cR9ot0SD2Lhc",
    "outputId": "18b27dbc-e60b-4a4e-f252-4626fee4c06e"
   },
   "outputs": [
    {
     "name": "stdout",
     "output_type": "stream",
     "text": [
      "ID\n",
      "----------Unique values in ID column-------------------\n",
      "['T1000001' 'T1000002' 'T1000003' ... 'T1188338' 'T1188339' 'T1188340']\n",
      "Store_id\n",
      "----------Unique values in Store_id column-------------------\n",
      "[  1 253 252 251 250 249 248 247 246 254 245  11 243 242 241 240 239 238\n",
      " 237 244 236 255 256 273 272 271 270 269 268   9 267  10 266 264 263 262\n",
      " 261 260 259 258 257 265 235 234 233 211 210 209 208 207  14 206 205 212\n",
      " 204 202 201 200 199 198 197 196 195 203 213 214 215 232  12 231 230 229\n",
      " 228 227 226 225 224 223 222 221 220 219  13 218 217 216 274  15 275 277\n",
      " 335 334 333 332 331 330   4 329 336 328 326 325 324 323 322 321 320 319\n",
      " 327 318 337 339 355 354   2 353 352 351 350 349 338 348 346 345 344 343\n",
      " 342   3 341 340 347 317   5 316 293   7 292 291 290 289 288 287 294 286\n",
      " 284 283 282 281   8 280 279 278 285 295 296 297 315 314 313 312 311 310\n",
      " 309 308 307 306 305   6 304 303 302 301 300 299 298 276 194 193 192  87\n",
      "  86  85  24  84  83  82  81  88  80  78  77  76  75  74  73  72  25  79\n",
      "  71  89  91 108 107 106 105 104 103 102 101  90 100  98  97  23  96  95\n",
      "  94  93  92  99  70  69  68  46  45  44  43  42  41  40  39  47  38  36\n",
      "  28  35  34  33  32  31  30  37  27  48  49  67  66  65  64  63  62  61\n",
      "  60  26  59  58  57  56  55  54  53  52  51  50  22 109 110 111  17 169\n",
      " 168 167 166 165 164 163 170 162 160 159 158  18 157 156 155 154 161 171\n",
      " 172 173 191 190 189 188 187 186 185 184 183  16 182 181 180 179 178 177\n",
      " 176 175 174 153 356 152 150 128 127 126 125 124 123 122 121 129  21 119\n",
      " 118 117 116 115 114 113 112 120 130 131 132 149 148 147 146  19 145 144\n",
      " 143 142 141 140 139 138 137 136 135 134  20 133 151 357  29 365 361 358\n",
      " 359 362 363 360 364]\n",
      "Store_Type\n",
      "----------Unique values in Store_Type column-------------------\n",
      "['S1' 'S4' 'S3' 'S2']\n",
      "Location_Type\n",
      "----------Unique values in Location_Type column-------------------\n",
      "['L3' 'L2' 'L1' 'L5' 'L4']\n",
      "Region_Code\n",
      "----------Unique values in Region_Code column-------------------\n",
      "['R1' 'R4' 'R2' 'R3']\n",
      "Date\n",
      "----------Unique values in Date column-------------------\n",
      "['2018-01-01' '2018-01-02' '2018-01-03' '2018-01-04' '2018-01-05'\n",
      " '2018-01-06' '2018-01-07' '2018-01-08' '2018-01-09' '2018-01-10'\n",
      " '2018-01-11' '2018-01-12' '2018-01-13' '2018-01-14' '2018-01-15'\n",
      " '2018-01-16' '2018-01-17' '2018-01-18' '2018-01-19' '2018-01-20'\n",
      " '2018-01-21' '2018-01-22' '2018-01-23' '2018-01-24' '2018-01-25'\n",
      " '2018-01-26' '2018-01-27' '2018-01-28' '2018-01-29' '2018-01-30'\n",
      " '2018-01-31' '2018-02-01' '2018-02-02' '2018-02-03' '2018-02-04'\n",
      " '2018-02-05' '2018-02-06' '2018-02-07' '2018-02-08' '2018-02-09'\n",
      " '2018-02-10' '2018-02-11' '2018-02-12' '2018-02-13' '2018-02-14'\n",
      " '2018-02-15' '2018-02-16' '2018-02-17' '2018-02-18' '2018-02-19'\n",
      " '2018-02-20' '2018-02-21' '2018-02-22' '2018-02-23' '2018-02-24'\n",
      " '2018-02-25' '2018-02-26' '2018-02-27' '2018-02-28' '2018-03-01'\n",
      " '2018-03-02' '2018-03-03' '2018-03-04' '2018-03-05' '2018-03-06'\n",
      " '2018-03-07' '2018-03-08' '2018-03-09' '2018-03-10' '2018-03-11'\n",
      " '2018-03-12' '2018-03-13' '2018-03-14' '2018-03-15' '2018-03-16'\n",
      " '2018-03-17' '2018-03-18' '2018-03-19' '2018-03-20' '2018-03-21'\n",
      " '2018-03-22' '2018-03-23' '2018-03-24' '2018-03-25' '2018-03-26'\n",
      " '2018-03-27' '2018-03-28' '2018-03-29' '2018-03-30' '2018-03-31'\n",
      " '2018-04-01' '2018-04-02' '2018-04-03' '2018-04-04' '2018-04-05'\n",
      " '2018-04-06' '2018-04-07' '2018-04-08' '2018-04-09' '2018-04-10'\n",
      " '2018-04-11' '2018-04-12' '2018-04-13' '2018-04-14' '2018-04-15'\n",
      " '2018-04-16' '2018-04-17' '2018-04-18' '2018-04-19' '2018-04-20'\n",
      " '2018-04-21' '2018-04-22' '2018-04-23' '2018-04-24' '2018-04-25'\n",
      " '2018-04-26' '2018-04-27' '2018-04-28' '2018-04-29' '2018-04-30'\n",
      " '2018-05-01' '2018-05-02' '2018-05-03' '2018-05-04' '2018-05-05'\n",
      " '2018-05-06' '2018-05-07' '2018-05-08' '2018-05-09' '2018-05-10'\n",
      " '2018-05-11' '2018-05-12' '2018-05-13' '2018-05-14' '2018-05-15'\n",
      " '2018-05-16' '2018-05-17' '2018-05-18' '2018-05-19' '2018-05-20'\n",
      " '2018-05-21' '2018-05-22' '2018-05-23' '2018-05-24' '2018-05-25'\n",
      " '2018-05-26' '2018-05-27' '2018-05-28' '2018-05-29' '2018-05-30'\n",
      " '2018-05-31' '2018-06-01' '2018-06-02' '2018-06-03' '2018-06-04'\n",
      " '2018-06-05' '2018-06-06' '2018-06-07' '2018-06-08' '2018-06-09'\n",
      " '2018-06-10' '2018-06-11' '2018-06-12' '2018-06-13' '2018-06-14'\n",
      " '2018-06-15' '2018-06-16' '2018-06-17' '2018-06-18' '2018-06-19'\n",
      " '2018-06-20' '2018-06-21' '2018-06-22' '2018-06-23' '2018-06-24'\n",
      " '2018-06-25' '2018-06-26' '2018-06-27' '2018-06-28' '2018-06-29'\n",
      " '2018-06-30' '2018-07-01' '2018-07-02' '2018-07-03' '2018-07-04'\n",
      " '2018-07-05' '2018-07-06' '2018-07-07' '2018-07-08' '2018-07-09'\n",
      " '2018-07-10' '2018-07-11' '2018-07-12' '2018-07-13' '2018-07-14'\n",
      " '2018-07-15' '2018-07-16' '2018-07-17' '2018-07-18' '2018-07-19'\n",
      " '2018-07-20' '2018-07-21' '2018-07-22' '2018-07-23' '2018-07-24'\n",
      " '2018-07-25' '2018-07-26' '2018-07-27' '2018-07-28' '2018-07-29'\n",
      " '2018-07-30' '2018-07-31' '2018-08-01' '2018-08-02' '2018-08-03'\n",
      " '2018-08-04' '2018-08-05' '2018-08-06' '2018-08-07' '2018-08-08'\n",
      " '2018-08-09' '2018-08-10' '2018-08-11' '2018-08-12' '2018-08-13'\n",
      " '2018-08-14' '2018-08-15' '2018-08-16' '2018-08-17' '2018-08-18'\n",
      " '2018-08-19' '2018-08-20' '2018-08-21' '2018-08-22' '2018-08-23'\n",
      " '2018-08-24' '2018-08-25' '2018-08-26' '2018-08-27' '2018-08-28'\n",
      " '2018-08-29' '2018-08-30' '2018-08-31' '2018-09-01' '2018-09-02'\n",
      " '2018-09-03' '2018-09-04' '2018-09-05' '2018-09-06' '2018-09-07'\n",
      " '2018-09-08' '2018-09-09' '2018-09-10' '2018-09-11' '2018-09-12'\n",
      " '2018-09-13' '2018-09-14' '2018-09-15' '2018-09-16' '2018-09-17'\n",
      " '2018-09-18' '2018-09-19' '2018-09-20' '2018-09-21' '2018-09-22'\n",
      " '2018-09-23' '2018-09-24' '2018-09-25' '2018-09-26' '2018-09-27'\n",
      " '2018-09-28' '2018-09-29' '2018-09-30' '2018-10-01' '2018-10-02'\n",
      " '2018-10-03' '2018-10-04' '2018-10-05' '2018-10-06' '2018-10-07'\n",
      " '2018-10-08' '2018-10-09' '2018-10-10' '2018-10-11' '2018-10-12'\n",
      " '2018-10-13' '2018-10-14' '2018-10-15' '2018-10-16' '2018-10-17'\n",
      " '2018-10-18' '2018-10-19' '2018-10-20' '2018-10-21' '2018-10-22'\n",
      " '2018-10-23' '2018-10-24' '2018-10-25' '2018-10-26' '2018-10-27'\n",
      " '2018-10-28' '2018-10-29' '2018-10-30' '2018-10-31' '2018-11-01'\n",
      " '2018-11-02' '2018-11-03' '2018-11-04' '2018-11-05' '2018-11-06'\n",
      " '2018-11-07' '2018-11-08' '2018-11-09' '2018-11-10' '2018-11-11'\n",
      " '2018-11-12' '2018-11-13' '2018-11-14' '2018-11-15' '2018-11-16'\n",
      " '2018-11-17' '2018-11-18' '2018-11-19' '2018-11-20' '2018-11-21'\n",
      " '2018-11-22' '2018-11-23' '2018-11-24' '2018-11-25' '2018-11-26'\n",
      " '2018-11-27' '2018-11-28' '2018-11-29' '2018-11-30' '2018-12-01'\n",
      " '2018-12-02' '2018-12-03' '2018-12-04' '2018-12-05' '2018-12-06'\n",
      " '2018-12-07' '2018-12-08' '2018-12-09' '2018-12-10' '2018-12-11'\n",
      " '2018-12-12' '2018-12-13' '2018-12-14' '2018-12-15' '2018-12-16'\n",
      " '2018-12-17' '2018-12-18' '2018-12-19' '2018-12-20' '2018-12-21'\n",
      " '2018-12-22' '2018-12-23' '2018-12-24' '2018-12-25' '2018-12-26'\n",
      " '2018-12-27' '2018-12-28' '2018-12-29' '2018-12-30' '2018-12-31'\n",
      " '2019-01-01' '2019-01-02' '2019-01-03' '2019-01-04' '2019-01-05'\n",
      " '2019-01-06' '2019-01-07' '2019-01-08' '2019-01-09' '2019-01-10'\n",
      " '2019-01-11' '2019-01-12' '2019-01-13' '2019-01-14' '2019-01-15'\n",
      " '2019-01-16' '2019-01-17' '2019-01-18' '2019-01-19' '2019-01-20'\n",
      " '2019-01-21' '2019-01-22' '2019-01-23' '2019-01-24' '2019-01-25'\n",
      " '2019-01-26' '2019-01-27' '2019-01-28' '2019-01-29' '2019-01-30'\n",
      " '2019-01-31' '2019-02-01' '2019-02-02' '2019-02-03' '2019-02-04'\n",
      " '2019-02-05' '2019-02-06' '2019-02-07' '2019-02-08' '2019-02-09'\n",
      " '2019-02-10' '2019-02-11' '2019-02-12' '2019-02-13' '2019-02-14'\n",
      " '2019-02-15' '2019-02-16' '2019-02-17' '2019-02-18' '2019-02-19'\n",
      " '2019-02-20' '2019-02-21' '2019-02-22' '2019-02-23' '2019-02-24'\n",
      " '2019-02-25' '2019-02-26' '2019-02-27' '2019-02-28' '2019-03-01'\n",
      " '2019-03-02' '2019-03-03' '2019-03-04' '2019-03-05' '2019-03-06'\n",
      " '2019-03-07' '2019-03-08' '2019-03-09' '2019-03-10' '2019-03-11'\n",
      " '2019-03-12' '2019-03-13' '2019-03-14' '2019-03-15' '2019-03-16'\n",
      " '2019-03-17' '2019-03-18' '2019-03-19' '2019-03-20' '2019-03-21'\n",
      " '2019-03-22' '2019-03-23' '2019-03-24' '2019-03-25' '2019-03-26'\n",
      " '2019-03-27' '2019-03-28' '2019-03-29' '2019-03-30' '2019-03-31'\n",
      " '2019-04-01' '2019-04-02' '2019-04-03' '2019-04-04' '2019-04-05'\n",
      " '2019-04-06' '2019-04-07' '2019-04-08' '2019-04-09' '2019-04-10'\n",
      " '2019-04-11' '2019-04-12' '2019-04-13' '2019-04-14' '2019-04-15'\n",
      " '2019-04-16' '2019-04-17' '2019-04-18' '2019-04-19' '2019-04-20'\n",
      " '2019-04-21' '2019-04-22' '2019-04-23' '2019-04-24' '2019-04-25'\n",
      " '2019-04-26' '2019-04-27' '2019-04-28' '2019-04-29' '2019-04-30'\n",
      " '2019-05-01' '2019-05-02' '2019-05-03' '2019-05-04' '2019-05-05'\n",
      " '2019-05-06' '2019-05-07' '2019-05-08' '2019-05-09' '2019-05-10'\n",
      " '2019-05-11' '2019-05-12' '2019-05-13' '2019-05-14' '2019-05-15'\n",
      " '2019-05-16' '2019-05-17' '2019-05-18' '2019-05-19' '2019-05-20'\n",
      " '2019-05-21' '2019-05-22' '2019-05-23' '2019-05-24' '2019-05-25'\n",
      " '2019-05-26' '2019-05-27' '2019-05-28' '2019-05-29' '2019-05-30'\n",
      " '2019-05-31']\n",
      "Holiday\n",
      "----------Unique values in Holiday column-------------------\n",
      "[1 0]\n",
      "Discount\n",
      "----------Unique values in Discount column-------------------\n",
      "['Yes' 'No']\n",
      "#Order\n",
      "----------Unique values in #Order column-------------------\n",
      "[  9  60  42  23  62  39  40  64  87  36  69  51  56  59  35  29  55  46\n",
      "  63  78  48  38  75  91  49  26  68  27  25  37  45  94  53  73  31  89\n",
      "  66  74  47  77  81  21  41  61  58 118  44 121  32  83  67  52  34  80\n",
      "  57  54  50  71  92  76 111  90  43  72  70  84 132  24  88  65  97 113\n",
      "  30  33  79 108 154  28  85 102 115 125 180  86  96  98 119 100 142 117\n",
      " 146 145 106 112 124 107 152 103  99 189 123 135 126  93 130 116 167  82\n",
      " 181 122 120 104 109 101 128 105 138 169 150 137 133 110  95 170 157 156\n",
      " 144 196 131 209 143 136 140 158 139 184 129 114 201 134 217 166  15 177\n",
      "  16 147  12  17  22  13 155 127 172 168 160 174 151 159 165 141  20  19\n",
      " 149 164  18 163  11 161 183 178 153 185 176 192 162 202 148 193 199 219\n",
      " 194 186 175 207 280 241 182 187 227 245 210 305 173 238 188 232   8  14\n",
      " 197  10   7 215 254 211 179 190 198 269 195 208 242 171   4   6   5 206\n",
      " 251 216 205 229   0 191 253 235 214 230 223 221 225 213 240 252 200 231\n",
      " 239 281 204 220 228 247 290 224 236 203 218 316 250 233 260 226 282 271\n",
      " 285 255 278 222 212 297 244 333 246 237 259 304 234   3   2 292 261 296\n",
      " 257 275 273 249 264 300 306 277 347 293   1 331 302 272 320 267 284 262\n",
      " 283 348 256 371 248 258 294 309 361 291 266]\n",
      "Sales\n",
      "----------Unique values in Sales column-------------------\n",
      "[ 7011.84 51789.12 36868.2  ... 24105.6  54572.64 31624.56]\n"
     ]
    }
   ],
   "source": [
    "for cols in sales_train_df.columns:\n",
    "  print(cols)\n",
    "  print('----------Unique values in '+ cols +' column-------------------')\n",
    "  print(sales_train_df[cols].unique())"
   ]
  },
  {
   "cell_type": "code",
   "execution_count": null,
   "metadata": {
    "colab": {
     "base_uri": "https://localhost:8080/"
    },
    "executionInfo": {
     "elapsed": 16,
     "status": "ok",
     "timestamp": 1632026283065,
     "user": {
      "displayName": "Prabin Kumar Nayak",
      "photoUrl": "https://lh3.googleusercontent.com/a-/AOh14GjoVsNpk3w81WtIWsA-15IhGvEKNrpcCDxNCIhJLw=s64",
      "userId": "08357207907825346919"
     },
     "user_tz": -330
    },
    "id": "k_MNoOYT9mA4",
    "outputId": "7f274c91-012c-416f-c6ed-925adf8b6cb7"
   },
   "outputs": [
    {
     "data": {
      "text/plain": [
       "Store_id\n",
       "1      516\n",
       "2      516\n",
       "3      516\n",
       "4      516\n",
       "5      516\n",
       "      ... \n",
       "361    516\n",
       "362    516\n",
       "363    516\n",
       "364    516\n",
       "365    516\n",
       "Name: ID, Length: 365, dtype: int64"
      ]
     },
     "execution_count": 23,
     "metadata": {},
     "output_type": "execute_result"
    }
   ],
   "source": [
    "sales_train_df.groupby('Store_id').count()['ID']"
   ]
  },
  {
   "cell_type": "code",
   "execution_count": null,
   "metadata": {
    "colab": {
     "base_uri": "https://localhost:8080/"
    },
    "executionInfo": {
     "elapsed": 10,
     "status": "ok",
     "timestamp": 1632026283066,
     "user": {
      "displayName": "Prabin Kumar Nayak",
      "photoUrl": "https://lh3.googleusercontent.com/a-/AOh14GjoVsNpk3w81WtIWsA-15IhGvEKNrpcCDxNCIhJLw=s64",
      "userId": "08357207907825346919"
     },
     "user_tz": -330
    },
    "id": "ARc5xDJm2gbC",
    "outputId": "5ac0caa6-a394-42a7-c30b-9ebe71bdab6f"
   },
   "outputs": [
    {
     "name": "stdout",
     "output_type": "stream",
     "text": [
      "ID\n",
      "----------Unique values in ID column-------------------\n",
      "['T1188341' 'T1188342' 'T1188343' ... 'T1210603' 'T1210604' 'T1210605']\n",
      "Store_id\n",
      "----------Unique values in Store_id column-------------------\n",
      "[171 172 173 174 170 175 176 169  14 177 178 179 185 181 182 183 184 186\n",
      " 187 188 189 190 191 168  13 180 167 142 165 140 141 143 144 145 146 147\n",
      "  16 148 149 150 151 166 152 154 155 156 157 158 159 160 161 162  15 163\n",
      " 164 153 192 246 194 224 225 226 227 228 229 230 231 232 233 234  10 223\n",
      " 235 237 238 239 240 241 242 243 244 245 139 247 248 236 222 221  11 195\n",
      " 196 197 198 199 200 201 202 203 204 205  12 206 207 208 209 210 211 212\n",
      " 213 214 215 216 217 218 219 220 193 138  82 136  54  55  56  57  58  59\n",
      "  60  22  61  62  63  64  53  65  67  68  69  70  71  72  73  74  75  21\n",
      "  76  77  66  52  51  50  26  27 249  28  29  30  31  24  32  33  34  35\n",
      "  36  37  38  39  40  41  42  43  44  45  46  23  47  48  49  78 137  79\n",
      "  81 112 113 114 115 116 117 118  18 119 120 121 122 111 123 125 126 127\n",
      " 128 129 130 131 132 133  17 134 135 124 110 109 108  83  84  85  86  87\n",
      "  88  89  20  90  91  92  93  94  95  96  97  98  99 100 101 102 103 104\n",
      "  19 105 106 107  80   9  25 250 301 302 303 304 305 306 307   5 309 300\n",
      " 310 312 313 314 315 316 317 318 319 320 311 299 298 297 278   7 279 280\n",
      " 281 282 283 284 285 286 287 288 289 290 291 292   6 293 294 295 296 321\n",
      " 277   4 323 348 349 350   2 351 352 353 354 355 347 356 358 359 360 361\n",
      " 362 363 364 365   1 357 346 345 344 324 325 326 327 328 329 330 331 332\n",
      " 333 334 335 336   3 337 338 339 340 341 342 343 322 276 308 265 273 252\n",
      " 264 272 253 260 254 271 259 266 255 270 267 258 269 256 257 261   8 268\n",
      " 251 275 263 262 274]\n",
      "Store_Type\n",
      "----------Unique values in Store_Type column-------------------\n",
      "['S4' 'S1' 'S3' 'S2']\n",
      "Location_Type\n",
      "----------Unique values in Location_Type column-------------------\n",
      "['L2' 'L1' 'L3' 'L5' 'L4']\n",
      "Region_Code\n",
      "----------Unique values in Region_Code column-------------------\n",
      "['R3' 'R1' 'R4' 'R2']\n",
      "Date\n",
      "----------Unique values in Date column-------------------\n",
      "['2019-06-01' '2019-06-02' '2019-06-03' '2019-06-04' '2019-06-05'\n",
      " '2019-06-06' '2019-06-07' '2019-06-08' '2019-06-09' '2019-06-10'\n",
      " '2019-06-11' '2019-06-12' '2019-06-13' '2019-06-14' '2019-06-15'\n",
      " '2019-06-16' '2019-06-17' '2019-06-18' '2019-06-19' '2019-06-20'\n",
      " '2019-06-21' '2019-06-22' '2019-06-23' '2019-06-24' '2019-06-25'\n",
      " '2019-06-26' '2019-06-27' '2019-06-28' '2019-06-29' '2019-06-30'\n",
      " '2019-07-01' '2019-07-02' '2019-07-03' '2019-07-04' '2019-07-05'\n",
      " '2019-07-06' '2019-07-07' '2019-07-08' '2019-07-09' '2019-07-10'\n",
      " '2019-07-11' '2019-07-12' '2019-07-13' '2019-07-14' '2019-07-15'\n",
      " '2019-07-16' '2019-07-17' '2019-07-18' '2019-07-19' '2019-07-20'\n",
      " '2019-07-21' '2019-07-22' '2019-07-23' '2019-07-24' '2019-07-25'\n",
      " '2019-07-26' '2019-07-27' '2019-07-28' '2019-07-29' '2019-07-30'\n",
      " '2019-07-31']\n",
      "Holiday\n",
      "----------Unique values in Holiday column-------------------\n",
      "[0 1]\n",
      "Discount\n",
      "----------Unique values in Discount column-------------------\n",
      "['No' 'Yes']\n"
     ]
    }
   ],
   "source": [
    "for cols in sales_test_df.columns:\n",
    "  print(cols)\n",
    "  print('----------Unique values in '+ cols +' column-------------------')\n",
    "  print(sales_test_df[cols].unique())"
   ]
  },
  {
   "cell_type": "code",
   "execution_count": null,
   "metadata": {
    "colab": {
     "base_uri": "https://localhost:8080/"
    },
    "executionInfo": {
     "elapsed": 7,
     "status": "ok",
     "timestamp": 1632026284860,
     "user": {
      "displayName": "Prabin Kumar Nayak",
      "photoUrl": "https://lh3.googleusercontent.com/a-/AOh14GjoVsNpk3w81WtIWsA-15IhGvEKNrpcCDxNCIhJLw=s64",
      "userId": "08357207907825346919"
     },
     "user_tz": -330
    },
    "id": "0o6MIg_83F1f",
    "outputId": "6280da8d-64df-45b8-9515-24bbeed19c2a"
   },
   "outputs": [
    {
     "name": "stdout",
     "output_type": "stream",
     "text": [
      "<class 'pandas.core.frame.DataFrame'>\n",
      "RangeIndex: 188340 entries, 0 to 188339\n",
      "Data columns (total 10 columns):\n",
      " #   Column         Non-Null Count   Dtype  \n",
      "---  ------         --------------   -----  \n",
      " 0   ID             188340 non-null  object \n",
      " 1   Store_id       188340 non-null  int64  \n",
      " 2   Store_Type     188340 non-null  object \n",
      " 3   Location_Type  188340 non-null  object \n",
      " 4   Region_Code    188340 non-null  object \n",
      " 5   Date           188340 non-null  object \n",
      " 6   Holiday        188340 non-null  int64  \n",
      " 7   Discount       188340 non-null  object \n",
      " 8   #Order         188340 non-null  int64  \n",
      " 9   Sales          188340 non-null  float64\n",
      "dtypes: float64(1), int64(3), object(6)\n",
      "memory usage: 14.4+ MB\n"
     ]
    }
   ],
   "source": [
    "sales_train_df.info()"
   ]
  },
  {
   "cell_type": "code",
   "execution_count": null,
   "metadata": {
    "colab": {
     "base_uri": "https://localhost:8080/"
    },
    "executionInfo": {
     "elapsed": 7,
     "status": "ok",
     "timestamp": 1632026285385,
     "user": {
      "displayName": "Prabin Kumar Nayak",
      "photoUrl": "https://lh3.googleusercontent.com/a-/AOh14GjoVsNpk3w81WtIWsA-15IhGvEKNrpcCDxNCIhJLw=s64",
      "userId": "08357207907825346919"
     },
     "user_tz": -330
    },
    "id": "ptdT7yU03C5D",
    "outputId": "96f9bb8c-1070-4a81-fc30-76cc1acb11b3"
   },
   "outputs": [
    {
     "name": "stdout",
     "output_type": "stream",
     "text": [
      "<class 'pandas.core.frame.DataFrame'>\n",
      "RangeIndex: 22265 entries, 0 to 22264\n",
      "Data columns (total 8 columns):\n",
      " #   Column         Non-Null Count  Dtype \n",
      "---  ------         --------------  ----- \n",
      " 0   ID             22265 non-null  object\n",
      " 1   Store_id       22265 non-null  int64 \n",
      " 2   Store_Type     22265 non-null  object\n",
      " 3   Location_Type  22265 non-null  object\n",
      " 4   Region_Code    22265 non-null  object\n",
      " 5   Date           22265 non-null  object\n",
      " 6   Holiday        22265 non-null  int64 \n",
      " 7   Discount       22265 non-null  object\n",
      "dtypes: int64(2), object(6)\n",
      "memory usage: 1.4+ MB\n"
     ]
    }
   ],
   "source": [
    "sales_test_df.info()"
   ]
  },
  {
   "cell_type": "markdown",
   "metadata": {
    "id": "31lIdbJo3PGJ"
   },
   "source": [
    "\n",
    "\n",
    "*   Discount convert to  biniary 0 and 1 . Then convert into integer data type\n",
    "*   Removing the first character from the columns store_type, location_type and region_type to convert them from categorical object into numerical data type\n",
    "* #Orders column is not present in the test file.Extract info from the orders and tother columns and try to add it to the \n",
    "* Extract the day, month , date from the date field\n"
   ]
  },
  {
   "cell_type": "code",
   "execution_count": null,
   "metadata": {
    "id": "dcWxq7IZ3Cwd"
   },
   "outputs": [],
   "source": []
  },
  {
   "cell_type": "code",
   "execution_count": null,
   "metadata": {
    "id": "wMjCj8QX3CtT"
   },
   "outputs": [],
   "source": []
  },
  {
   "cell_type": "code",
   "execution_count": null,
   "metadata": {
    "id": "xLK9OLxP3Cpt"
   },
   "outputs": [],
   "source": []
  },
  {
   "cell_type": "code",
   "execution_count": null,
   "metadata": {
    "colab": {
     "base_uri": "https://localhost:8080/",
     "height": 91
    },
    "executionInfo": {
     "elapsed": 2111,
     "status": "ok",
     "timestamp": 1631970235690,
     "user": {
      "displayName": "Prabin Kumar Nayak",
      "photoUrl": "https://lh3.googleusercontent.com/a-/AOh14GjoVsNpk3w81WtIWsA-15IhGvEKNrpcCDxNCIhJLw=s64",
      "userId": "08357207907825346919"
     },
     "user_tz": -330
    },
    "id": "F9B4UvAgzzEa",
    "outputId": "940a925d-c031-4c93-e6b1-b5e52a861f0f"
   },
   "outputs": [
    {
     "name": "stdout",
     "output_type": "stream",
     "text": [
      "[jovian] Detected Colab notebook...\u001b[0m\n",
      "[jovian] Uploading colab notebook to Jovian...\u001b[0m\n",
      "Committed successfully! https://jovian.ai/pknayak0707-job/av-job-a-thon-sept2021\n"
     ]
    },
    {
     "data": {
      "application/vnd.google.colaboratory.intrinsic+json": {
       "type": "string"
      },
      "text/plain": [
       "'https://jovian.ai/pknayak0707-job/av-job-a-thon-sept2021'"
      ]
     },
     "execution_count": 52,
     "metadata": {},
     "output_type": "execute_result"
    }
   ],
   "source": [
    "jovian.commit()"
   ]
  },
  {
   "cell_type": "code",
   "execution_count": null,
   "metadata": {
    "id": "n6V0-ovQ2nc1"
   },
   "outputs": [],
   "source": []
  },
  {
   "cell_type": "markdown",
   "metadata": {
    "id": "YCKqHzUD-En7"
   },
   "source": [
    "### Step 3: Data Preparation"
   ]
  },
  {
   "cell_type": "markdown",
   "metadata": {
    "id": "oY1RxgIfFUpC"
   },
   "source": [
    "#### Discount Column Modification"
   ]
  },
  {
   "cell_type": "code",
   "execution_count": null,
   "metadata": {
    "id": "Q3Se1Jtn-Fgu"
   },
   "outputs": [],
   "source": [
    "sales_train_df['Discount'].replace({'No':'0', 'Yes' : '1'}, inplace= True)"
   ]
  },
  {
   "cell_type": "code",
   "execution_count": null,
   "metadata": {
    "id": "bIClbhdK-P6m"
   },
   "outputs": [],
   "source": [
    "sales_train_df[['Discount']] = sales_train_df[['Discount']].astype(int)"
   ]
  },
  {
   "cell_type": "code",
   "execution_count": null,
   "metadata": {
    "colab": {
     "base_uri": "https://localhost:8080/"
    },
    "executionInfo": {
     "elapsed": 22,
     "status": "ok",
     "timestamp": 1632026299941,
     "user": {
      "displayName": "Prabin Kumar Nayak",
      "photoUrl": "https://lh3.googleusercontent.com/a-/AOh14GjoVsNpk3w81WtIWsA-15IhGvEKNrpcCDxNCIhJLw=s64",
      "userId": "08357207907825346919"
     },
     "user_tz": -330
    },
    "id": "tdBbkhLe-paD",
    "outputId": "c576ac3d-1604-4e7d-94a4-381d6b7128b7"
   },
   "outputs": [
    {
     "data": {
      "text/plain": [
       "array([1, 0])"
      ]
     },
     "execution_count": 29,
     "metadata": {},
     "output_type": "execute_result"
    }
   ],
   "source": [
    "sales_train_df['Discount'].unique()"
   ]
  },
  {
   "cell_type": "markdown",
   "metadata": {
    "id": "b_9XieOGFdio"
   },
   "source": [
    "#### Store_Type,  Location_Type, Region_Code  Columns Modification"
   ]
  },
  {
   "cell_type": "code",
   "execution_count": null,
   "metadata": {
    "id": "qEzXajlw_RtC"
   },
   "outputs": [],
   "source": [
    "#sales_train_df['Store_Type'][0][1:]"
   ]
  },
  {
   "cell_type": "code",
   "execution_count": null,
   "metadata": {
    "id": "WPvUHKotAq8p"
   },
   "outputs": [],
   "source": [
    "rough = sales_train_df.copy()"
   ]
  },
  {
   "cell_type": "code",
   "execution_count": null,
   "metadata": {
    "id": "eIY0DeMD-wk4"
   },
   "outputs": [],
   "source": [
    "#rough['Store_Type'] = rough['Store_Type'].apply(lambda x:x[1:])"
   ]
  },
  {
   "cell_type": "code",
   "execution_count": null,
   "metadata": {
    "id": "WXoLHIXcAyQt"
   },
   "outputs": [],
   "source": [
    "#rough['Store_Type'].unique()"
   ]
  },
  {
   "cell_type": "code",
   "execution_count": null,
   "metadata": {
    "colab": {
     "base_uri": "https://localhost:8080/"
    },
    "executionInfo": {
     "elapsed": 15,
     "status": "ok",
     "timestamp": 1632026305734,
     "user": {
      "displayName": "Prabin Kumar Nayak",
      "photoUrl": "https://lh3.googleusercontent.com/a-/AOh14GjoVsNpk3w81WtIWsA-15IhGvEKNrpcCDxNCIhJLw=s64",
      "userId": "08357207907825346919"
     },
     "user_tz": -330
    },
    "id": "LdYMW0ow_v-L",
    "outputId": "95db304a-7b09-4459-dcf4-7d650f0bea33"
   },
   "outputs": [
    {
     "data": {
      "text/plain": [
       "array(['1', '4', '3', '2'], dtype=object)"
      ]
     },
     "execution_count": 34,
     "metadata": {},
     "output_type": "execute_result"
    }
   ],
   "source": [
    "sales_train_df['Store_Type'] = sales_train_df['Store_Type'].apply(lambda x:x[1:])\n",
    "sales_train_df['Store_Type'].unique()"
   ]
  },
  {
   "cell_type": "code",
   "execution_count": null,
   "metadata": {
    "id": "LKfCEXbLBUaQ"
   },
   "outputs": [],
   "source": [
    "sales_train_df[['Store_Type']] = sales_train_df[['Store_Type']].astype(int)"
   ]
  },
  {
   "cell_type": "code",
   "execution_count": null,
   "metadata": {
    "colab": {
     "base_uri": "https://localhost:8080/"
    },
    "executionInfo": {
     "elapsed": 7,
     "status": "ok",
     "timestamp": 1632026308058,
     "user": {
      "displayName": "Prabin Kumar Nayak",
      "photoUrl": "https://lh3.googleusercontent.com/a-/AOh14GjoVsNpk3w81WtIWsA-15IhGvEKNrpcCDxNCIhJLw=s64",
      "userId": "08357207907825346919"
     },
     "user_tz": -330
    },
    "id": "PZAGsWRCBAUE",
    "outputId": "18276466-852f-4d4d-8dc9-bae26b32b83c"
   },
   "outputs": [
    {
     "data": {
      "text/plain": [
       "array(['3', '2', '1', '5', '4'], dtype=object)"
      ]
     },
     "execution_count": 36,
     "metadata": {},
     "output_type": "execute_result"
    }
   ],
   "source": [
    "sales_train_df['Location_Type'] = sales_train_df['Location_Type'].apply(lambda x:x[1:])\n",
    "sales_train_df['Location_Type'].unique()"
   ]
  },
  {
   "cell_type": "code",
   "execution_count": null,
   "metadata": {
    "id": "eiwb2-2PB58x"
   },
   "outputs": [],
   "source": [
    "sales_train_df[['Location_Type']] = sales_train_df[['Location_Type']].astype(int)"
   ]
  },
  {
   "cell_type": "code",
   "execution_count": null,
   "metadata": {
    "colab": {
     "base_uri": "https://localhost:8080/"
    },
    "executionInfo": {
     "elapsed": 14,
     "status": "ok",
     "timestamp": 1632026309474,
     "user": {
      "displayName": "Prabin Kumar Nayak",
      "photoUrl": "https://lh3.googleusercontent.com/a-/AOh14GjoVsNpk3w81WtIWsA-15IhGvEKNrpcCDxNCIhJLw=s64",
      "userId": "08357207907825346919"
     },
     "user_tz": -330
    },
    "id": "6_TRHslFBItN",
    "outputId": "2064a067-5f2a-40f6-f918-2b2b2b9af645"
   },
   "outputs": [
    {
     "data": {
      "text/plain": [
       "array(['1', '4', '2', '3'], dtype=object)"
      ]
     },
     "execution_count": 38,
     "metadata": {},
     "output_type": "execute_result"
    }
   ],
   "source": [
    "sales_train_df['Region_Code'] = sales_train_df['Region_Code'].apply(lambda x:x[1:])\n",
    "sales_train_df['Region_Code'].unique()"
   ]
  },
  {
   "cell_type": "code",
   "execution_count": null,
   "metadata": {
    "id": "YFsENmLpBRDQ"
   },
   "outputs": [],
   "source": [
    "sales_train_df[['Region_Code']] = sales_train_df[['Region_Code']].astype(int)"
   ]
  },
  {
   "cell_type": "code",
   "execution_count": null,
   "metadata": {
    "id": "cVIuZltlCh9O"
   },
   "outputs": [],
   "source": [
    "sales_train_df[['Date']] = sales_train_df[['Date']].astype('datetime64[ns]')"
   ]
  },
  {
   "cell_type": "code",
   "execution_count": null,
   "metadata": {
    "colab": {
     "base_uri": "https://localhost:8080/"
    },
    "executionInfo": {
     "elapsed": 922,
     "status": "ok",
     "timestamp": 1632026312120,
     "user": {
      "displayName": "Prabin Kumar Nayak",
      "photoUrl": "https://lh3.googleusercontent.com/a-/AOh14GjoVsNpk3w81WtIWsA-15IhGvEKNrpcCDxNCIhJLw=s64",
      "userId": "08357207907825346919"
     },
     "user_tz": -330
    },
    "id": "XqUraQ2ECC33",
    "outputId": "85248e6d-0cec-4677-a87a-02ed84916948"
   },
   "outputs": [
    {
     "name": "stdout",
     "output_type": "stream",
     "text": [
      "<class 'pandas.core.frame.DataFrame'>\n",
      "RangeIndex: 188340 entries, 0 to 188339\n",
      "Data columns (total 10 columns):\n",
      " #   Column         Non-Null Count   Dtype         \n",
      "---  ------         --------------   -----         \n",
      " 0   ID             188340 non-null  object        \n",
      " 1   Store_id       188340 non-null  int64         \n",
      " 2   Store_Type     188340 non-null  int64         \n",
      " 3   Location_Type  188340 non-null  int64         \n",
      " 4   Region_Code    188340 non-null  int64         \n",
      " 5   Date           188340 non-null  datetime64[ns]\n",
      " 6   Holiday        188340 non-null  int64         \n",
      " 7   Discount       188340 non-null  int64         \n",
      " 8   #Order         188340 non-null  int64         \n",
      " 9   Sales          188340 non-null  float64       \n",
      "dtypes: datetime64[ns](1), float64(1), int64(7), object(1)\n",
      "memory usage: 14.4+ MB\n"
     ]
    }
   ],
   "source": [
    "sales_train_df.info()"
   ]
  },
  {
   "cell_type": "markdown",
   "metadata": {
    "id": "PvCxS8rkFqKY"
   },
   "source": [
    "### Date column Modification"
   ]
  },
  {
   "cell_type": "code",
   "execution_count": null,
   "metadata": {
    "colab": {
     "base_uri": "https://localhost:8080/",
     "height": 226
    },
    "executionInfo": {
     "elapsed": 26,
     "status": "ok",
     "timestamp": 1632026313236,
     "user": {
      "displayName": "Prabin Kumar Nayak",
      "photoUrl": "https://lh3.googleusercontent.com/a-/AOh14GjoVsNpk3w81WtIWsA-15IhGvEKNrpcCDxNCIhJLw=s64",
      "userId": "08357207907825346919"
     },
     "user_tz": -330
    },
    "id": "gq9_0GN0CE7e",
    "outputId": "ade3dba8-df57-4798-9b7e-efe38c6682bc"
   },
   "outputs": [
    {
     "data": {
      "text/html": [
       "<div>\n",
       "<style scoped>\n",
       "    .dataframe tbody tr th:only-of-type {\n",
       "        vertical-align: middle;\n",
       "    }\n",
       "\n",
       "    .dataframe tbody tr th {\n",
       "        vertical-align: top;\n",
       "    }\n",
       "\n",
       "    .dataframe thead th {\n",
       "        text-align: right;\n",
       "    }\n",
       "</style>\n",
       "<table border=\"1\" class=\"dataframe\">\n",
       "  <thead>\n",
       "    <tr style=\"text-align: right;\">\n",
       "      <th></th>\n",
       "      <th>ID</th>\n",
       "      <th>Store_id</th>\n",
       "      <th>Store_Type</th>\n",
       "      <th>Location_Type</th>\n",
       "      <th>Region_Code</th>\n",
       "      <th>Date</th>\n",
       "      <th>Holiday</th>\n",
       "      <th>Discount</th>\n",
       "      <th>#Order</th>\n",
       "      <th>Sales</th>\n",
       "    </tr>\n",
       "  </thead>\n",
       "  <tbody>\n",
       "    <tr>\n",
       "      <th>0</th>\n",
       "      <td>T1000001</td>\n",
       "      <td>1</td>\n",
       "      <td>1</td>\n",
       "      <td>3</td>\n",
       "      <td>1</td>\n",
       "      <td>2018-01-01</td>\n",
       "      <td>1</td>\n",
       "      <td>1</td>\n",
       "      <td>9</td>\n",
       "      <td>7011.84</td>\n",
       "    </tr>\n",
       "    <tr>\n",
       "      <th>1</th>\n",
       "      <td>T1000002</td>\n",
       "      <td>253</td>\n",
       "      <td>4</td>\n",
       "      <td>2</td>\n",
       "      <td>1</td>\n",
       "      <td>2018-01-01</td>\n",
       "      <td>1</td>\n",
       "      <td>1</td>\n",
       "      <td>60</td>\n",
       "      <td>51789.12</td>\n",
       "    </tr>\n",
       "    <tr>\n",
       "      <th>2</th>\n",
       "      <td>T1000003</td>\n",
       "      <td>252</td>\n",
       "      <td>3</td>\n",
       "      <td>2</td>\n",
       "      <td>1</td>\n",
       "      <td>2018-01-01</td>\n",
       "      <td>1</td>\n",
       "      <td>1</td>\n",
       "      <td>42</td>\n",
       "      <td>36868.20</td>\n",
       "    </tr>\n",
       "    <tr>\n",
       "      <th>3</th>\n",
       "      <td>T1000004</td>\n",
       "      <td>251</td>\n",
       "      <td>2</td>\n",
       "      <td>3</td>\n",
       "      <td>1</td>\n",
       "      <td>2018-01-01</td>\n",
       "      <td>1</td>\n",
       "      <td>1</td>\n",
       "      <td>23</td>\n",
       "      <td>19715.16</td>\n",
       "    </tr>\n",
       "    <tr>\n",
       "      <th>4</th>\n",
       "      <td>T1000005</td>\n",
       "      <td>250</td>\n",
       "      <td>2</td>\n",
       "      <td>3</td>\n",
       "      <td>4</td>\n",
       "      <td>2018-01-01</td>\n",
       "      <td>1</td>\n",
       "      <td>1</td>\n",
       "      <td>62</td>\n",
       "      <td>45614.52</td>\n",
       "    </tr>\n",
       "  </tbody>\n",
       "</table>\n",
       "</div>"
      ],
      "text/plain": [
       "         ID  Store_id  Store_Type  ...  Discount  #Order     Sales\n",
       "0  T1000001         1           1  ...         1       9   7011.84\n",
       "1  T1000002       253           4  ...         1      60  51789.12\n",
       "2  T1000003       252           3  ...         1      42  36868.20\n",
       "3  T1000004       251           2  ...         1      23  19715.16\n",
       "4  T1000005       250           2  ...         1      62  45614.52\n",
       "\n",
       "[5 rows x 10 columns]"
      ]
     },
     "execution_count": 42,
     "metadata": {},
     "output_type": "execute_result"
    }
   ],
   "source": [
    "sales_train_df.head(5)"
   ]
  },
  {
   "cell_type": "code",
   "execution_count": null,
   "metadata": {
    "colab": {
     "base_uri": "https://localhost:8080/"
    },
    "executionInfo": {
     "elapsed": 10,
     "status": "ok",
     "timestamp": 1632026313833,
     "user": {
      "displayName": "Prabin Kumar Nayak",
      "photoUrl": "https://lh3.googleusercontent.com/a-/AOh14GjoVsNpk3w81WtIWsA-15IhGvEKNrpcCDxNCIhJLw=s64",
      "userId": "08357207907825346919"
     },
     "user_tz": -330
    },
    "id": "jCy8cH1bDTEl",
    "outputId": "9f46b1b3-4366-4b39-ac83-8c52c53672b0"
   },
   "outputs": [
    {
     "data": {
      "text/plain": [
       "0    1\n",
       "1    1\n",
       "2    1\n",
       "3    1\n",
       "4    1\n",
       "Name: Date, dtype: int64"
      ]
     },
     "execution_count": 43,
     "metadata": {},
     "output_type": "execute_result"
    }
   ],
   "source": [
    "sales_train_df['Date'].dt.day.head()"
   ]
  },
  {
   "cell_type": "code",
   "execution_count": null,
   "metadata": {
    "id": "SBSwc9auDYSo"
   },
   "outputs": [],
   "source": [
    "sales_train_df['Day'] = sales_train_df['Date'].dt.day\n",
    "sales_train_df['Month'] = sales_train_df['Date'].dt.month\n",
    "sales_train_df['Year'] = sales_train_df['Date'].dt.year"
   ]
  },
  {
   "cell_type": "code",
   "execution_count": null,
   "metadata": {
    "colab": {
     "base_uri": "https://localhost:8080/",
     "height": 226
    },
    "executionInfo": {
     "elapsed": 10,
     "status": "ok",
     "timestamp": 1632026315465,
     "user": {
      "displayName": "Prabin Kumar Nayak",
      "photoUrl": "https://lh3.googleusercontent.com/a-/AOh14GjoVsNpk3w81WtIWsA-15IhGvEKNrpcCDxNCIhJLw=s64",
      "userId": "08357207907825346919"
     },
     "user_tz": -330
    },
    "id": "zDoG86F0DvEe",
    "outputId": "bae21f4c-51d7-414a-a2bf-a6a1d79f6add"
   },
   "outputs": [
    {
     "data": {
      "text/html": [
       "<div>\n",
       "<style scoped>\n",
       "    .dataframe tbody tr th:only-of-type {\n",
       "        vertical-align: middle;\n",
       "    }\n",
       "\n",
       "    .dataframe tbody tr th {\n",
       "        vertical-align: top;\n",
       "    }\n",
       "\n",
       "    .dataframe thead th {\n",
       "        text-align: right;\n",
       "    }\n",
       "</style>\n",
       "<table border=\"1\" class=\"dataframe\">\n",
       "  <thead>\n",
       "    <tr style=\"text-align: right;\">\n",
       "      <th></th>\n",
       "      <th>ID</th>\n",
       "      <th>Store_id</th>\n",
       "      <th>Store_Type</th>\n",
       "      <th>Location_Type</th>\n",
       "      <th>Region_Code</th>\n",
       "      <th>Date</th>\n",
       "      <th>Holiday</th>\n",
       "      <th>Discount</th>\n",
       "      <th>#Order</th>\n",
       "      <th>Sales</th>\n",
       "      <th>Day</th>\n",
       "      <th>Month</th>\n",
       "      <th>Year</th>\n",
       "    </tr>\n",
       "  </thead>\n",
       "  <tbody>\n",
       "    <tr>\n",
       "      <th>0</th>\n",
       "      <td>T1000001</td>\n",
       "      <td>1</td>\n",
       "      <td>1</td>\n",
       "      <td>3</td>\n",
       "      <td>1</td>\n",
       "      <td>2018-01-01</td>\n",
       "      <td>1</td>\n",
       "      <td>1</td>\n",
       "      <td>9</td>\n",
       "      <td>7011.84</td>\n",
       "      <td>1</td>\n",
       "      <td>1</td>\n",
       "      <td>2018</td>\n",
       "    </tr>\n",
       "    <tr>\n",
       "      <th>1</th>\n",
       "      <td>T1000002</td>\n",
       "      <td>253</td>\n",
       "      <td>4</td>\n",
       "      <td>2</td>\n",
       "      <td>1</td>\n",
       "      <td>2018-01-01</td>\n",
       "      <td>1</td>\n",
       "      <td>1</td>\n",
       "      <td>60</td>\n",
       "      <td>51789.12</td>\n",
       "      <td>1</td>\n",
       "      <td>1</td>\n",
       "      <td>2018</td>\n",
       "    </tr>\n",
       "    <tr>\n",
       "      <th>2</th>\n",
       "      <td>T1000003</td>\n",
       "      <td>252</td>\n",
       "      <td>3</td>\n",
       "      <td>2</td>\n",
       "      <td>1</td>\n",
       "      <td>2018-01-01</td>\n",
       "      <td>1</td>\n",
       "      <td>1</td>\n",
       "      <td>42</td>\n",
       "      <td>36868.20</td>\n",
       "      <td>1</td>\n",
       "      <td>1</td>\n",
       "      <td>2018</td>\n",
       "    </tr>\n",
       "    <tr>\n",
       "      <th>3</th>\n",
       "      <td>T1000004</td>\n",
       "      <td>251</td>\n",
       "      <td>2</td>\n",
       "      <td>3</td>\n",
       "      <td>1</td>\n",
       "      <td>2018-01-01</td>\n",
       "      <td>1</td>\n",
       "      <td>1</td>\n",
       "      <td>23</td>\n",
       "      <td>19715.16</td>\n",
       "      <td>1</td>\n",
       "      <td>1</td>\n",
       "      <td>2018</td>\n",
       "    </tr>\n",
       "    <tr>\n",
       "      <th>4</th>\n",
       "      <td>T1000005</td>\n",
       "      <td>250</td>\n",
       "      <td>2</td>\n",
       "      <td>3</td>\n",
       "      <td>4</td>\n",
       "      <td>2018-01-01</td>\n",
       "      <td>1</td>\n",
       "      <td>1</td>\n",
       "      <td>62</td>\n",
       "      <td>45614.52</td>\n",
       "      <td>1</td>\n",
       "      <td>1</td>\n",
       "      <td>2018</td>\n",
       "    </tr>\n",
       "  </tbody>\n",
       "</table>\n",
       "</div>"
      ],
      "text/plain": [
       "         ID  Store_id  Store_Type  Location_Type  ...     Sales Day  Month  Year\n",
       "0  T1000001         1           1              3  ...   7011.84   1      1  2018\n",
       "1  T1000002       253           4              2  ...  51789.12   1      1  2018\n",
       "2  T1000003       252           3              2  ...  36868.20   1      1  2018\n",
       "3  T1000004       251           2              3  ...  19715.16   1      1  2018\n",
       "4  T1000005       250           2              3  ...  45614.52   1      1  2018\n",
       "\n",
       "[5 rows x 13 columns]"
      ]
     },
     "execution_count": 45,
     "metadata": {},
     "output_type": "execute_result"
    }
   ],
   "source": [
    "sales_train_df.head()"
   ]
  },
  {
   "cell_type": "code",
   "execution_count": null,
   "metadata": {
    "id": "bWiKxyxdF4Rb"
   },
   "outputs": [],
   "source": [
    "rough['avg_price'] = rough['Sales']/rough['#Order']"
   ]
  },
  {
   "cell_type": "code",
   "execution_count": null,
   "metadata": {
    "colab": {
     "base_uri": "https://localhost:8080/"
    },
    "executionInfo": {
     "elapsed": 8,
     "status": "ok",
     "timestamp": 1632026316109,
     "user": {
      "displayName": "Prabin Kumar Nayak",
      "photoUrl": "https://lh3.googleusercontent.com/a-/AOh14GjoVsNpk3w81WtIWsA-15IhGvEKNrpcCDxNCIhJLw=s64",
      "userId": "08357207907825346919"
     },
     "user_tz": -330
    },
    "id": "syPDq9dbF4Mn",
    "outputId": "aaf313d3-8a03-4a04-c1d2-17fd86afe1e5"
   },
   "outputs": [
    {
     "data": {
      "text/plain": [
       "array([779.09333333, 863.152     , 877.81428571, ..., 634.35789474,\n",
       "       606.36266667, 564.72428571])"
      ]
     },
     "execution_count": 47,
     "metadata": {},
     "output_type": "execute_result"
    }
   ],
   "source": [
    "rough['avg_price'].unique()"
   ]
  },
  {
   "cell_type": "code",
   "execution_count": null,
   "metadata": {
    "id": "EpdVcTWaKWun"
   },
   "outputs": [],
   "source": [
    "sales_train_df['avg_price'] = sales_train_df['Sales']/sales_train_df['#Order']"
   ]
  },
  {
   "cell_type": "markdown",
   "metadata": {
    "id": "Cmv-DejbNZsu"
   },
   "source": [
    "#### Same for the Test Files\n"
   ]
  },
  {
   "cell_type": "code",
   "execution_count": null,
   "metadata": {
    "colab": {
     "base_uri": "https://localhost:8080/"
    },
    "executionInfo": {
     "elapsed": 719,
     "status": "ok",
     "timestamp": 1632026337274,
     "user": {
      "displayName": "Prabin Kumar Nayak",
      "photoUrl": "https://lh3.googleusercontent.com/a-/AOh14GjoVsNpk3w81WtIWsA-15IhGvEKNrpcCDxNCIhJLw=s64",
      "userId": "08357207907825346919"
     },
     "user_tz": -330
    },
    "id": "EjACF1sTNfN_",
    "outputId": "8d93f31f-f916-4734-82fb-26f1e96e77c6"
   },
   "outputs": [
    {
     "data": {
      "text/plain": [
       "array([0, 1])"
      ]
     },
     "execution_count": 49,
     "metadata": {},
     "output_type": "execute_result"
    }
   ],
   "source": [
    "sales_test_df['Discount'].replace({'No':'0', 'Yes' : '1'}, inplace= True)\n",
    "sales_test_df[['Discount']] = sales_test_df[['Discount']].astype(int)\n",
    "sales_test_df['Discount'].unique()"
   ]
  },
  {
   "cell_type": "code",
   "execution_count": null,
   "metadata": {
    "id": "9uQK-l0ONfKb"
   },
   "outputs": [],
   "source": [
    "sales_test_df['Store_Type'] = sales_test_df['Store_Type'].apply(lambda x:x[1:])\n",
    "sales_test_df['Store_Type'].unique()\n",
    "sales_test_df[['Store_Type']] = sales_test_df[['Store_Type']].astype(int)"
   ]
  },
  {
   "cell_type": "code",
   "execution_count": null,
   "metadata": {
    "id": "pBZogmIeNfGU"
   },
   "outputs": [],
   "source": [
    "sales_test_df['Location_Type'] = sales_test_df['Location_Type'].apply(lambda x:x[1:])\n",
    "sales_test_df['Location_Type'].unique()\n",
    "sales_test_df[['Location_Type']] = sales_test_df[['Location_Type']].astype(int)"
   ]
  },
  {
   "cell_type": "code",
   "execution_count": null,
   "metadata": {
    "id": "j0OIoytFF4JO"
   },
   "outputs": [],
   "source": [
    "sales_test_df['Region_Code'] = sales_test_df['Region_Code'].apply(lambda x:x[1:])\n",
    "sales_test_df['Region_Code'].unique()\n",
    "sales_test_df[['Region_Code']] = sales_test_df[['Region_Code']].astype(int)\n"
   ]
  },
  {
   "cell_type": "code",
   "execution_count": null,
   "metadata": {
    "id": "wB49pD0aOIhe"
   },
   "outputs": [],
   "source": [
    "sales_test_df[['Date']] = sales_test_df[['Date']].astype('datetime64[ns]')"
   ]
  },
  {
   "cell_type": "code",
   "execution_count": null,
   "metadata": {
    "id": "JX09JB4xOLwc"
   },
   "outputs": [],
   "source": [
    "sales_test_df['Day'] = sales_test_df['Date'].dt.day\n",
    "sales_test_df['Month'] = sales_test_df['Date'].dt.month\n",
    "sales_test_df['Year'] = sales_test_df['Date'].dt.year"
   ]
  },
  {
   "cell_type": "markdown",
   "metadata": {
    "id": "WKkk_7l6Yswu"
   },
   "source": [
    "#### Adding the orders column for the tes file based on the Region , locatio n and store type"
   ]
  },
  {
   "cell_type": "code",
   "execution_count": null,
   "metadata": {
    "colab": {
     "base_uri": "https://localhost:8080/"
    },
    "executionInfo": {
     "elapsed": 628,
     "status": "ok",
     "timestamp": 1632027444720,
     "user": {
      "displayName": "Prabin Kumar Nayak",
      "photoUrl": "https://lh3.googleusercontent.com/a-/AOh14GjoVsNpk3w81WtIWsA-15IhGvEKNrpcCDxNCIhJLw=s64",
      "userId": "08357207907825346919"
     },
     "user_tz": -330
    },
    "id": "h7JEXxeZZIdm",
    "outputId": "7ad8dc18-fc6e-4171-9840-65a7e6ece402"
   },
   "outputs": [
    {
     "data": {
      "text/plain": [
       "Region_Code  Location_Type  Store_Type\n",
       "1            1              1              57.0\n",
       "                            2              44.0\n",
       "                            3              72.0\n",
       "                            4              89.0\n",
       "             2              1              63.0\n",
       "                            3              72.0\n",
       "                            4             111.5\n",
       "             3              1              58.0\n",
       "                            2              45.0\n",
       "                            3              72.0\n",
       "             4              1              55.0\n",
       "             5              1              59.0\n",
       "                            2              37.0\n",
       "2            1              1              59.0\n",
       "                            2              43.0\n",
       "                            3              71.0\n",
       "                            4              89.0\n",
       "             2              1              64.0\n",
       "                            3              74.0\n",
       "                            4             100.0\n",
       "             3              1              55.0\n",
       "                            2              43.0\n",
       "             4              1              52.0\n",
       "                            2              41.0\n",
       "             5              1              50.0\n",
       "                            2              37.0\n",
       "3            1              1              58.0\n",
       "                            2              42.0\n",
       "                            3              74.0\n",
       "                            4              88.0\n",
       "             2              1              64.0\n",
       "                            3              75.0\n",
       "                            4              90.0\n",
       "             3              1              52.0\n",
       "                            2              40.0\n",
       "                            3              71.0\n",
       "             4              1              51.0\n",
       "                            2              40.0\n",
       "             5              2              37.0\n",
       "4            1              1              55.0\n",
       "                            2              45.0\n",
       "                            3              70.0\n",
       "                            4              95.0\n",
       "             2              1              64.0\n",
       "                            3              73.0\n",
       "                            4              96.5\n",
       "             3              1              56.5\n",
       "                            2              40.0\n",
       "             4              2              36.0\n",
       "             5              2              36.0\n",
       "Name: #Order, dtype: float64"
      ]
     },
     "execution_count": 124,
     "metadata": {},
     "output_type": "execute_result"
    }
   ],
   "source": [
    "sales_train_df.groupby(['Region_Code','Location_Type','Store_Type']).median()['#Order']"
   ]
  },
  {
   "cell_type": "code",
   "execution_count": null,
   "metadata": {
    "id": "udMTzSQZa3QG"
   },
   "outputs": [],
   "source": [
    "orders_grp_by_dict = sales_train_df.groupby(['Region_Code','Location_Type','Store_Type']).median()['#Order'].to_dict()"
   ]
  },
  {
   "cell_type": "code",
   "execution_count": null,
   "metadata": {
    "colab": {
     "base_uri": "https://localhost:8080/"
    },
    "executionInfo": {
     "elapsed": 21,
     "status": "ok",
     "timestamp": 1632027639912,
     "user": {
      "displayName": "Prabin Kumar Nayak",
      "photoUrl": "https://lh3.googleusercontent.com/a-/AOh14GjoVsNpk3w81WtIWsA-15IhGvEKNrpcCDxNCIhJLw=s64",
      "userId": "08357207907825346919"
     },
     "user_tz": -330
    },
    "id": "JtWOYH-vOOLK",
    "outputId": "5e9c3274-3d71-49ff-c472-c4583c021947"
   },
   "outputs": [
    {
     "data": {
      "text/plain": [
       "57.0"
      ]
     },
     "execution_count": 128,
     "metadata": {},
     "output_type": "execute_result"
    }
   ],
   "source": [
    "orders_grp_by_dict[(1,1,1)]"
   ]
  },
  {
   "cell_type": "code",
   "execution_count": null,
   "metadata": {
    "colab": {
     "base_uri": "https://localhost:8080/"
    },
    "executionInfo": {
     "elapsed": 650,
     "status": "ok",
     "timestamp": 1632029787709,
     "user": {
      "displayName": "Prabin Kumar Nayak",
      "photoUrl": "https://lh3.googleusercontent.com/a-/AOh14GjoVsNpk3w81WtIWsA-15IhGvEKNrpcCDxNCIhJLw=s64",
      "userId": "08357207907825346919"
     },
     "user_tz": -330
    },
    "id": "GxpMf2eHjhr9",
    "outputId": "5263bd9c-c83a-432d-a741-24c751b9ffae"
   },
   "outputs": [
    {
     "data": {
      "text/plain": [
       "50"
      ]
     },
     "execution_count": 148,
     "metadata": {},
     "output_type": "execute_result"
    }
   ],
   "source": [
    "len(orders_grp_by_dict)"
   ]
  },
  {
   "cell_type": "code",
   "execution_count": null,
   "metadata": {
    "colab": {
     "base_uri": "https://localhost:8080/"
    },
    "executionInfo": {
     "elapsed": 665,
     "status": "ok",
     "timestamp": 1632027789990,
     "user": {
      "displayName": "Prabin Kumar Nayak",
      "photoUrl": "https://lh3.googleusercontent.com/a-/AOh14GjoVsNpk3w81WtIWsA-15IhGvEKNrpcCDxNCIhJLw=s64",
      "userId": "08357207907825346919"
     },
     "user_tz": -330
    },
    "id": "9whxIud-bZfa",
    "outputId": "3d7e8bcb-d477-4dc4-b7ae-06a892e7ea4d"
   },
   "outputs": [
    {
     "data": {
      "text/plain": [
       "Index(['ID', 'Store_id', 'Store_Type', 'Location_Type', 'Region_Code', 'Date',\n",
       "       'Holiday', 'Discount', 'Day', 'Month', 'Year', '#Order'],\n",
       "      dtype='object')"
      ]
     },
     "execution_count": 130,
     "metadata": {},
     "output_type": "execute_result"
    }
   ],
   "source": [
    "sales_test_df.columns"
   ]
  },
  {
   "cell_type": "code",
   "execution_count": null,
   "metadata": {
    "id": "-F-IS0-ybZIe"
   },
   "outputs": [],
   "source": [
    "sales_test_df.loc[(sales_test_df['Region_Code']==1) & (sales_test_df['Location_Type']==1) & (sales_test_df['Store_Type']==1)]['#Order']"
   ]
  },
  {
   "cell_type": "code",
   "execution_count": null,
   "metadata": {
    "colab": {
     "base_uri": "https://localhost:8080/"
    },
    "executionInfo": {
     "elapsed": 654,
     "status": "ok",
     "timestamp": 1632029845645,
     "user": {
      "displayName": "Prabin Kumar Nayak",
      "photoUrl": "https://lh3.googleusercontent.com/a-/AOh14GjoVsNpk3w81WtIWsA-15IhGvEKNrpcCDxNCIhJLw=s64",
      "userId": "08357207907825346919"
     },
     "user_tz": -330
    },
    "id": "PsTH2KIii2j5",
    "outputId": "015a4246-6afa-4fb4-e92d-314a0c68258f"
   },
   "outputs": [
    {
     "name": "stdout",
     "output_type": "stream",
     "text": [
      "CPU times: user 6.16 ms, sys: 0 ns, total: 6.16 ms\n",
      "Wall time: 10.1 ms\n"
     ]
    }
   ],
   "source": [
    "#dd.a[dd.a == 1] = 100\n",
    "%time sales_test_df['#Order'][(sales_test_df['Region_Code']==1) & \\\n",
    "                        (sales_test_df['Location_Type']==1) & \\\n",
    "                        (sales_test_df['Store_Type']==1)] = orders_grp_by_dict[(1,1,1)]"
   ]
  },
  {
   "cell_type": "code",
   "execution_count": null,
   "metadata": {
    "colab": {
     "base_uri": "https://localhost:8080/"
    },
    "executionInfo": {
     "elapsed": 383,
     "status": "ok",
     "timestamp": 1632029742362,
     "user": {
      "displayName": "Prabin Kumar Nayak",
      "photoUrl": "https://lh3.googleusercontent.com/a-/AOh14GjoVsNpk3w81WtIWsA-15IhGvEKNrpcCDxNCIhJLw=s64",
      "userId": "08357207907825346919"
     },
     "user_tz": -330
    },
    "id": "3LFn6E7gb_50",
    "outputId": "f8544a8a-c680-40e5-8514-98bf8987c3f4"
   },
   "outputs": [
    {
     "data": {
      "text/plain": [
       "1        57.0\n",
       "18       57.0\n",
       "60       57.0\n",
       "63       57.0\n",
       "101      57.0\n",
       "         ... \n",
       "22147    57.0\n",
       "22154    57.0\n",
       "22217    57.0\n",
       "22223    57.0\n",
       "22257    57.0\n",
       "Name: #Order, Length: 1037, dtype: float64"
      ]
     },
     "execution_count": 147,
     "metadata": {},
     "output_type": "execute_result"
    }
   ],
   "source": [
    "sales_test_df.loc[(sales_test_df['Region_Code']==1) & (sales_test_df['Location_Type']==1) & (sales_test_df['Store_Type']==1)]['#Order']"
   ]
  },
  {
   "cell_type": "code",
   "execution_count": null,
   "metadata": {
    "colab": {
     "base_uri": "https://localhost:8080/"
    },
    "executionInfo": {
     "elapsed": 599,
     "status": "ok",
     "timestamp": 1632030112798,
     "user": {
      "displayName": "Prabin Kumar Nayak",
      "photoUrl": "https://lh3.googleusercontent.com/a-/AOh14GjoVsNpk3w81WtIWsA-15IhGvEKNrpcCDxNCIhJLw=s64",
      "userId": "08357207907825346919"
     },
     "user_tz": -330
    },
    "id": "_Jq3RzoFj8ml",
    "outputId": "c70e6efd-df8d-4786-f94b-346c55954579"
   },
   "outputs": [
    {
     "name": "stdout",
     "output_type": "stream",
     "text": [
      "CPU times: user 3 µs, sys: 1e+03 ns, total: 4 µs\n",
      "Wall time: 8.34 µs\n"
     ]
    }
   ],
   "source": [
    "%time\n",
    "for key,value in orders_grp_by_dict.items():\n",
    "  #print(key[0],key[1],key[2])\n",
    "  sales_test_df['#Order'][(sales_test_df['Region_Code']==key[0]) & \\\n",
    "                        (sales_test_df['Location_Type']==key[1]) & \\\n",
    "                        (sales_test_df['Store_Type']==key[2])] = orders_grp_by_dict[(key[0],key[1],key[2])]"
   ]
  },
  {
   "cell_type": "code",
   "execution_count": null,
   "metadata": {
    "id": "55yFQ9KYb_1b"
   },
   "outputs": [],
   "source": []
  },
  {
   "cell_type": "code",
   "execution_count": null,
   "metadata": {
    "colab": {
     "base_uri": "https://localhost:8080/"
    },
    "executionInfo": {
     "elapsed": 399,
     "status": "ok",
     "timestamp": 1632030259131,
     "user": {
      "displayName": "Prabin Kumar Nayak",
      "photoUrl": "https://lh3.googleusercontent.com/a-/AOh14GjoVsNpk3w81WtIWsA-15IhGvEKNrpcCDxNCIhJLw=s64",
      "userId": "08357207907825346919"
     },
     "user_tz": -330
    },
    "id": "TLjKrlsNb_xR",
    "outputId": "59d5d416-7653-4e3e-aa4b-07669965bff6"
   },
   "outputs": [
    {
     "data": {
      "text/plain": [
       "44       71.0\n",
       "131      71.0\n",
       "132      71.0\n",
       "141      71.0\n",
       "260      71.0\n",
       "         ... \n",
       "22022    71.0\n",
       "22029    71.0\n",
       "22122    71.0\n",
       "22191    71.0\n",
       "22240    71.0\n",
       "Name: #Order, Length: 427, dtype: float64"
      ]
     },
     "execution_count": 162,
     "metadata": {},
     "output_type": "execute_result"
    }
   ],
   "source": [
    "sales_test_df.loc[(sales_test_df['Region_Code']==2) & (sales_test_df['Location_Type']==1) & (sales_test_df['Store_Type']==3)]['#Order']"
   ]
  },
  {
   "cell_type": "code",
   "execution_count": null,
   "metadata": {
    "id": "AARtcT_jlF2T"
   },
   "outputs": [],
   "source": []
  },
  {
   "cell_type": "code",
   "execution_count": null,
   "metadata": {
    "id": "o6197Rb-lFyh"
   },
   "outputs": [],
   "source": []
  },
  {
   "cell_type": "code",
   "execution_count": null,
   "metadata": {
    "id": "bYNyrCUPlFuA"
   },
   "outputs": [],
   "source": []
  },
  {
   "cell_type": "code",
   "execution_count": null,
   "metadata": {
    "id": "m79Aa02pFOkB"
   },
   "outputs": [],
   "source": [
    "import plotly.express as px\n",
    "import matplotlib\n",
    "import matplotlib.pyplot as plt\n",
    "import seaborn as sns\n",
    "%matplotlib inline"
   ]
  },
  {
   "cell_type": "code",
   "execution_count": null,
   "metadata": {
    "colab": {
     "base_uri": "https://localhost:8080/",
     "height": 420
    },
    "executionInfo": {
     "elapsed": 1952,
     "status": "ok",
     "timestamp": 1632033597213,
     "user": {
      "displayName": "Prabin Kumar Nayak",
      "photoUrl": "https://lh3.googleusercontent.com/a-/AOh14GjoVsNpk3w81WtIWsA-15IhGvEKNrpcCDxNCIhJLw=s64",
      "userId": "08357207907825346919"
     },
     "user_tz": -330
    },
    "id": "dDKP4URVG7FD",
    "outputId": "b1ac4dc1-0ed4-41e9-9d9f-74e4f0584aa1"
   },
   "outputs": [
    {
     "data": {
      "image/png": "[encoded data removed]",
      "text/plain": [
       "<Figure size 1440x720 with 2 Axes>"
      ]
     },
     "metadata": {},
     "output_type": "display_data"
    }
   ],
   "source": [
    "plt.figure(figsize=(20,10))\n",
    "sns.heatmap(sales_train_df.corr(), cmap='Reds', annot=True)\n",
    "plt.title('Correlation Matrix');"
   ]
  },
  {
   "cell_type": "code",
   "execution_count": null,
   "metadata": {
    "id": "xCIo7P_bJqzK"
   },
   "outputs": [],
   "source": []
  },
  {
   "cell_type": "code",
   "execution_count": null,
   "metadata": {
    "id": "MgFW_1K2JenL"
   },
   "outputs": [],
   "source": []
  },
  {
   "cell_type": "code",
   "execution_count": null,
   "metadata": {
    "colab": {
     "base_uri": "https://localhost:8080/",
     "height": 91
    },
    "executionInfo": {
     "elapsed": 2964,
     "status": "ok",
     "timestamp": 1632030192894,
     "user": {
      "displayName": "Prabin Kumar Nayak",
      "photoUrl": "https://lh3.googleusercontent.com/a-/AOh14GjoVsNpk3w81WtIWsA-15IhGvEKNrpcCDxNCIhJLw=s64",
      "userId": "08357207907825346919"
     },
     "user_tz": -330
    },
    "id": "gk7iSocEJIFJ",
    "outputId": "4f9a348b-92d7-4b2e-9b65-85e1d87a0b1a"
   },
   "outputs": [
    {
     "name": "stdout",
     "output_type": "stream",
     "text": [
      "[jovian] Detected Colab notebook...\u001b[0m\n",
      "[jovian] Uploading colab notebook to Jovian...\u001b[0m\n",
      "Committed successfully! https://jovian.ai/pknayak0707-job/av-job-a-thon-sept2021\n"
     ]
    },
    {
     "data": {
      "application/vnd.google.colaboratory.intrinsic+json": {
       "type": "string"
      },
      "text/plain": [
       "'https://jovian.ai/pknayak0707-job/av-job-a-thon-sept2021'"
      ]
     },
     "execution_count": 157,
     "metadata": {},
     "output_type": "execute_result"
    }
   ],
   "source": [
    "jovian.commit()"
   ]
  },
  {
   "cell_type": "markdown",
   "metadata": {
    "id": "aApRiSNrGRN2"
   },
   "source": [
    "## Step 4: Encoding categorical Values and Feature Scaling"
   ]
  },
  {
   "cell_type": "code",
   "execution_count": null,
   "metadata": {
    "colab": {
     "base_uri": "https://localhost:8080/"
    },
    "executionInfo": {
     "elapsed": 374,
     "status": "ok",
     "timestamp": 1632026350471,
     "user": {
      "displayName": "Prabin Kumar Nayak",
      "photoUrl": "https://lh3.googleusercontent.com/a-/AOh14GjoVsNpk3w81WtIWsA-15IhGvEKNrpcCDxNCIhJLw=s64",
      "userId": "08357207907825346919"
     },
     "user_tz": -330
    },
    "id": "uLjWV_kfGWMt",
    "outputId": "6e7a185d-a9e7-4776-9e45-32b6ec2c37af"
   },
   "outputs": [
    {
     "data": {
      "text/plain": [
       "ID                0\n",
       "Store_id          0\n",
       "Store_Type        0\n",
       "Location_Type     0\n",
       "Region_Code       0\n",
       "Date              0\n",
       "Holiday           0\n",
       "Discount          0\n",
       "#Order            0\n",
       "Sales             0\n",
       "Day               0\n",
       "Month             0\n",
       "Year              0\n",
       "avg_price        19\n",
       "dtype: int64"
      ]
     },
     "execution_count": 58,
     "metadata": {},
     "output_type": "execute_result"
    }
   ],
   "source": [
    "sales_train_df.isnull().sum()"
   ]
  },
  {
   "cell_type": "code",
   "execution_count": null,
   "metadata": {
    "colab": {
     "base_uri": "https://localhost:8080/"
    },
    "executionInfo": {
     "elapsed": 14,
     "status": "ok",
     "timestamp": 1632026351081,
     "user": {
      "displayName": "Prabin Kumar Nayak",
      "photoUrl": "https://lh3.googleusercontent.com/a-/AOh14GjoVsNpk3w81WtIWsA-15IhGvEKNrpcCDxNCIhJLw=s64",
      "userId": "08357207907825346919"
     },
     "user_tz": -330
    },
    "id": "DArTbpkjJMwQ",
    "outputId": "05d67012-46a5-456b-f42a-123f7f2b422d"
   },
   "outputs": [
    {
     "data": {
      "text/plain": [
       "ID               0\n",
       "Store_id         0\n",
       "Store_Type       0\n",
       "Location_Type    0\n",
       "Region_Code      0\n",
       "Date             0\n",
       "Holiday          0\n",
       "Discount         0\n",
       "Day              0\n",
       "Month            0\n",
       "Year             0\n",
       "dtype: int64"
      ]
     },
     "execution_count": 59,
     "metadata": {},
     "output_type": "execute_result"
    }
   ],
   "source": [
    "sales_test_df.isnull().sum()"
   ]
  },
  {
   "cell_type": "code",
   "execution_count": null,
   "metadata": {
    "colab": {
     "base_uri": "https://localhost:8080/"
    },
    "executionInfo": {
     "elapsed": 12,
     "status": "ok",
     "timestamp": 1632026351082,
     "user": {
      "displayName": "Prabin Kumar Nayak",
      "photoUrl": "https://lh3.googleusercontent.com/a-/AOh14GjoVsNpk3w81WtIWsA-15IhGvEKNrpcCDxNCIhJLw=s64",
      "userId": "08357207907825346919"
     },
     "user_tz": -330
    },
    "id": "zvzM2FHeJcMk",
    "outputId": "2611ecfd-17da-4e21-9a5c-5a3ab3572ba8"
   },
   "outputs": [
    {
     "data": {
      "text/plain": [
       "Index(['ID', 'Store_id', 'Store_Type', 'Location_Type', 'Region_Code', 'Date',\n",
       "       'Holiday', 'Discount', '#Order', 'Sales', 'Day', 'Month', 'Year',\n",
       "       'avg_price'],\n",
       "      dtype='object')"
      ]
     },
     "execution_count": 60,
     "metadata": {},
     "output_type": "execute_result"
    }
   ],
   "source": [
    "sales_train_df.columns"
   ]
  },
  {
   "cell_type": "code",
   "execution_count": null,
   "metadata": {
    "id": "DZBiXyhPLGV2"
   },
   "outputs": [],
   "source": [
    "# Removing 'ID', '#Order', 'Sales', 'avg_price' column from predicting the sales\n",
    "input_cols = ['Store_id', 'Store_Type', 'Location_Type', 'Region_Code',\n",
    "       'Holiday', 'Discount', 'Day', 'Month', 'Year']"
   ]
  },
  {
   "cell_type": "code",
   "execution_count": null,
   "metadata": {
    "id": "jN3UOtMlLGSz"
   },
   "outputs": [],
   "source": [
    "target_col ='Sales'"
   ]
  },
  {
   "cell_type": "code",
   "execution_count": null,
   "metadata": {
    "colab": {
     "base_uri": "https://localhost:8080/"
    },
    "executionInfo": {
     "elapsed": 19,
     "status": "ok",
     "timestamp": 1632031893300,
     "user": {
      "displayName": "Prabin Kumar Nayak",
      "photoUrl": "https://lh3.googleusercontent.com/a-/AOh14GjoVsNpk3w81WtIWsA-15IhGvEKNrpcCDxNCIhJLw=s64",
      "userId": "08357207907825346919"
     },
     "user_tz": -330
    },
    "id": "1cZtlwcpLGPL",
    "outputId": "fd222a28-8181-40ed-ef88-12fd75833afb"
   },
   "outputs": [
    {
     "name": "stdout",
     "output_type": "stream",
     "text": [
      "['Store_id', 'Store_Type', 'Location_Type', 'Region_Code', 'Holiday', 'Discount', 'Day', 'Month', 'Year']\n"
     ]
    }
   ],
   "source": [
    "print(list(input_cols))"
   ]
  },
  {
   "cell_type": "code",
   "execution_count": null,
   "metadata": {
    "colab": {
     "base_uri": "https://localhost:8080/"
    },
    "executionInfo": {
     "elapsed": 20,
     "status": "ok",
     "timestamp": 1632031894968,
     "user": {
      "displayName": "Prabin Kumar Nayak",
      "photoUrl": "https://lh3.googleusercontent.com/a-/AOh14GjoVsNpk3w81WtIWsA-15IhGvEKNrpcCDxNCIhJLw=s64",
      "userId": "08357207907825346919"
     },
     "user_tz": -330
    },
    "id": "EBrwVxoYNOOE",
    "outputId": "891e2fe3-98ac-4b92-8214-68ea3a57ae46"
   },
   "outputs": [
    {
     "data": {
      "text/plain": [
       "(9, 'Sales')"
      ]
     },
     "execution_count": 260,
     "metadata": {},
     "output_type": "execute_result"
    }
   ],
   "source": [
    "len(input_cols) , target_col"
   ]
  },
  {
   "cell_type": "code",
   "execution_count": null,
   "metadata": {
    "id": "H7tzQBOMPC9Y"
   },
   "outputs": [],
   "source": [
    "inputs_df = sales_train_df[input_cols].copy()"
   ]
  },
  {
   "cell_type": "code",
   "execution_count": null,
   "metadata": {
    "id": "C2JryN9-PEx9"
   },
   "outputs": [],
   "source": [
    "targets = sales_train_df[target_col]"
   ]
  },
  {
   "cell_type": "code",
   "execution_count": null,
   "metadata": {
    "colab": {
     "base_uri": "https://localhost:8080/"
    },
    "executionInfo": {
     "elapsed": 13,
     "status": "ok",
     "timestamp": 1632031899087,
     "user": {
      "displayName": "Prabin Kumar Nayak",
      "photoUrl": "https://lh3.googleusercontent.com/a-/AOh14GjoVsNpk3w81WtIWsA-15IhGvEKNrpcCDxNCIhJLw=s64",
      "userId": "08357207907825346919"
     },
     "user_tz": -330
    },
    "id": "vhKKBxuNPf69",
    "outputId": "427cdce9-a5cd-4213-bfb1-b1d4a66ad15a"
   },
   "outputs": [
    {
     "name": "stdout",
     "output_type": "stream",
     "text": [
      "<class 'pandas.core.frame.DataFrame'>\n",
      "RangeIndex: 188340 entries, 0 to 188339\n",
      "Data columns (total 9 columns):\n",
      " #   Column         Non-Null Count   Dtype\n",
      "---  ------         --------------   -----\n",
      " 0   Store_id       188340 non-null  int64\n",
      " 1   Store_Type     188340 non-null  int64\n",
      " 2   Location_Type  188340 non-null  int64\n",
      " 3   Region_Code    188340 non-null  int64\n",
      " 4   Holiday        188340 non-null  int64\n",
      " 5   Discount       188340 non-null  int64\n",
      " 6   Day            188340 non-null  int64\n",
      " 7   Month          188340 non-null  int64\n",
      " 8   Year           188340 non-null  int64\n",
      "dtypes: int64(9)\n",
      "memory usage: 12.9 MB\n"
     ]
    }
   ],
   "source": [
    "inputs_df.info()"
   ]
  },
  {
   "cell_type": "code",
   "execution_count": null,
   "metadata": {
    "colab": {
     "base_uri": "https://localhost:8080/",
     "height": 363
    },
    "executionInfo": {
     "elapsed": 14,
     "status": "ok",
     "timestamp": 1632031899695,
     "user": {
      "displayName": "Prabin Kumar Nayak",
      "photoUrl": "https://lh3.googleusercontent.com/a-/AOh14GjoVsNpk3w81WtIWsA-15IhGvEKNrpcCDxNCIhJLw=s64",
      "userId": "08357207907825346919"
     },
     "user_tz": -330
    },
    "id": "fkeQ1NB9POWa",
    "outputId": "dbeb8887-10eb-4d94-abd9-0a5ae1897020"
   },
   "outputs": [
    {
     "data": {
      "text/html": [
       "<div>\n",
       "<style scoped>\n",
       "    .dataframe tbody tr th:only-of-type {\n",
       "        vertical-align: middle;\n",
       "    }\n",
       "\n",
       "    .dataframe tbody tr th {\n",
       "        vertical-align: top;\n",
       "    }\n",
       "\n",
       "    .dataframe thead th {\n",
       "        text-align: right;\n",
       "    }\n",
       "</style>\n",
       "<table border=\"1\" class=\"dataframe\">\n",
       "  <thead>\n",
       "    <tr style=\"text-align: right;\">\n",
       "      <th></th>\n",
       "      <th>Store_id</th>\n",
       "      <th>Store_Type</th>\n",
       "      <th>Location_Type</th>\n",
       "      <th>Region_Code</th>\n",
       "      <th>Holiday</th>\n",
       "      <th>Discount</th>\n",
       "      <th>Day</th>\n",
       "      <th>Month</th>\n",
       "      <th>Year</th>\n",
       "    </tr>\n",
       "  </thead>\n",
       "  <tbody>\n",
       "    <tr>\n",
       "      <th>0</th>\n",
       "      <td>1</td>\n",
       "      <td>1</td>\n",
       "      <td>3</td>\n",
       "      <td>1</td>\n",
       "      <td>1</td>\n",
       "      <td>1</td>\n",
       "      <td>1</td>\n",
       "      <td>1</td>\n",
       "      <td>2018</td>\n",
       "    </tr>\n",
       "    <tr>\n",
       "      <th>1</th>\n",
       "      <td>253</td>\n",
       "      <td>4</td>\n",
       "      <td>2</td>\n",
       "      <td>1</td>\n",
       "      <td>1</td>\n",
       "      <td>1</td>\n",
       "      <td>1</td>\n",
       "      <td>1</td>\n",
       "      <td>2018</td>\n",
       "    </tr>\n",
       "    <tr>\n",
       "      <th>2</th>\n",
       "      <td>252</td>\n",
       "      <td>3</td>\n",
       "      <td>2</td>\n",
       "      <td>1</td>\n",
       "      <td>1</td>\n",
       "      <td>1</td>\n",
       "      <td>1</td>\n",
       "      <td>1</td>\n",
       "      <td>2018</td>\n",
       "    </tr>\n",
       "    <tr>\n",
       "      <th>3</th>\n",
       "      <td>251</td>\n",
       "      <td>2</td>\n",
       "      <td>3</td>\n",
       "      <td>1</td>\n",
       "      <td>1</td>\n",
       "      <td>1</td>\n",
       "      <td>1</td>\n",
       "      <td>1</td>\n",
       "      <td>2018</td>\n",
       "    </tr>\n",
       "    <tr>\n",
       "      <th>4</th>\n",
       "      <td>250</td>\n",
       "      <td>2</td>\n",
       "      <td>3</td>\n",
       "      <td>4</td>\n",
       "      <td>1</td>\n",
       "      <td>1</td>\n",
       "      <td>1</td>\n",
       "      <td>1</td>\n",
       "      <td>2018</td>\n",
       "    </tr>\n",
       "    <tr>\n",
       "      <th>5</th>\n",
       "      <td>249</td>\n",
       "      <td>1</td>\n",
       "      <td>3</td>\n",
       "      <td>2</td>\n",
       "      <td>1</td>\n",
       "      <td>1</td>\n",
       "      <td>1</td>\n",
       "      <td>1</td>\n",
       "      <td>2018</td>\n",
       "    </tr>\n",
       "    <tr>\n",
       "      <th>6</th>\n",
       "      <td>248</td>\n",
       "      <td>1</td>\n",
       "      <td>1</td>\n",
       "      <td>2</td>\n",
       "      <td>1</td>\n",
       "      <td>1</td>\n",
       "      <td>1</td>\n",
       "      <td>1</td>\n",
       "      <td>2018</td>\n",
       "    </tr>\n",
       "    <tr>\n",
       "      <th>7</th>\n",
       "      <td>247</td>\n",
       "      <td>1</td>\n",
       "      <td>1</td>\n",
       "      <td>3</td>\n",
       "      <td>1</td>\n",
       "      <td>1</td>\n",
       "      <td>1</td>\n",
       "      <td>1</td>\n",
       "      <td>2018</td>\n",
       "    </tr>\n",
       "    <tr>\n",
       "      <th>8</th>\n",
       "      <td>246</td>\n",
       "      <td>3</td>\n",
       "      <td>1</td>\n",
       "      <td>3</td>\n",
       "      <td>1</td>\n",
       "      <td>1</td>\n",
       "      <td>1</td>\n",
       "      <td>1</td>\n",
       "      <td>2018</td>\n",
       "    </tr>\n",
       "    <tr>\n",
       "      <th>9</th>\n",
       "      <td>254</td>\n",
       "      <td>4</td>\n",
       "      <td>1</td>\n",
       "      <td>1</td>\n",
       "      <td>1</td>\n",
       "      <td>1</td>\n",
       "      <td>1</td>\n",
       "      <td>1</td>\n",
       "      <td>2018</td>\n",
       "    </tr>\n",
       "  </tbody>\n",
       "</table>\n",
       "</div>"
      ],
      "text/plain": [
       "   Store_id  Store_Type  Location_Type  Region_Code  ...  Discount  Day  Month  Year\n",
       "0         1           1              3            1  ...         1    1      1  2018\n",
       "1       253           4              2            1  ...         1    1      1  2018\n",
       "2       252           3              2            1  ...         1    1      1  2018\n",
       "3       251           2              3            1  ...         1    1      1  2018\n",
       "4       250           2              3            4  ...         1    1      1  2018\n",
       "5       249           1              3            2  ...         1    1      1  2018\n",
       "6       248           1              1            2  ...         1    1      1  2018\n",
       "7       247           1              1            3  ...         1    1      1  2018\n",
       "8       246           3              1            3  ...         1    1      1  2018\n",
       "9       254           4              1            1  ...         1    1      1  2018\n",
       "\n",
       "[10 rows x 9 columns]"
      ]
     },
     "execution_count": 264,
     "metadata": {},
     "output_type": "execute_result"
    }
   ],
   "source": [
    "inputs_df.head(10)"
   ]
  },
  {
   "cell_type": "code",
   "execution_count": null,
   "metadata": {
    "colab": {
     "base_uri": "https://localhost:8080/"
    },
    "executionInfo": {
     "elapsed": 19,
     "status": "ok",
     "timestamp": 1632031901606,
     "user": {
      "displayName": "Prabin Kumar Nayak",
      "photoUrl": "https://lh3.googleusercontent.com/a-/AOh14GjoVsNpk3w81WtIWsA-15IhGvEKNrpcCDxNCIhJLw=s64",
      "userId": "08357207907825346919"
     },
     "user_tz": -330
    },
    "id": "umFfrKQDPOSM",
    "outputId": "fd1a4590-7b48-4ace-e141-faa56b4ef06f"
   },
   "outputs": [
    {
     "data": {
      "text/plain": [
       "0     7011.84\n",
       "1    51789.12\n",
       "2    36868.20\n",
       "3    19715.16\n",
       "4    45614.52\n",
       "5    34211.22\n",
       "6    35352.66\n",
       "7    52650.00\n",
       "8    42633.78\n",
       "9    62572.80\n",
       "Name: Sales, dtype: float64"
      ]
     },
     "execution_count": 265,
     "metadata": {},
     "output_type": "execute_result"
    }
   ],
   "source": [
    "targets[0:10]"
   ]
  },
  {
   "cell_type": "markdown",
   "metadata": {
    "id": "tri6rcJOPnKL"
   },
   "source": [
    "##### Identify Numeric and Categorical Data (Feature Scaling is not needed)\n"
   ]
  },
  {
   "cell_type": "code",
   "execution_count": null,
   "metadata": {
    "id": "gNApRvo5PN4A"
   },
   "outputs": [],
   "source": [
    "numeric_cols = inputs_df.select_dtypes(include=['int64', 'float64']).columns.tolist()"
   ]
  },
  {
   "cell_type": "code",
   "execution_count": null,
   "metadata": {
    "colab": {
     "base_uri": "https://localhost:8080/"
    },
    "executionInfo": {
     "elapsed": 12,
     "status": "ok",
     "timestamp": 1632031948100,
     "user": {
      "displayName": "Prabin Kumar Nayak",
      "photoUrl": "https://lh3.googleusercontent.com/a-/AOh14GjoVsNpk3w81WtIWsA-15IhGvEKNrpcCDxNCIhJLw=s64",
      "userId": "08357207907825346919"
     },
     "user_tz": -330
    },
    "id": "R3UuU64WPutb",
    "outputId": "4447091a-7dee-44f9-bb27-cff445776000"
   },
   "outputs": [
    {
     "name": "stdout",
     "output_type": "stream",
     "text": [
      "['Store_id', 'Store_Type', 'Location_Type', 'Region_Code', 'Holiday', 'Discount', 'Day', 'Month', 'Year']\n"
     ]
    }
   ],
   "source": [
    "print(list(numeric_cols))"
   ]
  },
  {
   "cell_type": "code",
   "execution_count": null,
   "metadata": {
    "colab": {
     "base_uri": "https://localhost:8080/",
     "height": 112
    },
    "executionInfo": {
     "elapsed": 23,
     "status": "ok",
     "timestamp": 1632031948772,
     "user": {
      "displayName": "Prabin Kumar Nayak",
      "photoUrl": "https://lh3.googleusercontent.com/a-/AOh14GjoVsNpk3w81WtIWsA-15IhGvEKNrpcCDxNCIhJLw=s64",
      "userId": "08357207907825346919"
     },
     "user_tz": -330
    },
    "id": "4JNL-rgFPuqW",
    "outputId": "aaeb2ffe-e79c-48e2-8a7f-3f7f2bae701a"
   },
   "outputs": [
    {
     "data": {
      "text/html": [
       "<div>\n",
       "<style scoped>\n",
       "    .dataframe tbody tr th:only-of-type {\n",
       "        vertical-align: middle;\n",
       "    }\n",
       "\n",
       "    .dataframe tbody tr th {\n",
       "        vertical-align: top;\n",
       "    }\n",
       "\n",
       "    .dataframe thead th {\n",
       "        text-align: right;\n",
       "    }\n",
       "</style>\n",
       "<table border=\"1\" class=\"dataframe\">\n",
       "  <thead>\n",
       "    <tr style=\"text-align: right;\">\n",
       "      <th></th>\n",
       "      <th>Store_id</th>\n",
       "      <th>Store_Type</th>\n",
       "      <th>Location_Type</th>\n",
       "      <th>Region_Code</th>\n",
       "      <th>Holiday</th>\n",
       "      <th>Discount</th>\n",
       "      <th>Day</th>\n",
       "      <th>Month</th>\n",
       "      <th>Year</th>\n",
       "    </tr>\n",
       "  </thead>\n",
       "  <tbody>\n",
       "    <tr>\n",
       "      <th>min</th>\n",
       "      <td>1.0</td>\n",
       "      <td>1.0</td>\n",
       "      <td>1.0</td>\n",
       "      <td>1.0</td>\n",
       "      <td>0.0</td>\n",
       "      <td>0.0</td>\n",
       "      <td>1.0</td>\n",
       "      <td>1.0</td>\n",
       "      <td>2018.0</td>\n",
       "    </tr>\n",
       "    <tr>\n",
       "      <th>max</th>\n",
       "      <td>365.0</td>\n",
       "      <td>4.0</td>\n",
       "      <td>5.0</td>\n",
       "      <td>4.0</td>\n",
       "      <td>1.0</td>\n",
       "      <td>1.0</td>\n",
       "      <td>31.0</td>\n",
       "      <td>12.0</td>\n",
       "      <td>2019.0</td>\n",
       "    </tr>\n",
       "  </tbody>\n",
       "</table>\n",
       "</div>"
      ],
      "text/plain": [
       "     Store_id  Store_Type  Location_Type  ...   Day  Month    Year\n",
       "min       1.0         1.0            1.0  ...   1.0    1.0  2018.0\n",
       "max     365.0         4.0            5.0  ...  31.0   12.0  2019.0\n",
       "\n",
       "[2 rows x 9 columns]"
      ]
     },
     "execution_count": 272,
     "metadata": {},
     "output_type": "execute_result"
    }
   ],
   "source": [
    "inputs_df[numeric_cols].describe().loc[['min', 'max']]"
   ]
  },
  {
   "cell_type": "code",
   "execution_count": null,
   "metadata": {
    "id": "HPJfUA3pPukx"
   },
   "outputs": [],
   "source": [
    "from sklearn.preprocessing import MinMaxScaler"
   ]
  },
  {
   "cell_type": "code",
   "execution_count": null,
   "metadata": {
    "id": "HCQraD_lPuZT"
   },
   "outputs": [],
   "source": [
    "scaler = MinMaxScaler()"
   ]
  },
  {
   "cell_type": "code",
   "execution_count": null,
   "metadata": {
    "colab": {
     "base_uri": "https://localhost:8080/",
     "height": 172
    },
    "executionInfo": {
     "elapsed": 22,
     "status": "error",
     "timestamp": 1631974327989,
     "user": {
      "displayName": "Prabin Kumar Nayak",
      "photoUrl": "https://lh3.googleusercontent.com/a-/AOh14GjoVsNpk3w81WtIWsA-15IhGvEKNrpcCDxNCIhJLw=s64",
      "userId": "08357207907825346919"
     },
     "user_tz": -330
    },
    "id": "AA0299e0P1fS",
    "outputId": "7e4cbeaa-f8c8-40d0-c88e-eb3efb8f1e60"
   },
   "outputs": [
    {
     "ename": "NameError",
     "evalue": "ignored",
     "output_type": "error",
     "traceback": [
      "\u001b[0;31m---------------------------------------------------------------------------\u001b[0m",
      "\u001b[0;31mNameError\u001b[0m                                 Traceback (most recent call last)",
      "\u001b[0;32m<ipython-input-129-96afb76477c9>\u001b[0m in \u001b[0;36m<module>\u001b[0;34m()\u001b[0m\n\u001b[0;32m----> 1\u001b[0;31m \u001b[0mscaler\u001b[0m\u001b[0;34m.\u001b[0m\u001b[0mfit\u001b[0m\u001b[0;34m(\u001b[0m\u001b[0mcar_prices_train_df\u001b[0m\u001b[0;34m[\u001b[0m\u001b[0mnumeric_cols\u001b[0m\u001b[0;34m]\u001b[0m\u001b[0;34m)\u001b[0m\u001b[0;34m\u001b[0m\u001b[0;34m\u001b[0m\u001b[0m\n\u001b[0m",
      "\u001b[0;31mNameError\u001b[0m: name 'car_prices_train_df' is not defined"
     ]
    }
   ],
   "source": [
    "scaler.fit(car_prices_train_df[numeric_cols])"
   ]
  },
  {
   "cell_type": "code",
   "execution_count": null,
   "metadata": {
    "id": "_Y-e3O0SP9vK"
   },
   "outputs": [],
   "source": []
  },
  {
   "cell_type": "code",
   "execution_count": null,
   "metadata": {
    "id": "M9OvFAW9P9Sq"
   },
   "outputs": [],
   "source": []
  },
  {
   "cell_type": "markdown",
   "metadata": {
    "id": "shUNrTkTQcYE"
   },
   "source": [
    "## Step 5: Test-Train Split"
   ]
  },
  {
   "cell_type": "markdown",
   "metadata": {
    "id": "lEkceLp-Qkbi"
   },
   "source": [
    "### Training and Validation Set\n",
    "\n",
    "25% as validation set"
   ]
  },
  {
   "cell_type": "code",
   "execution_count": null,
   "metadata": {
    "id": "d1pvQ8pcQib_"
   },
   "outputs": [],
   "source": [
    "from sklearn.model_selection import train_test_split"
   ]
  },
  {
   "cell_type": "code",
   "execution_count": null,
   "metadata": {
    "id": "LlZkOKOjQiY9"
   },
   "outputs": [],
   "source": [
    "# Due the temporal nature of the prediction we have to use the different type of splitting method\n",
    "# train_inputs, val_inputs, train_targets, val_targets = train_test_split(inputs_df[numeric_cols], \n",
    "#                                                                         targets, \n",
    "#                                                                         test_size=0.25, \n",
    "#                                                                         random_state=42)"
   ]
  },
  {
   "cell_type": "code",
   "execution_count": null,
   "metadata": {
    "colab": {
     "base_uri": "https://localhost:8080/"
    },
    "executionInfo": {
     "elapsed": 16,
     "status": "ok",
     "timestamp": 1632031980855,
     "user": {
      "displayName": "Prabin Kumar Nayak",
      "photoUrl": "https://lh3.googleusercontent.com/a-/AOh14GjoVsNpk3w81WtIWsA-15IhGvEKNrpcCDxNCIhJLw=s64",
      "userId": "08357207907825346919"
     },
     "user_tz": -330
    },
    "id": "rdg-rPoGnnr1",
    "outputId": "43682fad-0c60-4b98-846e-694f64d29f95"
   },
   "outputs": [
    {
     "data": {
      "text/plain": [
       "188340"
      ]
     },
     "execution_count": 275,
     "metadata": {},
     "output_type": "execute_result"
    }
   ],
   "source": [
    "len(inputs_df[numeric_cols])"
   ]
  },
  {
   "cell_type": "code",
   "execution_count": null,
   "metadata": {
    "colab": {
     "base_uri": "https://localhost:8080/"
    },
    "executionInfo": {
     "elapsed": 976,
     "status": "ok",
     "timestamp": 1632031985772,
     "user": {
      "displayName": "Prabin Kumar Nayak",
      "photoUrl": "https://lh3.googleusercontent.com/a-/AOh14GjoVsNpk3w81WtIWsA-15IhGvEKNrpcCDxNCIhJLw=s64",
      "userId": "08357207907825346919"
     },
     "user_tz": -330
    },
    "id": "sQpXmhuPncAD",
    "outputId": "e8def69e-1d4e-4544-9e22-fe6f267c0092"
   },
   "outputs": [
    {
     "name": "stdout",
     "output_type": "stream",
     "text": [
      "Observations: 188340\n",
      "Training inputs Observations: 131838\n",
      "Training targets Observations: 131838\n",
      "Validation inputs Observations: 56502\n",
      "Validation targets Observations: 56502\n"
     ]
    }
   ],
   "source": [
    "train_size = int(len(inputs_df[numeric_cols]) * 0.70)\n",
    "train_inputs, val_inputs, train_targets, val_targets = inputs_df[0:train_size], \\\n",
    "                                inputs_df[train_size:len(inputs_df[numeric_cols])], \\\n",
    "                                targets[0:train_size], \\\n",
    "                                targets[train_size:len(inputs_df[numeric_cols])] \\\n",
    "\n",
    "print('Observations: %d' % (len(inputs_df[numeric_cols])))\n",
    "print('Training inputs Observations: %d' % (len(train_inputs)))\n",
    "print('Training targets Observations: %d' % (len(train_targets)))\n",
    "print('Validation inputs Observations: %d' % (len(val_inputs)))\n",
    "print('Validation targets Observations: %d' % (len(val_targets)))"
   ]
  },
  {
   "cell_type": "code",
   "execution_count": null,
   "metadata": {
    "colab": {
     "base_uri": "https://localhost:8080/",
     "height": 363
    },
    "executionInfo": {
     "elapsed": 24,
     "status": "ok",
     "timestamp": 1632031988976,
     "user": {
      "displayName": "Prabin Kumar Nayak",
      "photoUrl": "https://lh3.googleusercontent.com/a-/AOh14GjoVsNpk3w81WtIWsA-15IhGvEKNrpcCDxNCIhJLw=s64",
      "userId": "08357207907825346919"
     },
     "user_tz": -330
    },
    "id": "zmY1udMcRLkn",
    "outputId": "e7ae45a6-5b38-4782-9eba-39f819edbd13"
   },
   "outputs": [
    {
     "data": {
      "text/html": [
       "<div>\n",
       "<style scoped>\n",
       "    .dataframe tbody tr th:only-of-type {\n",
       "        vertical-align: middle;\n",
       "    }\n",
       "\n",
       "    .dataframe tbody tr th {\n",
       "        vertical-align: top;\n",
       "    }\n",
       "\n",
       "    .dataframe thead th {\n",
       "        text-align: right;\n",
       "    }\n",
       "</style>\n",
       "<table border=\"1\" class=\"dataframe\">\n",
       "  <thead>\n",
       "    <tr style=\"text-align: right;\">\n",
       "      <th></th>\n",
       "      <th>Store_id</th>\n",
       "      <th>Store_Type</th>\n",
       "      <th>Location_Type</th>\n",
       "      <th>Region_Code</th>\n",
       "      <th>Holiday</th>\n",
       "      <th>Discount</th>\n",
       "      <th>Day</th>\n",
       "      <th>Month</th>\n",
       "      <th>Year</th>\n",
       "    </tr>\n",
       "  </thead>\n",
       "  <tbody>\n",
       "    <tr>\n",
       "      <th>0</th>\n",
       "      <td>1</td>\n",
       "      <td>1</td>\n",
       "      <td>3</td>\n",
       "      <td>1</td>\n",
       "      <td>1</td>\n",
       "      <td>1</td>\n",
       "      <td>1</td>\n",
       "      <td>1</td>\n",
       "      <td>2018</td>\n",
       "    </tr>\n",
       "    <tr>\n",
       "      <th>1</th>\n",
       "      <td>253</td>\n",
       "      <td>4</td>\n",
       "      <td>2</td>\n",
       "      <td>1</td>\n",
       "      <td>1</td>\n",
       "      <td>1</td>\n",
       "      <td>1</td>\n",
       "      <td>1</td>\n",
       "      <td>2018</td>\n",
       "    </tr>\n",
       "    <tr>\n",
       "      <th>2</th>\n",
       "      <td>252</td>\n",
       "      <td>3</td>\n",
       "      <td>2</td>\n",
       "      <td>1</td>\n",
       "      <td>1</td>\n",
       "      <td>1</td>\n",
       "      <td>1</td>\n",
       "      <td>1</td>\n",
       "      <td>2018</td>\n",
       "    </tr>\n",
       "    <tr>\n",
       "      <th>3</th>\n",
       "      <td>251</td>\n",
       "      <td>2</td>\n",
       "      <td>3</td>\n",
       "      <td>1</td>\n",
       "      <td>1</td>\n",
       "      <td>1</td>\n",
       "      <td>1</td>\n",
       "      <td>1</td>\n",
       "      <td>2018</td>\n",
       "    </tr>\n",
       "    <tr>\n",
       "      <th>4</th>\n",
       "      <td>250</td>\n",
       "      <td>2</td>\n",
       "      <td>3</td>\n",
       "      <td>4</td>\n",
       "      <td>1</td>\n",
       "      <td>1</td>\n",
       "      <td>1</td>\n",
       "      <td>1</td>\n",
       "      <td>2018</td>\n",
       "    </tr>\n",
       "    <tr>\n",
       "      <th>5</th>\n",
       "      <td>249</td>\n",
       "      <td>1</td>\n",
       "      <td>3</td>\n",
       "      <td>2</td>\n",
       "      <td>1</td>\n",
       "      <td>1</td>\n",
       "      <td>1</td>\n",
       "      <td>1</td>\n",
       "      <td>2018</td>\n",
       "    </tr>\n",
       "    <tr>\n",
       "      <th>6</th>\n",
       "      <td>248</td>\n",
       "      <td>1</td>\n",
       "      <td>1</td>\n",
       "      <td>2</td>\n",
       "      <td>1</td>\n",
       "      <td>1</td>\n",
       "      <td>1</td>\n",
       "      <td>1</td>\n",
       "      <td>2018</td>\n",
       "    </tr>\n",
       "    <tr>\n",
       "      <th>7</th>\n",
       "      <td>247</td>\n",
       "      <td>1</td>\n",
       "      <td>1</td>\n",
       "      <td>3</td>\n",
       "      <td>1</td>\n",
       "      <td>1</td>\n",
       "      <td>1</td>\n",
       "      <td>1</td>\n",
       "      <td>2018</td>\n",
       "    </tr>\n",
       "    <tr>\n",
       "      <th>8</th>\n",
       "      <td>246</td>\n",
       "      <td>3</td>\n",
       "      <td>1</td>\n",
       "      <td>3</td>\n",
       "      <td>1</td>\n",
       "      <td>1</td>\n",
       "      <td>1</td>\n",
       "      <td>1</td>\n",
       "      <td>2018</td>\n",
       "    </tr>\n",
       "    <tr>\n",
       "      <th>9</th>\n",
       "      <td>254</td>\n",
       "      <td>4</td>\n",
       "      <td>1</td>\n",
       "      <td>1</td>\n",
       "      <td>1</td>\n",
       "      <td>1</td>\n",
       "      <td>1</td>\n",
       "      <td>1</td>\n",
       "      <td>2018</td>\n",
       "    </tr>\n",
       "  </tbody>\n",
       "</table>\n",
       "</div>"
      ],
      "text/plain": [
       "   Store_id  Store_Type  Location_Type  Region_Code  ...  Discount  Day  Month  Year\n",
       "0         1           1              3            1  ...         1    1      1  2018\n",
       "1       253           4              2            1  ...         1    1      1  2018\n",
       "2       252           3              2            1  ...         1    1      1  2018\n",
       "3       251           2              3            1  ...         1    1      1  2018\n",
       "4       250           2              3            4  ...         1    1      1  2018\n",
       "5       249           1              3            2  ...         1    1      1  2018\n",
       "6       248           1              1            2  ...         1    1      1  2018\n",
       "7       247           1              1            3  ...         1    1      1  2018\n",
       "8       246           3              1            3  ...         1    1      1  2018\n",
       "9       254           4              1            1  ...         1    1      1  2018\n",
       "\n",
       "[10 rows x 9 columns]"
      ]
     },
     "execution_count": 277,
     "metadata": {},
     "output_type": "execute_result"
    }
   ],
   "source": [
    "train_inputs.head(10)"
   ]
  },
  {
   "cell_type": "code",
   "execution_count": null,
   "metadata": {
    "colab": {
     "base_uri": "https://localhost:8080/"
    },
    "executionInfo": {
     "elapsed": 1371,
     "status": "ok",
     "timestamp": 1632031993740,
     "user": {
      "displayName": "Prabin Kumar Nayak",
      "photoUrl": "https://lh3.googleusercontent.com/a-/AOh14GjoVsNpk3w81WtIWsA-15IhGvEKNrpcCDxNCIhJLw=s64",
      "userId": "08357207907825346919"
     },
     "user_tz": -330
    },
    "id": "GGg5p5fjRQsM",
    "outputId": "0c50d58b-6ac7-454f-e989-2b66dce23347"
   },
   "outputs": [
    {
     "data": {
      "text/plain": [
       "0     7011.84\n",
       "1    51789.12\n",
       "2    36868.20\n",
       "3    19715.16\n",
       "4    45614.52\n",
       "5    34211.22\n",
       "6    35352.66\n",
       "7    52650.00\n",
       "8    42633.78\n",
       "9    62572.80\n",
       "Name: Sales, dtype: float64"
      ]
     },
     "execution_count": 278,
     "metadata": {},
     "output_type": "execute_result"
    }
   ],
   "source": [
    "train_targets[0:10]"
   ]
  },
  {
   "cell_type": "code",
   "execution_count": null,
   "metadata": {
    "colab": {
     "base_uri": "https://localhost:8080/",
     "height": 363
    },
    "executionInfo": {
     "elapsed": 707,
     "status": "ok",
     "timestamp": 1632031995818,
     "user": {
      "displayName": "Prabin Kumar Nayak",
      "photoUrl": "https://lh3.googleusercontent.com/a-/AOh14GjoVsNpk3w81WtIWsA-15IhGvEKNrpcCDxNCIhJLw=s64",
      "userId": "08357207907825346919"
     },
     "user_tz": -330
    },
    "id": "5PgnpyN-RQo-",
    "outputId": "2c49ec74-2719-4f16-d0f8-b09fdb890837"
   },
   "outputs": [
    {
     "data": {
      "text/html": [
       "<div>\n",
       "<style scoped>\n",
       "    .dataframe tbody tr th:only-of-type {\n",
       "        vertical-align: middle;\n",
       "    }\n",
       "\n",
       "    .dataframe tbody tr th {\n",
       "        vertical-align: top;\n",
       "    }\n",
       "\n",
       "    .dataframe thead th {\n",
       "        text-align: right;\n",
       "    }\n",
       "</style>\n",
       "<table border=\"1\" class=\"dataframe\">\n",
       "  <thead>\n",
       "    <tr style=\"text-align: right;\">\n",
       "      <th></th>\n",
       "      <th>Store_id</th>\n",
       "      <th>Store_Type</th>\n",
       "      <th>Location_Type</th>\n",
       "      <th>Region_Code</th>\n",
       "      <th>Holiday</th>\n",
       "      <th>Discount</th>\n",
       "      <th>Day</th>\n",
       "      <th>Month</th>\n",
       "      <th>Year</th>\n",
       "    </tr>\n",
       "  </thead>\n",
       "  <tbody>\n",
       "    <tr>\n",
       "      <th>131838</th>\n",
       "      <td>328</td>\n",
       "      <td>1</td>\n",
       "      <td>3</td>\n",
       "      <td>1</td>\n",
       "      <td>0</td>\n",
       "      <td>0</td>\n",
       "      <td>28</td>\n",
       "      <td>12</td>\n",
       "      <td>2018</td>\n",
       "    </tr>\n",
       "    <tr>\n",
       "      <th>131839</th>\n",
       "      <td>86</td>\n",
       "      <td>1</td>\n",
       "      <td>1</td>\n",
       "      <td>4</td>\n",
       "      <td>0</td>\n",
       "      <td>0</td>\n",
       "      <td>28</td>\n",
       "      <td>12</td>\n",
       "      <td>2018</td>\n",
       "    </tr>\n",
       "    <tr>\n",
       "      <th>131840</th>\n",
       "      <td>235</td>\n",
       "      <td>1</td>\n",
       "      <td>1</td>\n",
       "      <td>3</td>\n",
       "      <td>0</td>\n",
       "      <td>0</td>\n",
       "      <td>28</td>\n",
       "      <td>12</td>\n",
       "      <td>2018</td>\n",
       "    </tr>\n",
       "    <tr>\n",
       "      <th>131841</th>\n",
       "      <td>158</td>\n",
       "      <td>4</td>\n",
       "      <td>2</td>\n",
       "      <td>2</td>\n",
       "      <td>0</td>\n",
       "      <td>0</td>\n",
       "      <td>28</td>\n",
       "      <td>12</td>\n",
       "      <td>2018</td>\n",
       "    </tr>\n",
       "    <tr>\n",
       "      <th>131842</th>\n",
       "      <td>296</td>\n",
       "      <td>1</td>\n",
       "      <td>1</td>\n",
       "      <td>1</td>\n",
       "      <td>0</td>\n",
       "      <td>0</td>\n",
       "      <td>28</td>\n",
       "      <td>12</td>\n",
       "      <td>2018</td>\n",
       "    </tr>\n",
       "    <tr>\n",
       "      <th>131843</th>\n",
       "      <td>151</td>\n",
       "      <td>1</td>\n",
       "      <td>3</td>\n",
       "      <td>2</td>\n",
       "      <td>0</td>\n",
       "      <td>1</td>\n",
       "      <td>28</td>\n",
       "      <td>12</td>\n",
       "      <td>2018</td>\n",
       "    </tr>\n",
       "    <tr>\n",
       "      <th>131844</th>\n",
       "      <td>259</td>\n",
       "      <td>4</td>\n",
       "      <td>1</td>\n",
       "      <td>1</td>\n",
       "      <td>0</td>\n",
       "      <td>0</td>\n",
       "      <td>28</td>\n",
       "      <td>12</td>\n",
       "      <td>2018</td>\n",
       "    </tr>\n",
       "    <tr>\n",
       "      <th>131845</th>\n",
       "      <td>52</td>\n",
       "      <td>1</td>\n",
       "      <td>1</td>\n",
       "      <td>3</td>\n",
       "      <td>0</td>\n",
       "      <td>1</td>\n",
       "      <td>28</td>\n",
       "      <td>12</td>\n",
       "      <td>2018</td>\n",
       "    </tr>\n",
       "    <tr>\n",
       "      <th>131846</th>\n",
       "      <td>302</td>\n",
       "      <td>1</td>\n",
       "      <td>4</td>\n",
       "      <td>2</td>\n",
       "      <td>0</td>\n",
       "      <td>1</td>\n",
       "      <td>28</td>\n",
       "      <td>12</td>\n",
       "      <td>2018</td>\n",
       "    </tr>\n",
       "    <tr>\n",
       "      <th>131847</th>\n",
       "      <td>218</td>\n",
       "      <td>1</td>\n",
       "      <td>3</td>\n",
       "      <td>2</td>\n",
       "      <td>0</td>\n",
       "      <td>0</td>\n",
       "      <td>28</td>\n",
       "      <td>12</td>\n",
       "      <td>2018</td>\n",
       "    </tr>\n",
       "  </tbody>\n",
       "</table>\n",
       "</div>"
      ],
      "text/plain": [
       "        Store_id  Store_Type  Location_Type  ...  Day  Month  Year\n",
       "131838       328           1              3  ...   28     12  2018\n",
       "131839        86           1              1  ...   28     12  2018\n",
       "131840       235           1              1  ...   28     12  2018\n",
       "131841       158           4              2  ...   28     12  2018\n",
       "131842       296           1              1  ...   28     12  2018\n",
       "131843       151           1              3  ...   28     12  2018\n",
       "131844       259           4              1  ...   28     12  2018\n",
       "131845        52           1              1  ...   28     12  2018\n",
       "131846       302           1              4  ...   28     12  2018\n",
       "131847       218           1              3  ...   28     12  2018\n",
       "\n",
       "[10 rows x 9 columns]"
      ]
     },
     "execution_count": 279,
     "metadata": {},
     "output_type": "execute_result"
    }
   ],
   "source": [
    "val_inputs.head(10)"
   ]
  },
  {
   "cell_type": "code",
   "execution_count": null,
   "metadata": {
    "colab": {
     "base_uri": "https://localhost:8080/"
    },
    "executionInfo": {
     "elapsed": 10,
     "status": "ok",
     "timestamp": 1632031997227,
     "user": {
      "displayName": "Prabin Kumar Nayak",
      "photoUrl": "https://lh3.googleusercontent.com/a-/AOh14GjoVsNpk3w81WtIWsA-15IhGvEKNrpcCDxNCIhJLw=s64",
      "userId": "08357207907825346919"
     },
     "user_tz": -330
    },
    "id": "HT60WQM7RQk-",
    "outputId": "11d374fa-b565-4d43-f799-8537ebb1987a"
   },
   "outputs": [
    {
     "data": {
      "text/plain": [
       "131838    31938.0\n",
       "131839    32331.0\n",
       "131840    34197.0\n",
       "131841    84990.0\n",
       "131842    33309.0\n",
       "131843    32760.0\n",
       "131844    44580.0\n",
       "131845    60582.0\n",
       "131846    41991.0\n",
       "131847    28740.0\n",
       "Name: Sales, dtype: float64"
      ]
     },
     "execution_count": 280,
     "metadata": {},
     "output_type": "execute_result"
    }
   ],
   "source": [
    "val_targets[0:10]"
   ]
  },
  {
   "cell_type": "code",
   "execution_count": null,
   "metadata": {
    "id": "v9TzwldqQiVc"
   },
   "outputs": [],
   "source": []
  },
  {
   "cell_type": "code",
   "execution_count": null,
   "metadata": {
    "colab": {
     "base_uri": "https://localhost:8080/",
     "height": 91
    },
    "executionInfo": {
     "elapsed": 2898,
     "status": "ok",
     "timestamp": 1632032003045,
     "user": {
      "displayName": "Prabin Kumar Nayak",
      "photoUrl": "https://lh3.googleusercontent.com/a-/AOh14GjoVsNpk3w81WtIWsA-15IhGvEKNrpcCDxNCIhJLw=s64",
      "userId": "08357207907825346919"
     },
     "user_tz": -330
    },
    "id": "sM3RIuuqD2Fs",
    "outputId": "2b596e12-0bf4-4b4c-afbd-bfb841ad812c"
   },
   "outputs": [
    {
     "name": "stdout",
     "output_type": "stream",
     "text": [
      "[jovian] Detected Colab notebook...\u001b[0m\n",
      "[jovian] Uploading colab notebook to Jovian...\u001b[0m\n",
      "Committed successfully! https://jovian.ai/pknayak0707-job/av-job-a-thon-sept2021\n"
     ]
    },
    {
     "data": {
      "application/vnd.google.colaboratory.intrinsic+json": {
       "type": "string"
      },
      "text/plain": [
       "'https://jovian.ai/pknayak0707-job/av-job-a-thon-sept2021'"
      ]
     },
     "execution_count": 281,
     "metadata": {},
     "output_type": "execute_result"
    }
   ],
   "source": [
    "jovian.commit()"
   ]
  },
  {
   "cell_type": "code",
   "execution_count": null,
   "metadata": {
    "id": "TkA_NqhzRVQY"
   },
   "outputs": [],
   "source": []
  },
  {
   "cell_type": "markdown",
   "metadata": {
    "id": "LM1jL4LcRZ52"
   },
   "source": [
    "## Step 6: Train Regression Model and Evaluate the model simultaneously"
   ]
  },
  {
   "cell_type": "markdown",
   "metadata": {
    "id": "8yqh5G6PRf7x"
   },
   "source": [
    "\n",
    "*   Linear Regression\n",
    "*   XGBoost\n",
    "\n"
   ]
  },
  {
   "cell_type": "code",
   "execution_count": null,
   "metadata": {
    "id": "ooZltruKRVND"
   },
   "outputs": [],
   "source": [
    "from sklearn.linear_model import LinearRegression"
   ]
  },
  {
   "cell_type": "code",
   "execution_count": null,
   "metadata": {
    "id": "VpiPNfwcRVJw"
   },
   "outputs": [],
   "source": [
    "model = LinearRegression()"
   ]
  },
  {
   "cell_type": "code",
   "execution_count": null,
   "metadata": {
    "colab": {
     "base_uri": "https://localhost:8080/"
    },
    "executionInfo": {
     "elapsed": 13,
     "status": "ok",
     "timestamp": 1632032920771,
     "user": {
      "displayName": "Prabin Kumar Nayak",
      "photoUrl": "https://lh3.googleusercontent.com/a-/AOh14GjoVsNpk3w81WtIWsA-15IhGvEKNrpcCDxNCIhJLw=s64",
      "userId": "08357207907825346919"
     },
     "user_tz": -330
    },
    "id": "Fi_9onT_RVGJ",
    "outputId": "4fc113bc-d0bd-44e8-fca9-b3c7401b3e3b"
   },
   "outputs": [
    {
     "name": "stdout",
     "output_type": "stream",
     "text": [
      "inputs.shape : (131838, 9)\n",
      "targets.shape : (131838,)\n"
     ]
    }
   ],
   "source": [
    "print('inputs.shape :', train_inputs.shape)\n",
    "print('targets.shape :', train_targets.shape)"
   ]
  },
  {
   "cell_type": "code",
   "execution_count": null,
   "metadata": {
    "colab": {
     "base_uri": "https://localhost:8080/"
    },
    "executionInfo": {
     "elapsed": 570,
     "status": "ok",
     "timestamp": 1632032921335,
     "user": {
      "displayName": "Prabin Kumar Nayak",
      "photoUrl": "https://lh3.googleusercontent.com/a-/AOh14GjoVsNpk3w81WtIWsA-15IhGvEKNrpcCDxNCIhJLw=s64",
      "userId": "08357207907825346919"
     },
     "user_tz": -330
    },
    "id": "WkHqBgIeRrrA",
    "outputId": "2dc05b7b-3d45-4088-cfb7-971f8148bd98"
   },
   "outputs": [
    {
     "data": {
      "text/plain": [
       "LinearRegression(copy_X=True, fit_intercept=True, n_jobs=None, normalize=False)"
      ]
     },
     "execution_count": 361,
     "metadata": {},
     "output_type": "execute_result"
    }
   ],
   "source": [
    "#model.fit(train_inputs,np.log(train_targets))\n",
    "model.fit(train_inputs,train_targets)"
   ]
  },
  {
   "cell_type": "markdown",
   "metadata": {
    "id": "twf_a20MZWQ0"
   },
   "source": [
    "###  XGBoost"
   ]
  },
  {
   "cell_type": "code",
   "execution_count": null,
   "metadata": {
    "id": "bxgO2KqBZe13"
   },
   "outputs": [],
   "source": [
    "from xgboost import XGBRegressor"
   ]
  },
  {
   "cell_type": "code",
   "execution_count": null,
   "metadata": {
    "id": "tl81zpsYZg78"
   },
   "outputs": [],
   "source": [
    "model = XGBRegressor(random_state=42, n_jobs=-1, n_estimators=20, max_depth=4)"
   ]
  },
  {
   "cell_type": "code",
   "execution_count": null,
   "metadata": {
    "colab": {
     "base_uri": "https://localhost:8080/"
    },
    "executionInfo": {
     "elapsed": 22,
     "status": "ok",
     "timestamp": 1632032948544,
     "user": {
      "displayName": "Prabin Kumar Nayak",
      "photoUrl": "https://lh3.googleusercontent.com/a-/AOh14GjoVsNpk3w81WtIWsA-15IhGvEKNrpcCDxNCIhJLw=s64",
      "userId": "08357207907825346919"
     },
     "user_tz": -330
    },
    "id": "89fJq_GmZlhS",
    "outputId": "26f6e51c-6d0f-470e-ec55-6ed93ee877b7"
   },
   "outputs": [
    {
     "name": "stdout",
     "output_type": "stream",
     "text": [
      "inputs.shape : (131838, 9)\n",
      "targets.shape : (131838,)\n"
     ]
    }
   ],
   "source": [
    "print('inputs.shape :', train_inputs.shape)\n",
    "print('targets.shape :', train_targets.shape)"
   ]
  },
  {
   "cell_type": "code",
   "execution_count": null,
   "metadata": {
    "colab": {
     "base_uri": "https://localhost:8080/"
    },
    "executionInfo": {
     "elapsed": 1867,
     "status": "ok",
     "timestamp": 1632032953146,
     "user": {
      "displayName": "Prabin Kumar Nayak",
      "photoUrl": "https://lh3.googleusercontent.com/a-/AOh14GjoVsNpk3w81WtIWsA-15IhGvEKNrpcCDxNCIhJLw=s64",
      "userId": "08357207907825346919"
     },
     "user_tz": -330
    },
    "id": "iee9eL8lZw0a",
    "outputId": "bff43d9e-a9d6-4f90-e04c-69b0a1f507d6"
   },
   "outputs": [
    {
     "name": "stdout",
     "output_type": "stream",
     "text": [
      "[06:29:30] WARNING: /workspace/src/objective/regression_obj.cu:152: reg:linear is now deprecated in favor of reg:squarederror.\n"
     ]
    },
    {
     "data": {
      "text/plain": [
       "XGBRegressor(base_score=0.5, booster='gbtree', colsample_bylevel=1,\n",
       "             colsample_bynode=1, colsample_bytree=1, gamma=0,\n",
       "             importance_type='gain', learning_rate=0.1, max_delta_step=0,\n",
       "             max_depth=4, min_child_weight=1, missing=None, n_estimators=20,\n",
       "             n_jobs=-1, nthread=None, objective='reg:linear', random_state=42,\n",
       "             reg_alpha=0, reg_lambda=1, scale_pos_weight=1, seed=None,\n",
       "             silent=None, subsample=1, verbosity=1)"
      ]
     },
     "execution_count": 369,
     "metadata": {},
     "output_type": "execute_result"
    }
   ],
   "source": [
    "model.fit(train_inputs,train_targets)"
   ]
  },
  {
   "cell_type": "markdown",
   "metadata": {
    "id": "e7CPmwCfbBUp"
   },
   "source": [
    "#### Hyper parameter tuning of the XGboost model by using cross validation"
   ]
  },
  {
   "cell_type": "markdown",
   "metadata": {
    "id": "lBE0pL7IbXHS"
   },
   "source": [
    "\n",
    "\n",
    "*   write the whole helper function and then use the model\n",
    "\n"
   ]
  },
  {
   "cell_type": "markdown",
   "metadata": {
    "id": "aAXKglihSS5M"
   },
   "source": [
    "Evaluate Model using the RMSLE\n",
    "\n",
    "The evaluation metric for this competition is MSLE * 1000 across all entries in the test set."
   ]
  },
  {
   "cell_type": "code",
   "execution_count": null,
   "metadata": {
    "id": "MubBtRUARzps"
   },
   "outputs": [],
   "source": [
    "from sklearn.metrics import mean_squared_log_error"
   ]
  },
  {
   "cell_type": "code",
   "execution_count": null,
   "metadata": {
    "id": "lyuzS5nvSaDe"
   },
   "outputs": [],
   "source": [
    "train_preds = model.predict(train_inputs)"
   ]
  },
  {
   "cell_type": "code",
   "execution_count": null,
   "metadata": {
    "id": "Bdn6QpZsSbiZ"
   },
   "outputs": [],
   "source": [
    "train_msle = mean_squared_log_error(train_targets,train_preds)"
   ]
  },
  {
   "cell_type": "code",
   "execution_count": null,
   "metadata": {
    "colab": {
     "base_uri": "https://localhost:8080/"
    },
    "executionInfo": {
     "elapsed": 10,
     "status": "ok",
     "timestamp": 1632032959422,
     "user": {
      "displayName": "Prabin Kumar Nayak",
      "photoUrl": "https://lh3.googleusercontent.com/a-/AOh14GjoVsNpk3w81WtIWsA-15IhGvEKNrpcCDxNCIhJLw=s64",
      "userId": "08357207907825346919"
     },
     "user_tz": -330
    },
    "id": "Swo5x63OSbfJ",
    "outputId": "d156e234-45d6-4a37-ff1a-c159e858d4e8"
   },
   "outputs": [
    {
     "name": "stdout",
     "output_type": "stream",
     "text": [
      "The RMSLE loss for the validating set is 117.38712466076198.\n"
     ]
    }
   ],
   "source": [
    "print('The RMSLE loss for the validating set is {}.'.format(train_msle*1000))"
   ]
  },
  {
   "cell_type": "code",
   "execution_count": null,
   "metadata": {
    "id": "iGyOi8gUSbcS"
   },
   "outputs": [],
   "source": [
    "val_preds = model.predict(val_inputs)"
   ]
  },
  {
   "cell_type": "code",
   "execution_count": null,
   "metadata": {
    "colab": {
     "base_uri": "https://localhost:8080/"
    },
    "executionInfo": {
     "elapsed": 658,
     "status": "ok",
     "timestamp": 1632032965811,
     "user": {
      "displayName": "Prabin Kumar Nayak",
      "photoUrl": "https://lh3.googleusercontent.com/a-/AOh14GjoVsNpk3w81WtIWsA-15IhGvEKNrpcCDxNCIhJLw=s64",
      "userId": "08357207907825346919"
     },
     "user_tz": -330
    },
    "id": "yUAJH1lLSllJ",
    "outputId": "d78f5dbe-a580-409a-fbca-e694abfdd0c0"
   },
   "outputs": [
    {
     "data": {
      "text/plain": [
       "array([25994.5  , 30838.89 , 30838.89 , ..., 23020.764, 36448.945,\n",
       "       25514.523], dtype=float32)"
      ]
     },
     "execution_count": 375,
     "metadata": {},
     "output_type": "execute_result"
    }
   ],
   "source": [
    "val_preds"
   ]
  },
  {
   "cell_type": "code",
   "execution_count": null,
   "metadata": {
    "colab": {
     "base_uri": "https://localhost:8080/"
    },
    "executionInfo": {
     "elapsed": 14,
     "status": "ok",
     "timestamp": 1632032965812,
     "user": {
      "displayName": "Prabin Kumar Nayak",
      "photoUrl": "https://lh3.googleusercontent.com/a-/AOh14GjoVsNpk3w81WtIWsA-15IhGvEKNrpcCDxNCIhJLw=s64",
      "userId": "08357207907825346919"
     },
     "user_tz": -330
    },
    "id": "WxUREY_HSlhw",
    "outputId": "bb0a701b-caa7-4ecc-ef63-9429b72b64c3"
   },
   "outputs": [
    {
     "data": {
      "text/plain": [
       "(56502,)"
      ]
     },
     "execution_count": 376,
     "metadata": {},
     "output_type": "execute_result"
    }
   ],
   "source": [
    "val_targets.shape"
   ]
  },
  {
   "cell_type": "code",
   "execution_count": null,
   "metadata": {
    "id": "BRz_1W07SleV"
   },
   "outputs": [],
   "source": [
    "val_msle = mean_squared_log_error(val_targets,val_preds)"
   ]
  },
  {
   "cell_type": "code",
   "execution_count": null,
   "metadata": {
    "colab": {
     "base_uri": "https://localhost:8080/"
    },
    "executionInfo": {
     "elapsed": 17,
     "status": "ok",
     "timestamp": 1632032972535,
     "user": {
      "displayName": "Prabin Kumar Nayak",
      "photoUrl": "https://lh3.googleusercontent.com/a-/AOh14GjoVsNpk3w81WtIWsA-15IhGvEKNrpcCDxNCIhJLw=s64",
      "userId": "08357207907825346919"
     },
     "user_tz": -330
    },
    "id": "EIcmLhJ9SlZa",
    "outputId": "7f245264-9a09-4fd0-c22f-edb1b6465e77"
   },
   "outputs": [
    {
     "name": "stdout",
     "output_type": "stream",
     "text": [
      "The RMSLE loss for the validating set is 119.79903753882739.\n"
     ]
    }
   ],
   "source": [
    "print('The RMSLE loss for the validating set is {}.'.format(val_msle*1000))"
   ]
  },
  {
   "cell_type": "code",
   "execution_count": null,
   "metadata": {
    "id": "BvZolTE_yPpA"
   },
   "outputs": [],
   "source": [
    "?jovian.log_metrics()"
   ]
  },
  {
   "cell_type": "code",
   "execution_count": null,
   "metadata": {
    "colab": {
     "base_uri": "https://localhost:8080/",
     "height": 91
    },
    "executionInfo": {
     "elapsed": 3543,
     "status": "ok",
     "timestamp": 1631976981937,
     "user": {
      "displayName": "Prabin Kumar Nayak",
      "photoUrl": "https://lh3.googleusercontent.com/a-/AOh14GjoVsNpk3w81WtIWsA-15IhGvEKNrpcCDxNCIhJLw=s64",
      "userId": "08357207907825346919"
     },
     "user_tz": -330
    },
    "id": "VLwsenzTSbYE",
    "outputId": "2a1da21c-be49-431d-9ea8-8ca6d4f65e61"
   },
   "outputs": [
    {
     "name": "stdout",
     "output_type": "stream",
     "text": [
      "[jovian] Detected Colab notebook...\u001b[0m\n",
      "[jovian] Uploading colab notebook to Jovian...\u001b[0m\n",
      "Committed successfully! https://jovian.ai/pknayak0707-job/av-job-a-thon-sept2021\n"
     ]
    },
    {
     "data": {
      "application/vnd.google.colaboratory.intrinsic+json": {
       "type": "string"
      },
      "text/plain": [
       "'https://jovian.ai/pknayak0707-job/av-job-a-thon-sept2021'"
      ]
     },
     "execution_count": 199,
     "metadata": {},
     "output_type": "execute_result"
    }
   ],
   "source": [
    "jovian.commit()"
   ]
  },
  {
   "cell_type": "code",
   "execution_count": null,
   "metadata": {
    "id": "GsFDB4x7Sc-g"
   },
   "outputs": [],
   "source": []
  },
  {
   "cell_type": "markdown",
   "metadata": {
    "id": "Eq0FJxS1TG-U"
   },
   "source": [
    "# Step 7 : Predicting the Price for the test values"
   ]
  },
  {
   "cell_type": "code",
   "execution_count": null,
   "metadata": {
    "colab": {
     "base_uri": "https://localhost:8080/"
    },
    "executionInfo": {
     "elapsed": 678,
     "status": "ok",
     "timestamp": 1632032985701,
     "user": {
      "displayName": "Prabin Kumar Nayak",
      "photoUrl": "https://lh3.googleusercontent.com/a-/AOh14GjoVsNpk3w81WtIWsA-15IhGvEKNrpcCDxNCIhJLw=s64",
      "userId": "08357207907825346919"
     },
     "user_tz": -330
    },
    "id": "6o2RVHSvTGt6",
    "outputId": "a0f5a6fa-a010-400f-a4f9-8c84ada7fa1d"
   },
   "outputs": [
    {
     "data": {
      "text/plain": [
       "Index(['ID', 'Store_id', 'Store_Type', 'Location_Type', 'Region_Code', 'Date',\n",
       "       'Holiday', 'Discount', 'Day', 'Month', 'Year', '#Order'],\n",
       "      dtype='object')"
      ]
     },
     "execution_count": 379,
     "metadata": {},
     "output_type": "execute_result"
    }
   ],
   "source": [
    "sales_test_df.columns"
   ]
  },
  {
   "cell_type": "code",
   "execution_count": null,
   "metadata": {
    "id": "O0wdS8gQTGqf"
   },
   "outputs": [],
   "source": [
    "test_input_cols = ['Store_id', 'Store_Type', 'Location_Type', 'Region_Code',\n",
    "       'Holiday', 'Discount', 'Day', 'Month', 'Year']"
   ]
  },
  {
   "cell_type": "code",
   "execution_count": null,
   "metadata": {
    "id": "ZKRfC-9STGnd"
   },
   "outputs": [],
   "source": [
    "test_target_col ='Sales'"
   ]
  },
  {
   "cell_type": "code",
   "execution_count": null,
   "metadata": {
    "colab": {
     "base_uri": "https://localhost:8080/"
    },
    "executionInfo": {
     "elapsed": 13,
     "status": "ok",
     "timestamp": 1632032986316,
     "user": {
      "displayName": "Prabin Kumar Nayak",
      "photoUrl": "https://lh3.googleusercontent.com/a-/AOh14GjoVsNpk3w81WtIWsA-15IhGvEKNrpcCDxNCIhJLw=s64",
      "userId": "08357207907825346919"
     },
     "user_tz": -330
    },
    "id": "s-AJPY4DTGkE",
    "outputId": "17121b16-54bf-4bb8-8d32-2ff94ce47fc4"
   },
   "outputs": [
    {
     "name": "stdout",
     "output_type": "stream",
     "text": [
      "['Store_id', 'Store_Type', 'Location_Type', 'Region_Code', 'Holiday', 'Discount', 'Day', 'Month', 'Year']\n"
     ]
    }
   ],
   "source": [
    "print(list(input_cols))"
   ]
  },
  {
   "cell_type": "code",
   "execution_count": null,
   "metadata": {
    "colab": {
     "base_uri": "https://localhost:8080/"
    },
    "executionInfo": {
     "elapsed": 18,
     "status": "ok",
     "timestamp": 1632032986934,
     "user": {
      "displayName": "Prabin Kumar Nayak",
      "photoUrl": "https://lh3.googleusercontent.com/a-/AOh14GjoVsNpk3w81WtIWsA-15IhGvEKNrpcCDxNCIhJLw=s64",
      "userId": "08357207907825346919"
     },
     "user_tz": -330
    },
    "id": "5C9asU_9TGg8",
    "outputId": "6d39eddb-e108-4774-8589-bff6657edbc1"
   },
   "outputs": [
    {
     "data": {
      "text/plain": [
       "9"
      ]
     },
     "execution_count": 383,
     "metadata": {},
     "output_type": "execute_result"
    }
   ],
   "source": [
    "len(input_cols)"
   ]
  },
  {
   "cell_type": "code",
   "execution_count": null,
   "metadata": {
    "colab": {
     "base_uri": "https://localhost:8080/"
    },
    "executionInfo": {
     "elapsed": 14,
     "status": "ok",
     "timestamp": 1632032986936,
     "user": {
      "displayName": "Prabin Kumar Nayak",
      "photoUrl": "https://lh3.googleusercontent.com/a-/AOh14GjoVsNpk3w81WtIWsA-15IhGvEKNrpcCDxNCIhJLw=s64",
      "userId": "08357207907825346919"
     },
     "user_tz": -330
    },
    "id": "RgOety-0TGdi",
    "outputId": "36bbb3f7-5a0e-467d-edca-931ea84fb7b7"
   },
   "outputs": [
    {
     "name": "stdout",
     "output_type": "stream",
     "text": [
      "Sales\n"
     ]
    }
   ],
   "source": [
    "print(target_col)"
   ]
  },
  {
   "cell_type": "code",
   "execution_count": null,
   "metadata": {
    "colab": {
     "base_uri": "https://localhost:8080/"
    },
    "executionInfo": {
     "elapsed": 14,
     "status": "ok",
     "timestamp": 1632032988662,
     "user": {
      "displayName": "Prabin Kumar Nayak",
      "photoUrl": "https://lh3.googleusercontent.com/a-/AOh14GjoVsNpk3w81WtIWsA-15IhGvEKNrpcCDxNCIhJLw=s64",
      "userId": "08357207907825346919"
     },
     "user_tz": -330
    },
    "id": "-IjCRZOJXQPd",
    "outputId": "1a9d9ad3-ef83-4364-8393-bc14a3a035a7"
   },
   "outputs": [
    {
     "data": {
      "text/plain": [
       "63.0"
      ]
     },
     "execution_count": 385,
     "metadata": {},
     "output_type": "execute_result"
    }
   ],
   "source": [
    "sales_train_df['#Order'].median()"
   ]
  },
  {
   "cell_type": "code",
   "execution_count": null,
   "metadata": {
    "id": "heTkjcOJXEdR"
   },
   "outputs": [],
   "source": [
    "#sales_test_df['#Order'] = sales_train_df['#Order'].median()\n",
    "#sales_test_df['#Order'] = sales_test_df['#Order'].astype(int)"
   ]
  },
  {
   "cell_type": "code",
   "execution_count": null,
   "metadata": {
    "id": "61JNdX58TGZg"
   },
   "outputs": [],
   "source": [
    "test_inputs_df = sales_test_df[input_cols].copy()"
   ]
  },
  {
   "cell_type": "code",
   "execution_count": null,
   "metadata": {
    "colab": {
     "base_uri": "https://localhost:8080/",
     "height": 206
    },
    "executionInfo": {
     "elapsed": 656,
     "status": "ok",
     "timestamp": 1632032996856,
     "user": {
      "displayName": "Prabin Kumar Nayak",
      "photoUrl": "https://lh3.googleusercontent.com/a-/AOh14GjoVsNpk3w81WtIWsA-15IhGvEKNrpcCDxNCIhJLw=s64",
      "userId": "08357207907825346919"
     },
     "user_tz": -330
    },
    "id": "znnIYpzxTGVV",
    "outputId": "56d41882-1846-40c4-95a5-bf3b6634cf77"
   },
   "outputs": [
    {
     "data": {
      "text/html": [
       "<div>\n",
       "<style scoped>\n",
       "    .dataframe tbody tr th:only-of-type {\n",
       "        vertical-align: middle;\n",
       "    }\n",
       "\n",
       "    .dataframe tbody tr th {\n",
       "        vertical-align: top;\n",
       "    }\n",
       "\n",
       "    .dataframe thead th {\n",
       "        text-align: right;\n",
       "    }\n",
       "</style>\n",
       "<table border=\"1\" class=\"dataframe\">\n",
       "  <thead>\n",
       "    <tr style=\"text-align: right;\">\n",
       "      <th></th>\n",
       "      <th>Store_id</th>\n",
       "      <th>Store_Type</th>\n",
       "      <th>Location_Type</th>\n",
       "      <th>Region_Code</th>\n",
       "      <th>Holiday</th>\n",
       "      <th>Discount</th>\n",
       "      <th>Day</th>\n",
       "      <th>Month</th>\n",
       "      <th>Year</th>\n",
       "    </tr>\n",
       "  </thead>\n",
       "  <tbody>\n",
       "    <tr>\n",
       "      <th>0</th>\n",
       "      <td>171</td>\n",
       "      <td>4</td>\n",
       "      <td>2</td>\n",
       "      <td>3</td>\n",
       "      <td>0</td>\n",
       "      <td>0</td>\n",
       "      <td>1</td>\n",
       "      <td>6</td>\n",
       "      <td>2019</td>\n",
       "    </tr>\n",
       "    <tr>\n",
       "      <th>1</th>\n",
       "      <td>172</td>\n",
       "      <td>1</td>\n",
       "      <td>1</td>\n",
       "      <td>1</td>\n",
       "      <td>0</td>\n",
       "      <td>0</td>\n",
       "      <td>1</td>\n",
       "      <td>6</td>\n",
       "      <td>2019</td>\n",
       "    </tr>\n",
       "    <tr>\n",
       "      <th>2</th>\n",
       "      <td>173</td>\n",
       "      <td>4</td>\n",
       "      <td>2</td>\n",
       "      <td>1</td>\n",
       "      <td>0</td>\n",
       "      <td>0</td>\n",
       "      <td>1</td>\n",
       "      <td>6</td>\n",
       "      <td>2019</td>\n",
       "    </tr>\n",
       "    <tr>\n",
       "      <th>3</th>\n",
       "      <td>174</td>\n",
       "      <td>1</td>\n",
       "      <td>1</td>\n",
       "      <td>4</td>\n",
       "      <td>0</td>\n",
       "      <td>0</td>\n",
       "      <td>1</td>\n",
       "      <td>6</td>\n",
       "      <td>2019</td>\n",
       "    </tr>\n",
       "    <tr>\n",
       "      <th>4</th>\n",
       "      <td>170</td>\n",
       "      <td>1</td>\n",
       "      <td>1</td>\n",
       "      <td>2</td>\n",
       "      <td>0</td>\n",
       "      <td>0</td>\n",
       "      <td>1</td>\n",
       "      <td>6</td>\n",
       "      <td>2019</td>\n",
       "    </tr>\n",
       "  </tbody>\n",
       "</table>\n",
       "</div>"
      ],
      "text/plain": [
       "   Store_id  Store_Type  Location_Type  Region_Code  ...  Discount  Day  Month  Year\n",
       "0       171           4              2            3  ...         0    1      6  2019\n",
       "1       172           1              1            1  ...         0    1      6  2019\n",
       "2       173           4              2            1  ...         0    1      6  2019\n",
       "3       174           1              1            4  ...         0    1      6  2019\n",
       "4       170           1              1            2  ...         0    1      6  2019\n",
       "\n",
       "[5 rows x 9 columns]"
      ]
     },
     "execution_count": 388,
     "metadata": {},
     "output_type": "execute_result"
    }
   ],
   "source": [
    "test_inputs_df.head()"
   ]
  },
  {
   "cell_type": "markdown",
   "metadata": {
    "id": "taB1WFX_UwNZ"
   },
   "source": [
    "##### Predicting using the model selected\n"
   ]
  },
  {
   "cell_type": "code",
   "execution_count": null,
   "metadata": {
    "id": "LLqAwhwxTGRe"
   },
   "outputs": [],
   "source": [
    "test_inputs = test_inputs_df[numeric_cols]"
   ]
  },
  {
   "cell_type": "code",
   "execution_count": null,
   "metadata": {
    "colab": {
     "base_uri": "https://localhost:8080/"
    },
    "executionInfo": {
     "elapsed": 13,
     "status": "ok",
     "timestamp": 1632032998430,
     "user": {
      "displayName": "Prabin Kumar Nayak",
      "photoUrl": "https://lh3.googleusercontent.com/a-/AOh14GjoVsNpk3w81WtIWsA-15IhGvEKNrpcCDxNCIhJLw=s64",
      "userId": "08357207907825346919"
     },
     "user_tz": -330
    },
    "id": "_vrATEkjU3RY",
    "outputId": "b702cd48-ab65-41fe-89ce-0f636de0f605"
   },
   "outputs": [
    {
     "name": "stdout",
     "output_type": "stream",
     "text": [
      "inputs.shape : (22265, 9)\n"
     ]
    }
   ],
   "source": [
    "print('inputs.shape :', test_inputs.shape)"
   ]
  },
  {
   "cell_type": "code",
   "execution_count": null,
   "metadata": {
    "id": "0SnI0CZeU3NS"
   },
   "outputs": [],
   "source": [
    "test_preds = model.predict(test_inputs)"
   ]
  },
  {
   "cell_type": "code",
   "execution_count": null,
   "metadata": {
    "colab": {
     "base_uri": "https://localhost:8080/"
    },
    "executionInfo": {
     "elapsed": 24,
     "status": "ok",
     "timestamp": 1632033002316,
     "user": {
      "displayName": "Prabin Kumar Nayak",
      "photoUrl": "https://lh3.googleusercontent.com/a-/AOh14GjoVsNpk3w81WtIWsA-15IhGvEKNrpcCDxNCIhJLw=s64",
      "userId": "08357207907825346919"
     },
     "user_tz": -330
    },
    "id": "0C__J0koU3Jx",
    "outputId": "2e5d25d2-7f03-471d-c084-71f3e93db213"
   },
   "outputs": [
    {
     "data": {
      "text/plain": [
       "array([50807.484, 31086.426, 52539.184, ..., 40240.246, 31086.426,\n",
       "       29002.783], dtype=float32)"
      ]
     },
     "execution_count": 392,
     "metadata": {},
     "output_type": "execute_result"
    }
   ],
   "source": [
    "test_preds"
   ]
  },
  {
   "cell_type": "code",
   "execution_count": null,
   "metadata": {
    "id": "EWLqZJm5U3FK"
   },
   "outputs": [],
   "source": [
    "sub_df = pd.DataFrame()"
   ]
  },
  {
   "cell_type": "code",
   "execution_count": null,
   "metadata": {
    "id": "fnBChZ44V4Y6"
   },
   "outputs": [],
   "source": [
    "sub_df['ID'] = sales_test_df['ID']"
   ]
  },
  {
   "cell_type": "code",
   "execution_count": null,
   "metadata": {
    "id": "ZN3bI8KMTGNv"
   },
   "outputs": [],
   "source": [
    "sub_df['Sales'] = test_preds"
   ]
  },
  {
   "cell_type": "code",
   "execution_count": null,
   "metadata": {
    "id": "2T0RUtmvV5SN"
   },
   "outputs": [],
   "source": [
    "sub_df = sub_df[['ID','Sales']]"
   ]
  },
  {
   "cell_type": "code",
   "execution_count": null,
   "metadata": {
    "colab": {
     "base_uri": "https://localhost:8080/"
    },
    "executionInfo": {
     "elapsed": 17,
     "status": "ok",
     "timestamp": 1632033023525,
     "user": {
      "displayName": "Prabin Kumar Nayak",
      "photoUrl": "https://lh3.googleusercontent.com/a-/AOh14GjoVsNpk3w81WtIWsA-15IhGvEKNrpcCDxNCIhJLw=s64",
      "userId": "08357207907825346919"
     },
     "user_tz": -330
    },
    "id": "1Z2QlxRVWjpz",
    "outputId": "7d128e7e-5ece-41c2-9a62-45d9bae908c4"
   },
   "outputs": [
    {
     "data": {
      "text/plain": [
       "(22265, 2)"
      ]
     },
     "execution_count": 398,
     "metadata": {},
     "output_type": "execute_result"
    }
   ],
   "source": [
    "sub_df.shape"
   ]
  },
  {
   "cell_type": "code",
   "execution_count": null,
   "metadata": {
    "colab": {
     "base_uri": "https://localhost:8080/",
     "height": 269
    },
    "executionInfo": {
     "elapsed": 25,
     "status": "ok",
     "timestamp": 1632033025339,
     "user": {
      "displayName": "Prabin Kumar Nayak",
      "photoUrl": "https://lh3.googleusercontent.com/a-/AOh14GjoVsNpk3w81WtIWsA-15IhGvEKNrpcCDxNCIhJLw=s64",
      "userId": "08357207907825346919"
     },
     "user_tz": -330
    },
    "id": "rjPuWoW0Vzez",
    "outputId": "83a0109c-7c6f-4576-d5b8-6e224de98eb4"
   },
   "outputs": [
    {
     "data": {
      "text/html": [
       "<div>\n",
       "<style scoped>\n",
       "    .dataframe tbody tr th:only-of-type {\n",
       "        vertical-align: middle;\n",
       "    }\n",
       "\n",
       "    .dataframe tbody tr th {\n",
       "        vertical-align: top;\n",
       "    }\n",
       "\n",
       "    .dataframe thead th {\n",
       "        text-align: right;\n",
       "    }\n",
       "</style>\n",
       "<table border=\"1\" class=\"dataframe\">\n",
       "  <thead>\n",
       "    <tr style=\"text-align: right;\">\n",
       "      <th></th>\n",
       "      <th>ID</th>\n",
       "      <th>Sales</th>\n",
       "    </tr>\n",
       "  </thead>\n",
       "  <tbody>\n",
       "    <tr>\n",
       "      <th>0</th>\n",
       "      <td>T1188341</td>\n",
       "      <td>50807.484375</td>\n",
       "    </tr>\n",
       "    <tr>\n",
       "      <th>1</th>\n",
       "      <td>T1188342</td>\n",
       "      <td>31086.425781</td>\n",
       "    </tr>\n",
       "    <tr>\n",
       "      <th>2</th>\n",
       "      <td>T1188343</td>\n",
       "      <td>52539.183594</td>\n",
       "    </tr>\n",
       "    <tr>\n",
       "      <th>3</th>\n",
       "      <td>T1188344</td>\n",
       "      <td>31086.425781</td>\n",
       "    </tr>\n",
       "    <tr>\n",
       "      <th>4</th>\n",
       "      <td>T1188345</td>\n",
       "      <td>31086.425781</td>\n",
       "    </tr>\n",
       "    <tr>\n",
       "      <th>5</th>\n",
       "      <td>T1188346</td>\n",
       "      <td>52539.183594</td>\n",
       "    </tr>\n",
       "    <tr>\n",
       "      <th>6</th>\n",
       "      <td>T1188347</td>\n",
       "      <td>50807.484375</td>\n",
       "    </tr>\n",
       "  </tbody>\n",
       "</table>\n",
       "</div>"
      ],
      "text/plain": [
       "         ID         Sales\n",
       "0  T1188341  50807.484375\n",
       "1  T1188342  31086.425781\n",
       "2  T1188343  52539.183594\n",
       "3  T1188344  31086.425781\n",
       "4  T1188345  31086.425781\n",
       "5  T1188346  52539.183594\n",
       "6  T1188347  50807.484375"
      ]
     },
     "execution_count": 399,
     "metadata": {},
     "output_type": "execute_result"
    }
   ],
   "source": [
    "sub_df.head(7)"
   ]
  },
  {
   "cell_type": "code",
   "execution_count": null,
   "metadata": {
    "id": "hrZBrFcPTGJ_"
   },
   "outputs": [],
   "source": [
    "sub_df.to_csv('XGB_MLSE_no_ord.csv', index= False)"
   ]
  },
  {
   "cell_type": "code",
   "execution_count": null,
   "metadata": {
    "id": "mq21tgGwVJb7"
   },
   "outputs": [],
   "source": []
  },
  {
   "cell_type": "code",
   "execution_count": 10,
   "metadata": {
    "colab": {
     "background_save": true,
     "base_uri": "https://localhost:8080/",
     "height": 91
    },
    "executionInfo": {
     "elapsed": 3327,
     "status": "ok",
     "timestamp": 1632331208956,
     "user": {
      "displayName": "Prabin Kumar Nayak",
      "photoUrl": "https://lh3.googleusercontent.com/a-/AOh14GjoVsNpk3w81WtIWsA-15IhGvEKNrpcCDxNCIhJLw=s64",
      "userId": "08357207907825346919"
     },
     "user_tz": -330
    },
    "id": "msFv2dN1VJYd"
   },
   "outputs": [
    {
     "name": "stdout",
     "output_type": "stream",
     "text": [
      "[jovian] Detected Colab notebook...\u001b[0m\n",
      "[jovian] Uploading colab notebook to Jovian...\u001b[0m\n",
      "Committed successfully! https://jovian.ai/pknayak0707-job/av-job-a-thon-sept2021\n"
     ]
    },
    {
     "data": {
      "application/vnd.google.colaboratory.intrinsic+json": {
       "type": "string"
      },
      "text/plain": [
       "'https://jovian.ai/pknayak0707-job/av-job-a-thon-sept2021'"
      ]
     },
     "execution_count": null,
     "metadata": {},
     "output_type": "execute_result"
    }
   ],
   "source": [
    "jovian.commit()"
   ]
  },
  {
   "cell_type": "markdown",
   "metadata": {
    "id": "aKzt16kKgRCY"
   },
   "source": [
    "### Pulic Leaderboard"
   ]
  },
  {
   "cell_type": "markdown",
   "metadata": {
    "id": "GgTcMllrgK6T"
   },
   "source": [
    "![Screenshot_2021-09-22 JOB-A-THON - September 2021(2).png](data:image/png;base64,iVBORw0KGgoAAAANSUhEUgAABUUAAAJyCAYAAADjOqFXAAAgAElEQVR4nOy965NT553vu/8A88Iv8saeqrw4U7V3OVOzq6YmVZNUpWbXqRpItEsVHJPjzmFD4XBs2g5DnDi2czHHGTts5+BLjmcyTaY8YZtrHMLFBqdjjGlzMI4d34KNYaC73RdoaBr6gqQW3ZJa+p0XzbNYWlpLWktal+eRPp+qbyUWq5fWRfrq93zXc/lPkzMZQXpreHhYAAAAAAAAAADADIaHhxPPk1B9/aekDwA1FqEoAAAAAAAAAIA5EIrqL0JRA0QoCgAAAAAAAABgDoSi+otQ1AARigIAAAAAAAAAmAOhqP4iFDVAhKIAAAAAAAAAAOZAKKq/CEUNEKEoAAAAAAAAAIA5EIrqL0JRA0QoCgAAAAAAAABgDoSi+otQ1AARigIAAAAAAABAuzA6OirHjx+X3t5e2blzp2zdujV07dy5U3p7e+X48eMyOjoa+zkSiuovQlEDRCgKAAAAAAAAAKYzMDAQWQjqJyQdGBiI7VwJRfUXoagBIhQFAAAAAAAAAFPJ5XLy8ssvJxKGOvXyyy9LLpeL/JwJRfUXoagB6pRQNJVKyVNPPdVwu+7ubunu7rb++8yZM7J69Wp55513ojy8WHnrrbcklUrJW2+9Fcr+du3aJalUKpEhA0Ew5TgB4sSvNwIAAAAA6MjU1FRivUPr9RqdmpqK9LwJRfUXoagB0jEUTaVSNUqn07JhwwY5depU0/tsJhT96KOPJJVKyZtvvtnU+zZzDFFDKBrNcTo/O4pMJiPPPvus3HXXXZJKpWT58uWyadMmmZ6ertn2qaeecv3sP/zww3LhwoVAx9Pf3y+pVEqee+4533/j9t1zSp3j6OiopFIp2bVrV939uX3mBwYGZMOGDZJOpyWVSsndd98t+/btk1Kp5LqPrq4umZ2ddX0Pr+veDKVSSXp6euTuu++2znfDhg1y8uTJUPavI0n60tGjR2XlypVV19rtc37hwgXZsGGDtd23v/1t19+CkydPyn333Ve1Xb17d+XKFenp6ZFnn3021PMCAAAAgHjI5XKugeiePXvk008/rQomp6am5NNPP5U9e/bEFoxG2WOUUFR/EYoaIF1D0e9973vS19dnaf/+/VbjuZkwr9lQNEwIRZMliVB0YmJCurq6JJ1OyzPPPCN9fX3yzDPPyPLly2X58uUyNDRUtb0KRe2f/V27dsny5cslnU7LxMSE7+N5/vnnrVDVLWx0w/6+fX19rt/FP/3pTyLSfCh65MgRSaVSsnLlStm1a5f09vbKww8/LKlUSr773e/WHKsKuDZv3uz6HmF9Z0ulkqxfv77qXvX29sq6desklUrJ3r17W34PL9R9T4KkfEl9Hzdt2mRda/VdsX9HJyYmJJ1Oy9q1a6W3t1f6+vqse3LmzBlrO+Vr9s/r2rVrJZVK1fT0P336tPWZ08WXAQAATET9/jrltzPLv/7rv8r7778fw5EGo7u7O7H6IIx2mrovuhFmG1ThNmT+9OnTDf/u008/jW0ofVQQiuovQlEDpGso6vYjlMlkpKurS+65557Q9umEUDQ4hKKLuH12HnroIUmn0zXh5/T0tHR1ddVs7xWOnTp1SlKplLzwwgu+jqVUKsmKFSvkySeflFQqJUeOHAl4NovU+8w2E4qqgGv9+vU14eexY8dc92cvsD/66KOa9wjrO6vC2sOHD9f822OPPSbpdNqzt2qrdFooOjk56dqL+cyZM5JKpeT555+3XnvhhRcklUpVPRCYnZ2VFStWyOOPP269tmLFCnnwwQer9pfJZCSdTstDDz1kvaY+t2vWrJHe3l659957tfBlAAAAE1Htio8//lgmJydlcnJSTp8+LY8++qik0+mqB5hudHV1SU9PT+jH0yqEotEQdija399fE0IGGbI+NTUVSzDa398f2jnbIRTVX4SiBsikUFTkZgNZBVtu27qFNWq7Xbt2WcOY16xZU9ODyBmwuAWIpVKpaj933XWX/PrXv27YG89v+ODc/9133y3Hjh2r2e7o0aPy7W9/2+oNuHHjRslkMjX7evbZZ61hyhs2bJDf/e53rj9IR48etYYN33XXXTXhlAoVjx07JmvWrLHug3r93XfftYa4ptNp2bRpk8zPz9ccT09PT9W127VrV821m5+fd93Ojro3vb298sADD1SdUyaTkY0bN1Zdmy1btsQaiqrh61u3bnXdft++fTVBX71wLEh4pQK+/v5+efDBB6tCoSCEHYpu3brVOi43HnzwQVmxYkXNPn74wx9aD0Scn5WwQtF6ofmbb74pq1evlg8//NB6zT6k2+37pz6fx44dk40bN1rfQft26j3tsl8vP16gzv/YsWNV3999+/ZZ71Hv7/16o59z9vIIJ/UezDivwfr1610/v08++aT1Wan3WXR+PmZnZ2VkZKTq3wlFAQAAmkP9pjt/70ulktxzzz1VDzDjPJ5WIRSNhrBDUeeweT89RJ2cPn068lB0z549oZ2zHUJR/UUoaoBMC0WdwUWQUNQ+BLO3t9caWmkPpfyEoiq42rp1q/T19VlBT6MfTr+h1lNPPSXpdFp27dolfX19snnzZkmlUvLKK6/UXIdnn33Wml5A9cBz7su+XU9PjxW+2M9J7a+np6fqnOw9ttQ2ao7LZ555RiYnJ6teV3+v3scZZqjhyeraqe2cQdD69etl+fLlsn///qpr8Nvf/rbm3qTTaXnggQfkmWeekXPnzlUNg1bv88QTT1jnHVco+tvf/lZSqVRNL1GF+pxu377des0rFJ2YmKi5H/V4/PHHrWM5fPhwTU87v4Qdiq5fv17uvfdez+3VZ8l+zdQ+VE9SZ2/ZsHuK/uIXv2i47dDQkDXPsX3od1dXlxXa2j+fzu+fCnfz+bxMTk7KT3/6U0mlUjI5OVkVMvrxgu7ubkmn07Jy5coab1u7dq2r59m/A3690c85e3mEX2ZnZ2s+U+l02vUzuH37dl/F/qpVq+r6LqEoAABA83iFoiKLdYyq0Xbt2iXd3d2ydetWq7YRkarf/R/+8Ic1Iarav6pjT506ZXUKWb58ufT09Fh1SHd3t+eD5vHxcevBrvPv3PBTHzTap+qcsnz5ckmlFuc6HxgYqNmH6txx1113WfWuvZ2mOnuk02nrobS940l3d7ds2bJFHnroIeteqOv2zjvvWA/N16xZUzOlgX3fqgPN+Pi453m6vb/XvfVzbq0wMjISWvAYxxyj9ofyYUEoqr8IRQ2QaaHo448/LqlUyhrGGiQUtTfeRRZ/BFasWFEV3DUKRVXvP2cQpHr91Qvc/ISi9t5ldh577LGqHnTf/va3awIydQxqmMrHH3/sGiL19vZWnZNbOCdys1euCjVU4OHVg9Qe1IjcDC1UsKJCJ+e5qb9X8wl9+OGHsnr16pqeag8++KCsWrWq5lo5r+mrr74qqVTtMOi4e4qqAKvekGvn8buFoleuXLFCXj/HroYmq56Cs7OzVkAclLBD0XQ6LY899pjn9m4PIez7UNMB2EPTMKe8UNd/zZo1sn///pqe1873tPuJGvqtvgfqXJzfq1deeUVSqeopDdzuu18v6O7ulhUrVlQdayaTkVQqVfO6Okb7w4Wg3ljvnL08wi8vvPBCzdy5Xp9BP9NhqAcCbtMuKAhFAQAAmqdeKGofrbRr1y5Jp9Oybt066evrs9qg9rrh8OHDNXPhP/XUU9Y+VN3xwgsvyOTkpJw4caKqxp2enrbaOfYHzWoKtkcffVTGxsbkgw8+kHQ6XXdaqkb1gZ99PvbYY9LV1SWDg4MyNjYmjz/+eNV0TLOzs9LV1SXr16+XwcFBGRwctB5Mq1pYdfZYu3attU1XV1dVPa0ekKuH8LOzs9Z9Wbt2rZw+fVoGBwetKQ1UnVUqlaSrq8va99jYmDz66KPS1dVVde3S6bQ8/vjj1tQIXV1dVeG12731c26tcvz48ZZ7iSri6C16/PjxUM7bDqGo/iIUNUCmhKLz8/NWI9i+4EqQUNTth00FV4pGoagzKFTMzs5KX19f3d54fkLRp556qmb4sMjNIKVeAOA8VhVKOv/GuZ26rs5z+uijj1y3c+7P6/WxsbGq++AMcxSqd1ijXpDO4MhrCO6TTz7purhQ3HOK+pkn0isUddO5c+d8HYcKx+3386mnngp9Ll71PWsk+983+g40CkVVYWYP58KeB/jo0aPW0G8VkNqDSXXezocAIovzWqpj9fp8lkqlGh9z+6z49QKv80+lUvLkk0+6vh7UG/2ecyvfMXW97IFtveNr9F6qZ6vXAl0KQlEAAIDmcQtFS6WSFU7aH5yuWLHCdUFNVZeoNoG9dlqxYoW1jxdffFEeeeSRqr9/8sknXdtudnp6emree9++fXUXI21UHzTa58zMTE0nj6Ghoarze+WVVySdTrs+2FbbqM4e9jbm+++/X1MLOudpd/awFbnZUUJdb3W89vdX6xKodtmRI0dk9erVVefpHK3jdm/9nFur9Pb2Nj2XqJM45hbt7e0N5bztEIrqL0JRA6RrKOqlH//4x1WG22oo6mxYNwpFW1kQxU8o6hz24ZQ6zlKpJPv27ZOVK1fWbNPoWL3OyUvNhqLOc64XXnV3d1f1SpuenpZNmzZZcxza5XUe9n25vU+jEMV5HYIGJWH2FHWuAr9hwwZJp9PWuTo/J/bPutv8Tap4Uj3m3ALNRvfPidrHz372s5rjta9eH2ZPUZGboaAKzxqFovWuVT0ymYzs2rXL+o6pRQC8Vll1fm7qzZvp/Ly7fVf9ekG9UNTt3jXjjX7PudlQVAWYXscbNBRVvTfcFvRyQigKAADQPF41gj18E7k5xNqJsy557LHHrIBPddCoNxWPfYi+/XjsdHd31zwkVb1OvWqWRvVBM/tUtbO9Deac+kxEGm7jDI+7u7s9115w8thjj1WNwHKbt/3555+vW1urGsz+326LxzY6t1ZxzifaKlGHojt37gzhrKshFNVfhKIGSNdQ9Hvf+15VuPLHP/7RdShrO4aiq1at8gyZVMCmhl/s37/fWunROSw+aCjq9Z7qCWOUoei9995r/ShnMhlZvny5rF27Vj788EPr/NS8i17nYb+GzYSin376adV5f/rpp67beRHlnKJqsnrV2/NPf/pT1bGq77Ga3sFLqshUPZvdPlt2/ISicc0pauehhx6yphNoFIp6XSu/lEola9i+PSD81a9+5fp9UZ+bMEJRP14QZyja6JybCUVVIPrd737XNcAMOqeoCkRXrlzpOf2BHUJRAACA5nFbfX5yctJ1xJafUPTIkSPWSJkXXnihql5SnULUHJlKjULRrq4uz9rYbWFJkcb1gZ99XrhwQR5++GFrvk4lexvMq1ZT2zz66KOe72PvIOA3FLWHyF7n6LxX9sV97fLa3u+5tYozdAx7f1EobAhF9RehqAHSNRT120htNRR1hhGNQlHVEHcGSKVSSSYnJ2tWWw96XmqIeb3eTc5h6Y2OdWxsrO52akqARgvxBA1FnffB7/B5FSY69xd0+Lzf4w/C2NiYrF69Wl5++eWaf3N+dtTTYq8fwKCrz/sJ5J977jlJp9OuwdXPfvazqnmM/BB2KKo+a0FXn3f7jqfTaXnooYdCGz5///33y49+9CPXf7N/1tR9VXO2etHq8Hk/XiASXShqPya/5xz0O+anR+f69etdexrYV59XqHm37HNhNYJQFAAAoHnqzSlqx28oqoZ4f/TRR3LPPfdUTd2zdetW6erqktOnT1ct8uinp+ivfvWrqtBWyavt5qenaL19qvP4l3/5l6qaxBmKuvXUdG6zceNG1/fJ5/PWsQTpKaqmV3ryySddR3Bt3rzZuqZHjhyRdDotJ06csK6Vc99eoWijc2uVHTt2GDV8fseOHaGctx1CUf1FKGqATA9F77333hoTVkOF3RZacs5rsmLFiqqhxo1CUbV4kTMcUAt6eIU9fs9LzRvj3H8mk7GeOnotjKRCUOeiUM7tVBjnPCfnXDSlUkmOHj1q/XejUNT5Y6yOR10TvwstufUWLJVK1nBihVfo5PU+zz33XMuhqCpwfvjDH1a9ru6JV49GZ2/R6elp6erqci0g3AoY1VPUvtCU2zb2+R2dqGDLvsBPI8IORScmJiSdTruGYGpFSuf+GvVkdPYQaBZ17d169qowVy1iplZddxbSx44dqykYnd8/5RWNFlry4wUi4YSifrzRzzkHCUUzmYysX7++YY/OrVu31jy0UXPL2s+vVCrJ448/LsuXL/fsne0GoSgAAEDzhB2KiiyOiHvsscdqOqK4/WZv2bLFte1mrzOfe+65msUiRRYXM/WiUX3QaJ9u18U5p6afeTf37dtXs3Cm89jrhaKtzinqnJ5A5OaivQq3e5vEnKK6L7TEnKKdKUJRA2R6KKoazJs3b5a+vj7p6emR5cuXuzb80+m0rFy5Unp7e6W3t9eaK1AFHSKNQ1GRmwHG1q1bpa+vT7Zu3eo5xNN5Xs5pAZT+9Kc/icjNnk6p1OIchn19fbJ//36rN9Xc3JyILM4bmU6npaenR3p7e+V73/tezZAM+7Gq1Qh7enqsIRxu2z3xxBPS19cnvb29snbtWunq6rKeujUKRe2rHj777LOSSqVqnj6qVdTVtevp6am53yrMXblypezfv79qXkc/oai6hvb3eeKJJ6zzbnWhpeeff77qXqr74xZ+TkxMWP/2zDPPSF9fnzzzzDOyfPly1/DGbSqD3t5eWbdunaRS7gvdKFQYXK/QWLVqlTz44IO+zzXsUNR+nCtXrpRdu3ZJb2+vPPzww5JKpVyHUHsdgz0oDyMUzWQysnLlyqp71dfXJxs3bqw5BvuKnr29vdZnLJVKyZtvvlm1jf27rLzCGQorH/vNb34T2AvCCEX9eKOfc/YbitrP7ZVXXqk7bYcKQNXx9fX1ydq1a2u+b+q78+tf/9p1f16/dYSiAAAAzRNFKKpqRWc7Qo2IOnr0qAwODlrtDft+1Tykr7/+uhUcqhFGaqX4sbEx2bx5s6xcudKqp5x0d3fLT3/6U9cemn72OTExIalUSh5//HEZHByUo0ePWvWVqtWdK7SfPn26ZoV2tY1aIX5yctKqJy9fvmwdq1co6rb6vAoqvVafX758ubWN6kzzm9/8RsbGxqz3bhSK+jm3VnGuPr9nz56m97Vnz57IQ1FWn+9MEYoaINND0VKpJM8++6xlzt/+9rfl1KlTrg3/zZs3y65du6zFe9asWSOnTp2q2p+fULRUKlXt56677pJdu3Y1HOaqAhI32d+zVCpJT09P1f57enqqemhlMhkrrEmn07Jx40Y5efJkTc805/XZsGGDvPvuu64/SPY5epYvXy6bNm2S6elp698bhaIffPCBbNiwoSogdV4Tt3Nzu3anTp2yVgBX26iepyoIqTdno9v1UU81w1h93n6t0um0bNiwQS5cuOC6bSaTkWeffdY6Z7drq/Ba9Oq+++6r6fnq5LHHHqu7iqaI/6kSFFGEoiIiAwMD1uJRqVRK7r77btm3b5/rsdc7BtX7NazV5+fn52tC+JUrV7oe26lTp6zPu/punTx50vp39fk8ePCgbNy40TrXjRs31jztz2Qy8sADD1jBsMKPF4QRivrxRj/n7DcUdVvoyyn793p8fLzqfZXPO8+rnrw+p4SiAAAAzRNFKKp6NB4+fLjq9fn5eaumUm0N1T6w12k//vGPrfpG4awlHn74YRkfH/c83noLXvrd5zvvvGO1F9asWSMnT56UdDpd1VYbHx+3asC77rrLGjllr4NUu0bVkg888EBVHVQvFHUew8DAQNV2zn1v2LCh6hxULao6HdnbVKpN5nVv/ZxbK4yMjNQEj830Fo2jl+jWrVtlZGQklPO2QyiqvwhFDZCOoSgAgOnUC+0BAAAAAKA1nPOKBp1bNI65RLdu3WotihU2hKL6i1DUABGKAgCED6EoAAAAAEB09Pf3u4aQfnqMxtVDdOvWrXXXHWkFQlH9RShqgAhFAQDCh1AUAAAAACBaDhw44BpE7tmzR06fPl3Vc3RqakpOnz4dyxyiSgcOHIjs3AlF9RehqAEiFAUACB9CUQAAAACAaMnlcq7D6HXQjh07JJfLRXbuhKL6i1DUABGKAgAAAAAAAICJTE1NaReM7tixI9D8ps1AKKq/CEUNEKEoAAAAAAAAAJhKLpfzHEoftw4cOBBpD1EFoaj+IhQ1QISiAAAAAAAAAGA6/f39ifUa/e1vfxvZokpuEIrqL0JRA0QoCgAAAAAAAADtwsjIiBw/flx6e3sjC0l37Nghvb29cvz4cRkZGYn9HAlF9RehqAEiFAUAAAAAAAAAMAdCUf1FKGqACEUBAAAAAAAAAMyBUFR/EYoaIEJRAAAAAAAAAABzIBTVX4SiBohQFAAAAAAAAADAHAhF9RehqAEiFAUAAAAAAAAAMAdCUf1FKGqACEUBAAAAAAAAAMyBUFR/EYoaIEJRAAAAAAAAAABzIBTVX4SiBohQFAAAAAAAAADAHAhF9RehqAEiFAUAAAAAAAAAMAdCUf1FKGqACEUBAAAAAAAAAMyBUFR/EYoaIEJRAAAAAAAAAABzIBTVX4SiBohQFAAAAAAAAADAHAhF9RehqAEiFAUAAAAAAAAAMAdCUf1FKGqACEUBAAAAAAAAAMyBUFR/EYoaIEJRAAAAAAAAAABzIBTVX4SiBohQFAAAAAAAAADAHAhF9RehqAEiFAUAAAAAAAAAMAdCUf1FKGqACEUBAAAAAAAAAMyBUFR/EYoaIEJRAAAAAAAAAABzIBTVX4SiBohQFAAAAAAAAADAHAhF9RehqAEyJRStVCoIIdTRMo2krxdCCCUt00j6eiGEUNIyiWFCUe1FKGqAhjULRZM2QYQQMk1Jk/T5I4SQaUqapM8fIYRMk44ME4pqL0JRAzSccCiatLkhhFC7Cd9GCCGzhG8jhJBZ0oFhQlHtRShqgIYTCkVbNaFyuYwQQm0t3Yo1fBshhOoL30YIIbOkm28HgVBUfxGKGqC4Q1GKMYQQak1xF2v4NkIItSZ8GyGEzJIJ4SihqP4iFDVAcYairRZmCwsLCCHUkWq1YMO3EUIoXuHbCCFklpLy7WYhFNVfhKIGKK5QtJnCzMusSqVSjYrFIkIIGS03bwtStIVdqOHbCCFUX/g2QgiZJd18uxUIRfUXoagBiiMUDVqgeRVkbqZWKBQQQqit1KiAq1eshVWo4dsIIeRf+DZCCJklHXy7VQhF9RehqAGKOhRttTjzKsbm5+er/v/8/LzMzc0hhJCRUj7m5nHO4q3VYg3fRgih1oVvI4SQWdLJt8OAUFR/EYoaoKRC0XrFmduTabdC7Pr16zXK5/MIIWSU3LysXgHnfKLtVayF3bjGtxFCaFH4dvL3ACGEgkg33w4DQlH9RShqgKIMRYMUaPYn1V6FmbMQm52dtZTL5RBCyGjZPc1ZwNUr2JxPslsp1PBthBDyL3wbIYTMkg6+HRaEovqLUNQAxR2KehVo9ifV9uLMXpjZi7FsNivZbFYymYz1v5lMRq5du4YQQkZJ+Zfd07LZbFXx5izY7MWa21PsRoUavo0QQs0L307+HiCEUBDp5NthQSiqvwhFDVBUoWijp9bOAs0+j4cqzuyFmTKtbDZrGdvMzIzMzMzI9PS0pampKYQQMkp2D1O+pnzO7n3Ogm1ubq5mDiS3Qs3v02t8GyGE/AnfTv4eIIRQEOni22FCKKq/CEUNUJyhaKMCbX5+XjKZjIyNjcnw8DBCCCEfunjxouRyucCFGr6NEELJCN9GCCGzFJZvh8nwMKGo7iIUNUDDw8ORfEEbDeNxFmjqafX58+elWCxGckwAAO1IoVCQsbEx1yfY9Yb1OMG3AQDiAd8GADCLsHw7TAhF9RehqAGKOxR1e2o9Pz9vDd+J6ngAANqZ4eHhqjmP/Dy9doJvAwDEB74NAGAWYfh22MeTdJ6E6otQ1ABFURQ1Gsrj9tQ6n89LLpejSAMAaILh4eGqOY/cnl7XG9KDbwMAxAu+DQBgFq36dhTHk3SehOqLUNQAxRGKOp9a259Yq2E8aoJ3ijQAgOAMDw9XrZSpCjW/T6/xbQCAeMG3AQDMolXfjuJ4ks6TUH0RihqguENRr2E8uVxOMpnohvMDALQzw8PD1iqZbsN6Wmlc49sAAOGDbwMAmEWrvh3F8SSdJ6H6IhQ1QHGFos65jdRTa3uBNjMzQ5EGANAEw8PDksvlJJ/PW0+v3eY6CtK4xrcBAKID3wYAMItWfTuK40k6T0L1RShqgKIORRs9tZ6dnZVsNivXrl2T6elpijQAgCYYHh6WbDYrs7OzgZ5eK/BtAIB4wbcBAMyiVd+O4niSzpNQfRGKGqCkQlE1t5H9qfXk5CRFGgBAEwwPD0smk5FcLmfNdRR249pE3y6WKzJTWJCJuQW5kC/KYLYgg9minMsU5KyHzmUWtxnMFmV4tigX8kW5Mrcg2VJZCuVoVxEFgM4B366mXBHJl8oyXVj069HZkuXFXn59NlOQfptnn7/h2dOFBcmVylLCswEgRFr17SiOJ+k8CdUXoagBCrsoajS/kX3C93w+X/XUWtciDQBAd4aHh+XatWuSzWarhvQUCgVfq2K2i2/nS2WZmFuQwax3AzoMDWaLcjFfkmypLLS5AaAZOt23Fyoi04WyjM6WpD9Cv1707IKMzy0GpXg2ADRLK74d1fEknSeh+iIUNUBxhKJuq2Dah/Kop9ZXrlzRokhLgvKNwvCz3M2n4Z/likkfFgAYwvDwsMzMzHgO6ak3z5Hpvp0rLTaq6/X+jFoD2YJcmVuQBRrbAOCTTvTtUrkiE3MLMhDxg6tGGsoV8WwACEwrvh3V8SSdJ6H6IhQ1QEmEovahPNlsVqanp+Xq1aty+fLlxBvXcVIRkWypLMOz7sOCCEUBwC/Dw8MyPT0t2WzWdUhPq41r3Xx7oSIyMbeQaBBar7GdK5VjvyYAYBad4tsVEZlxPPjXSaU4pF8AACAASURBVEO5oswU8GwAaEwrvh3V8SSdJ6H6IhQ1QHGFos75jdQqmGooz5UrV2R8fLwjQtFcqSzn8417NRGKAoBfVJF27dq1qlUx3eY58tu41tG3i+WKnM+XEm9E+9FAtiDTNLQBwIN29+2KiFyZ1/PhlZvOZQpydX5B6DwKAF604ttRHU/SeRKqL0JRAxRlKOo26bvb/EZTU1Ny5coVuXTpUtuGovMLFbl4PdjwTkJRAPDL8PCwTE1Nuc5z1GjydxN8u1wRGbtuRhjqFo5m6TkKAA7a1bcrInLVoDDULRzlgRYAuNGKb0d1PEnnSai+CEUNUNyhaKFQcJ3faGJiou1CUTVvUrOTxxOKAoBfhoeHZXJysmaeIz8rYuru29OFsrGNa7tGZotSiqgoBgDzaEffzpbKic8XGpYGswWZY9JRALDRim9HdjwaZErIW4SiBijOULRQKFQVaZlMRmZmZqz5jcbGxowPRRcqi0/Hw5g3iVAUAPwyPDwsV69elZmZGclkMlVFWpCVjHXy7WK5Evkq8nHrXKYg14r0QAKA9vJtk3vzN9L49RJD6gFARFrz7aiOJ+k8CdUXoagBijsUda6EOT09LZOTk0aHomoCea8FkwhFASBq1JNrNfm7c0XMVhrXSfj2dGEh8YZw1I1sAOhs2sW35xYqbdM71EtDuQI9/QGgJd+O7Hg0yJSQtwhFDVBcoagayqOKtFwuJ5lMxloJc3x8XC5cuGBUKJorlWV0Nrqn4oSiAOAX9eR6enpaMpmMtSKmKtLUiphBGtdJ+fbFNu1t5NTobJHeRwAdTDv4drs/wLKrP1OQPPNDA3Q0rfh2VMeTdJ6E6otQ1ADFHYrOzc3VFGlqJUwTQtHrTSyY1KwIRQHAL8PDw3LlypWaIs2+Imazjeu4fLsiIsMhTD1ikoZzBKMAnYrpvj0x1zmBqF1ZpkAB6Fha8e2ojifpPAnVF6GoAUoiFM3n85LL5ayVMK9evSqXLl2S8+fPaxmKzi8sLpgU90IfhKIA4Bf15FqtiJnL5awVMcNoXEft2+WKyFCHBaJK5/MMpQfoREz27ctzndGj30sEowCdSSu+HdXxJJ0nofoiFDVAOoSiV65c0S4UXaiIXJlbSHSOJEJRAPCLenIdV+M6TN+uSOcGokpjzDEK0HGY6tud2kPUKYbSA3Qerfh2VMeTdJ6E6otQ1AARit6kXFlcMEmXxjmhKAD4xdTGNYHoTc3Q8wigozDRt2eK5cS9Uhf1Z1h8CaDTIBRFQUUoaoB0CEUnJibk4sWLiYSiFVlcMCnslePDEKEoAPhleHhYJiYmYmtch+Xb5/OdPQTTqUKZBjZAp2Cab+dLBKJODVGrA3QUrfh2VMeTdJ6E6otQ1AB1aiiaL5XlQr4Y+zyhQUQoCgB+Ma1xLcIQTBrYAJ2NSb5dqlSkXwOP1FETcwvRfEAAQDsIRVFQEYoaIJ1C0dHR0UhD0fmFiownsGBSsyIUBQC/JNW4bta36XHkrekCDWyATsAk375Ar/66ur5AL3+AToBQFAUVoagBavdQdKGy2BtpIKvf8PhGIhQFAL+Y1LiuiCS6iJ3uGsgWhOY1QPtjim9nmUe0oUZmqdkBOgFCURRUhKIGqB1D0XJFZLpQls8MX7yDUBQA/GJK41pE5NJ1ehw10uQ8vUUB2h1TfJuHWP6UZbE8gLaHUBQFFaGoAWqXULQiIllNF0xqVoSiAOAXUxrX1xcqiXvruUxBBrNFuZCv1WBWj7mmB7KF6D4sAKAFJvj25Lwecz8PZAsyPFvr2aOzJRnUZDQYvUUB2h9CURRUhKIGqF1C0XZcsINQFAD8YkLjWkRkJKEHVwPZolyZW5CSz9Xdi+WKXEl46hV6HQG0Nyb4dlK9RM9lCnLxeknypbLv6URu+nZytXu+xOQnAO0MoSgKKkJRA0Qoqq8IRQHALyY0rmdL8fcSHcy2vgBGpphMI3ssX2rpuAFAb3T37UwCc4kOZAsyXfAfhHpxfaEiwwlMo3XxOr4N0M4QiqKgIhQ1QISi+opQFAD8onvjWiT+XqJXQ5yXsyIiF2OeC7U/W2TBJYA2RnffHo3Zsy9eL4XuedeK5VinRMG3AdobQlEUVISiBohQVF8RigKAX3RvXOdj7CV6LlOQfCmaoedx/9YwhB6gfdHZt0uVeHv2X4vQ64rlivTj2wAQAoSiKKgIRQ0Qoai+IhQFAL/o3LgWERnLx9fLMqpAVBHn783lOYZiArQrOvt2nAssRe3ZIoshb1zB6CWG0AO0LYSiKKgIRQ0Qoai+IhSNj5lcQd76+LLsfH1Q/ueOk/K1h1+z9IXVe2XJsm1V+sLqvVXb/M8dJ2Xn64Py1seXZSbHqtEQPzo3ruPscTQTUw+doZjmqhvid8ATfBtMR2ffvhDTg6y4PFtEJF+KZ45UfNubVny766d9+DYkDqEoCipCUQNEKKqvCEWjY+RyTna+Pijdz5xwLcJa1RdW75XuZ07IztcHZeRyLunThQ5A58b1VEw9jibmwptDtBHXF+ILemERfBvaDZ19O47F5ZLoUXkpprmhSxEFIKaBb0O7QSiKgopQ1AARiuorQtFwGbmck0e3vOdZlN2ydJssWXrjf+2vu23r82/tRdujW96jYIPI0LlxHccCS5/l4l/cIq4pAeYWOnd+Onwb2hldfbtQjv6hT3+2mEhwWKpUpD8b/W/SbKlzQ1F8G9oZQlEUVISiBohQVF8RirbOTK4g/3rgjHyp+2B14bT0Rbll2Ta5Zdn20J9a3yzkti8Wc0tfrHr9S90HZefrgwz7gVDRtXFdEYnFLzMJLGwRV2/RKBcg0RF8GzoFXX07W4x+mPl4gvNujsfQW3RyPr6RCzqAb0OnQCiKgopQ1AARiuorQtHmGbmck+5nTshtd+6qKsyWeDxZjkVLqwu22+7cxdNsCI1OblwPzybnlcMx9ILtlMY1vg2dhq6+PV2IvqZOsiflbCn6B1qdskgevg2dBqEoCipCUQNEKNq8zkW8f0LR4KjirPoJ8ja5ZWl0T6iD6pal22uGA3U/c4JiDVpC18Z1HPO3TSUYGsbx2xPnXKlJgG9Dp6Krb0fta/3Z5OvbqIfQn8+3dyiKb0OnQiiKgopQ1AARigbT8GxRpgtlWahE/56Eov6ZyRXk0S3v1TwpdpufSBfdcuMY7a89uuU9hvlAU+jauI5jlfYkF7SIo8fRxQSHmUYJvg2djq6+HXV9q8Pq7FHPdT2S4AiGKMG3odMhFEVBRShqgAhF6+tcpiCjsyXJlso1i3gQiurBobdHqydz17w4a1SsfWH1Xjn09mjSlxUMQ9fGddSBYdINzzjmTG3HHkf4NoC+vn0+4kXkdPC0qEcxtGMNj28DEIqi4CIUNUCEorXqzxRkfG5B8qX6i1sQiibLyOWcfO3h124WO0nOXxRWwWY7h689/BpDfMA3Ojau5xain0/0qgbzbQ5moz1HHQKEsMC3AW6io2+LiORKZZkuLESmXIP6Og6o4f2DbwPchFAUBRWhqAEiFF3UQHZx3rb5Bf+GRUGVHIfeHpXblt+Y1H3pi1rNYdR6obbdmiD+tuW7eIoNvtCxcR3HIktJLtahiHqKgHYJRfFtgGp09O1OgRreH/g2QDWEoiioCEUNUCeHokO5m/ODxvWenVhQhY19LqNblpk1dMd3oeY4r0e3vJf0ZQfN0bFxHccKxknOJ6rohKGmrYJvA9Sio293CtTwjcG3AWohFEVBRShqgDopFLXPD1oOwZcoqOJlJleQL99/0FbItM/Tau9i7eY5fvn+g0wKD57o2LjuhBWMRQhF64Fv49vgjY6+3SlQw3uDb+Pb4A2hKAoqQlED1O6h6LlMQS7kiw3nBw3zPSmowufjwSlbgfZi4sVTUvry/QeZ9whc0bFx3SkeGXUoesnQ1efxbXwb6qOjb3cKUf8+nTd09Xl8G9+G+hCKoqAiFDVA7RiKNjM/aKvv2c4N/qT5eHBK/uIbu2XJssWJ0dtx+E4j3bLs5qTwf/GN3fLx4FTStwU0Q8fG9YWIw0JdPPL8bLRzik7MJb+YVFDwbXwbGqOjb3cKUT/Mumjgwyx8G9+GxhCKoqAiFDVA7RKKThcW5MrcgpTCGBfvE0LR6Pl4cEpuv7OzCzS3Qu32OynUoBodG9edMqz8s4gXWpopJr9ScxDwbXwb/KGjb3cKUfv21XmzHmbh2/g2+INQFAUVoagBapdQNAkIRaPl48Epue1OteJl8kWSNrpxLW67cxeFGljo2LgulStSiFBxPgSrR5S/A2czhUimf4kKfBvfBv/o6NudQKlSidy3Z0t6/D75Ad/Gt8E/hKIoqAhFDRChaPMQikbHx4NTcvuNITwUaN6F2u3f2M2cRyAiNK6TIl8qR964NqVpjW/j2xAMfDsZpuajrd/x7TYSvg0OCEVRUBGKGiBC0eYhFI2GmVxBvtS9OMn7LRRonlLX5kvdrJIJNK6T4mrEjWtTfgfwbXwbgoNvJ8NoxPNAjxqyyBK+jW9DcAhFUVARihogQtHmIRSNBrXqZafPadSwSLMVal++/2DStw0ShsZ1MoxE3Lg2ZbEOfBvfhuDg2/FzfSH6ofNThswnim/j2xAcQlEUVISiBohQtHkIRcPnkS3v3ShCXqRA81moLVn2oixZtk0e2fJe0rcPEoTGdfwUytE3rk1YZAnfxrehOfDt+Dkf8YOs/mzRiKHz+Da+Dc1BKIqCilDUABGKNg+haLgcens08aLHdB16ezTp2wgJQeM6fq7EMC9dKaIiOizwbXwbmgffjpeZYvRzQI8b0Lsf38a3oXkIRVFQEYoaIELR5iEUDY+Ryzm5/c7Fid5vWbY98WLHNKlrdvudTATfqdC4jpeKiPRH3Lge0XxeOnwb34bWwLfjo1iuSH822l6iJjzIwrfxbWgNQlEUVISiBohQtHkIRcPjaw+/dqPYSL7gMVXq2n3t4deSvp2QADSu42Uyhl6ik5rPS4dv49vQGvh2PJQqlcgfYp3NFGRiTm/PFsG38W1oFUJRFFSEogaIULR5CEXDwRrGs5R5jVou0pYuznfEsJ7Og8Z1fMTRS1T3Hkf4Nr4NrYNvR0++VI7Fr/szBe3nEsW38W1oHUJRFFSEogaIULR5CEVbZyZXkC+s3rtYZCxlGE/LhdqNa/iF1XtlJldI+vZCjNC4jo+ovf9spiBjeX3npcO38W0IB3w7OsqVeLxaKav5onj4Nr4N4UAoioKKUNQAEYo2D6Fo66jVL29ZmnyB0y5S15LVMTsLGtfxEMeK82czBcmX9O1zhG/j2xAO+Hb4zC9UZPx6Sc7FFIaezRTk8py+D7EU+Da+DeFAKIqCilDUABGKNg+haGuMXM4lXtC0u5gEvnOgcR0PI7PRL9QxrPECS/g2vg3hgW+3RqFckbmFikwXFuT8bDGWYfJODeWK2g+bx7fxbQgPQlEUVISiBohQtHkIRVtj3dMnFosJnlqHrxvXdN3TJ5K+zRATNK6jJ47Flc5mCpLReBgmvo1vQ3h0um/HObw9CvVn9J77WYFv49sQHoSiKKgIRQ0QoWjzEIo2j/2pNZO9hy/7NeXpdWfQ6Y3rqClV4hk2r7Pv49v4NoRLp/u2yaGoKYEovo1vQ7gQiqKgIhQ1QISizUMo2jw8tY5BzHXUUXR64zpqhnLRD5s/m6GXaMcL3+4oOt23TQ1F+zMFmV/QPxAVwbfxbQgbQlEUVISiBohQtHkIRZtjJleQ27+xW5Ys46l1lFLX9i++sZuVMTuATm9cR0lcDfchjT0f38a3IXw63bdNDEUHsgUpls0IRPFtfBvCh1AUBRWhqAEiFG0eQtHm+OX+MxRoMRdqOw4PJn3bIWI6vXEdFdeK5dga29c17nmEb+PbED6d7tumhaLDuaIYkoeKCL6Nb0MUEIqioCIUNUCEos1DKNocX77/4GIBsXR74kVMPf3tvS/LvMdQ1my+mPjx+SrSblzjL99/MOa7DHHT6Y3rKChVKrGtZnzpeinp060Lvo1vQ/h0um+bFIpemV9I+nIFBt/GtyF8CEVRUBGKGiBC0eYhFA2ONeH70hcTL2Aa6TdvfFb3XHoOnEn8GH3pxrVmAvj2ptMb12FTkfjmEe3PFETnzkf4Nr4N0dDpvm1CKDqYLcicxr34vcC38W2IBkJRFFSEogaIULR5CEWD88iW924UDhoULw00MJapey5nRmYSP0Z/Rdri/zIBfHvT6Y3rsDmfL8XW6L6m8eJKIvg2vg1R0em+rXMoei5TkOmC3t5cD3wb34ZoIBRFQUUoaoAIRZuHUDQ4X1i9N/mixYfW/vx4w3Mplyvy9R+9nvix+hVDetqbTm9ch0mcDfULeb2HzYvg2/g2REWn+7aOoei5TEEm5haMmjvUDXwb34ZoIBRFQUUoaoAIRZuHUDQYJg3l6X33gq9z2tM3lPix+hJDetqeTm9ch8VMjAsr9WcKUoqoSA4LfBvfhujodN/WMRQdyBaND0XxbXwbooNQFAUVoagBIhRtHkLRYOw4PChLlpmxCua1WX/X/tJkPvFj9SNWxWx/Or1xHQb5UnyB6NlMQWZL+re68W18G6Kj031bx1DUrvP5kswbOJ8ovo1vQ3QQiqKgIhQ1QISizUMoGox1T5+4UTDovQrmEy/+OdB5/fBX7yV+zI2LtMVrvu7pExHdXUiaTm9ct0q+VJZzMTa2J+bMWMkY38a3ITo63bd1D0Xt4WjRoK6j+Da+DdFBKIqCilDUABGKNg+haDBMmd/ow3OTgc7rxCeXEz9mv/rC6r0R3V1Imk5vXLdCqVKR/hgb2EMGeTu+nbzw7fal033blFBUaWJuQUyIRvHt5IVvty+EoiioCEUNEKFo8xCK+mcmV0i8QPGjv733ZZn3WAm67NFLIJsvJn7cQQTtSac3rpulVKnIYK4YW6PahHlEFfi2PoL2pNN927RQ9GymIIPZgtZD6vFtfQTtCaEoCipCUQNEKNo8hKL+Of7xuCxZtk1uWZp8kVJP/6u33/Mcth8e8Py3ngNnEj/2RlLX/vjH41HcYkiYTm9cN0NFRIZiDETPZgqSL7k3AnUE305e+HZ70+m+bWIoqjRd0HMKFHw7eeHb7Q2hKAoqQlEDRCjaPISi/lGTvi/RvEgbGMu4Hr+a4N1rQvgzIzOJH3vDIu3G/zL5e3vS6Y3roCQRiE7O69mI9gLfTl74dnvT6b5tcih6NqPn3ND4dvLCt9sbQlEUVISiBohQtHkIRf2zafvJxUJB4yJt7c+Pex5/77sXZMmybXLik8uu/14uV+TrP3o98XOoW6TduPabtp+M6jZDgnR64zoIFREZnY03ED2fLyV92oHBt5MXvt3edLpvmx6Kns0U5OJ1vbwd305e+HZ7QyiKgopQ1AARijYPoah/vvqD1xIvUhqp990Lnsf/wHNvy5Jl9VfKPPT2aOLn4Ed3/7QvilsMCdPpjesgnM+XYm00D+WKRizO4QTf1kf4dnvS6b7dDqHo2YxePUbxbX2Eb7cnhKIoqAhFDRChaPMQivrHhCJt8tq867GroTxBt9NVX/3Ba1HeakiITm9c++VCzIGoSQsrOcG39RG+3Z50um+3Syh6NlOQGY9Fg+IG39ZH+HZ7QiiKgopQ1AARijYPoah/dC/SgjyRPvrhJc9tf/ir9xI/F4q0zqTTG9d+uDxHIBoEfFsf4dvtCb7dGqVyRQrlimRLZZmYW5Dh2aKcSzAY1WEhPXxbH+Hb7QmhKAoqQlEDRCjaPISi/vnC6r2yZNnNycd10zufTnge+9qfH6/a9oHn3vbc9sQnlxM/Fy+pa/+F1XujuMWQMDSu65NEjyQdGsitgG8nL3y7vcG3oyFfKsc+TYqq25N+DIZvJy98u70hFEVBRShqgAhFm4dQ1D9JFyj19Lf3vizzHsOexq66D9G5NJl33X6+WE78fPwI2g8a195cnY8/ENVlKGUrJO1T+Da+3e7g29FSroiMX483HE16ftGkfQrfxrfbHUJRFFSEogaIULR5CEX9k3RRUk//q7ff87i9JnOvN0l8z4EziZ8TRVrnQePanZliOfZAdHJen0U3WiFpn8K38e12B9+Oh2K5IoPZ+H4DCuXk+osm7VP4Nr7d7hCKoqAiFDVAhKLNQyjqn6SLknoaGMt4HvfXf/S669+s/flxz785MzKT+DlRpHUeNK5rSSIQTbqXUJgk7VP4Nr7d7uDb8VGR+Bbau3i9lNh5Ju1T+Da+3e4QiqKgIhQ1QISizUMo6p+kixIvff1Hr3se82cXs3X/duyq+5CecrniWdzpImg/aFxXk00gEL08l1xDOAqS9il8G99ud/Dt+IlrrtGkeosm7VP4Nr7d7hCKoqAiFDVAhKLNQyjqnztW6Tnxe71hOXv6hur+7aG3Rz3/1msYUJJS1/6OVUz83o7QuL5JvhR/IJpkz6CowLeTF77d3uDb8VMRkaFcMfLfhPGEfhPw7eSFb7c3hKIoqAhFDRChaPMQivrnqz94LfEixU1eE7i3yqVJ9wnjddBXf/BaJOcMyULjepF8qSznYg5Ez+fbLxAVwbd1Er7dnuDbyXB9oRL578JAtpDIueHb+gjfbk8IRVFQEYoaIELR5iEU9Y+ORdoTL/450nP+4a/eS/wcKdI6BxrXi4tp9BOIhga+rY/w7fYE306OSzGsSp/1WGk9SvBtfYRvtyeEoiioCEUNEKFo8xCK+kfHIu2dTyciPecTn1xO/BzddPdP+yI9b0iGTm9clyrxB6LDuaIkt8Zw9ODb+gjfbk863beTpFCOvrfopQSG0OPb+gjfbk8IRVFQEYoaIELR5iEU9c+m7SdlybJtcsvS5IuUJcu2yd/e+7LMR/wEf75YTvw87VLXftP2k5GeNyRDJzeuS5WKDMYwR5xdQ20eiIrg2zoI325vOtm3dWB0NtrfjaEE6nh8O3nh2+0NoSgKKkJRA0Qo2jyEov7ZcXhwsVjQpEjrOXAmlvPuOXAm8XO1irQb/7vj8GAs5w7x0qmN67gWzei0QFQE39ZB+HZ706m+rQuT89HW8WczBSlFFIR4gW8nL3y7vSEURUFFKGqACEWbh1DUP8c/Hl8sFDQp0gbGMp7HOjyek08+m/at8xOznvs6MzKT+LlaRdqNa3/84/EobjEkTCc2rpMKRONu5CYFvp288O32phN9WyfiGEI/W4r39wLfTl74dntDKIqCilDUABGKNg+hqH9mcoXEixSlr//o9brH+vUfvR5of2t/ftxzX+VyJfD+oha0J53WuK5I9EMfnRrIxt/rJ0nw7eTPG99ubzrNt3VkIBvt78bk/EKs54NvJ3/e+HZ7QyiKgopQ1AARijYPoWgw7li1N/ECZcmybdL77gXPY/zsYrapfY5dzXvu89Dbo4mfs9Idq/ZGcWtBAzqtcX0+H/3KwXb1ZzorEFXg28kL325fOs23dWQk4odrE3PxhqIi+LYOwrfbF0JRFFSEogaIULR5CEWDse7pE7Jk2Ta5Zdn2RAuVS5PeBdWevqGm9nno7VHPfV6azCdenKlrvu7pE1HcWtCATmpcX0ggEJ1f6LxAVATfxrchSjrJt3Ul6gds5/Pxr0CPb+PbEB2EoiioCEUNEKFo8xCKBkNN/n5LQoXKkmXb5IkX/1z3GNf+/HhT+603pEdE5IkX/5xwkbb4v0z63r50SuP68ly8gei5TEHypWhXztUZfBvfhujoFN/Wmahr+SRCUXwb34boIBRFQUUoaoAIRZuHUDQYI5dzN4qGFxMrVk58ctnz+MautvaEud4T8ROfXE60SFuydPGaj1zORXFrQQM6oXEdtee6qZMDURF8G9+GKOkE39adqH9XhhKo5fFtfBuig1AUBRWhqAEiFG0eQtHgJDnP0d/e+7LMF70DjlbnIqo3d9J8sZxskbZsm3yp+2AUtxQ0od0b11fnCUSTAt/GtyEa2t23TaBda3l8G9+GaCAURUFFKGqACEWbp10LqSh5ZMt7i0XD0viLlJ4DZ+oe2wPPvd3S/h947u26++85cCaZAu3GtX5ky3th3krQjHZuXM8Uy7EHopk6DbpOA9/GtyEadPPtiogUypVIpdvszO1ay+Pb+DZEA6EoCipCUQNEKNo87VpIRYkOQ3o6Twzl6QR0a1yHRRKB6AyBaBX4Nr4N0aCbb19fqETur9c1W7Tu0vVo56kemU2mlse38W2IBkJRFFSEogaIULR5CEWb40vdB2XJsm1yy9JkV8XsBKlrzFCe9ke3xnUYZBMIRKcLC5Gci+ng2/g2hI9uvl0oRx+Kzpb0CkXPzxYjPd8kFlpS4Nv4NoQPoSgKKkJRA0Qo2jyEos3xy/2Lw1qSXBWzU8QqmJ2Dbo3rVsmX4g9Er84TiHqBb+PbED46+nanPXgazEZ7vkmGovg2vg3hQyiKgopQ1AARijYPoWhzzOQKcvuduynUYirQbr9zt8zkCknfdogYHRvXzZIvleVczIHoxJxeDXXdwLfxbQgfHX07aq+9dD25kNBJHD1jk/xtwbfxbQgfQlEUVISiBohQtHkIRZtn3dMnFouJBCaA7xgx4XtHoWPjuhmK5Yr0E4hqCb6Nb0O46Ojbn+WiHU4+kNUnNJqcj7aOP5spyGTCIxDwbXwbwoVQFAUVoagBIhRtHkLR5rk5ATxPr6OQ/Zoy4XtnoGPjOiilSvyB6EWNei3pDr6Nb0O46OjbUc+xeTZTkLwm84qOxHCuSc+him/j2xAuhKIoqAhFDRChaPMQirYGT68j1I1ruu7pE0nfZogJHRvXQShVKjIYcQ8lp5Kc681U8G18G8JDR9++PBftauy6eG++FP3Q+bOZgpQiCkKCgG/j2xAehKIoqAhFDRChaPMQiraG/ek1ikY8te4cdGxc+6UiIkMEokaAb+PbEB46+vZ0Ifoh5WczGvSgjKGXqC51PL6Nb0N4EIqioCIUNUCEos1DKNo6j2x5T5Ys2ya3LHsxktuIQAAAIABJREFU8YKmXaSuJXMbdRY6Nq79kEQgOjpblOT77pgLvo1vQzjo6NtxLD50NrM4t2hSPhxX8KvT9Cz4Nr4N4UAoioKKUNQAEYo2D6Fo68zkCnLHqr2LxcXS7YkXOKbrlmWL1/COVXtZAbPD0LFx3YiKiIzG0FvHrqFccg3xdgHfxrchHHT17YFsPH58Pl+K3Y/zpXJsvzczxXLMZ+cNvo1vQzgQiqKgIhQ1QISizUMoGg6H3h5dLDKWvsgk8C0VaNtkyY2n1ofeHk36tkLM6Nq4rsf5fPRz11UHovQQDQt8G9+G1tHVty9dj8+b4+y5ny+VY13MT7ffG3wb34bWIRRFQUUoaoAIRZuHUDQ8vvqD1xYLjaUM62m6SLtx7b76g9eSvp2QALo2rr24kEAgqsOCF+0Evo1vQ2vo6tuzMS1CdNOfo1+QKFssy7kYz0nXeavxbXwbWoNQFAUVoagBIhRtHkLR8Bi5nJPblu9eLDaWMawncIF245rdtnw3k713KLo2rt2IY3VjuwayeqwA3G7g2/g2tIbOvh3XEHqlc5mCTBfCH25ekejrdTdlNBo6bwffxrehNQhFUVARihogQtHmIRQNF2tYD2paDOPpXHRuXNtJonE6OluSC/li2+jq3EJ0H6SA4Nv4NjSPzr59ZT5+rz6bKchgtiC5UuuBYkVErs4vxNo7VGkgq/cck/g2vg3NQyiKgopQ1AARijYPoWj4qNUxlyxjviM/ss9rxOqXnY3OjWvF1YQa2e0m3YZl4tv4NjSHzr5dqsQ7hN6pc5mCTMwtSD5AQLpQEcmWyjI6W0okDFWamtfnwZUX+Da+Dc1BKIqCilDUABGKNg+haDR8qfvgYgHCRPANCzQ1r9GXug8mfdsgYXRuXIuIzBTjW/G33aVbKCqCb+Pb0Ay6+/Z4jAsuNdJgtijDs7U958/PFmUwW0w0BLVL916idvBtfBuCQyiKgopQ1AARijYPoWg0zOQK8nfrbhRqy5gI3rNIu1Gg/d26gzKTM6cIh2jQuXE9t0AgGqZ0DEXxbXwbgqOzb4ss9haNc7X2dtA1TecSdQPfxrchOISiKKgIRQ0QoWjzEIpGx8jlnNx25+4bBQmFWq0Wr8ntdzLROyyic+P6+kKywzDbTTqGoiL4Nr4NQdHZtxWTTHvi35tnzavb8W18G4JBKIqCilDUABGKNg+haLR8PDhlrZBJoVZboN22fLd8PDiV9G0CTdC5cU0oGnLDW9NQVATfxrchCDr7tp2R2WLivqe7+jMFKUUUekQNvo1vg38IRVFQEYoaIELR5iEUjR57oXZLh08Gb5/TiAINnOjcuCYUDVc6h6Ii+Da+DX7R2bftMIy+sWYMGjbvBr6Nb4M/CEVRUBGKGiBC0eYhFI2Hjwen5PYbQ3s6dTJ4e4F2+50UaFCLzo1rQtFwpXsoKoJv49vgB51920mWxfI8NTGn/2rzfsC38W1oDKEoCipCUQNEKNo8hKLxMXI5Z62S2ZlDe26uesmcRuCGzo1rQtFwZUIoKoJv49vQCJ192w3mFzXXj/2Cb+PbUB9CURRUhKIGiFC0eQhF42UmV7AVats64gm2/Ry/1M2ql+CNzo1rQtHObYTj2/g2eKOzb3sRde1rks7nS2LmLKL1wbfxbfCGUBQFFaGoASIUbR5C0WR4ZMt7N4uYNh3eYx++s2TZNnlky3tJX3bQHJ0b14Si4TfETQPfBqhFZ9+uB8Fo+waidvBtgFoIRVFQEYoaIELR5iEUTY5Db4/KbTfmPVrSZoXaLTfOacmybXLbnbvl0NujSV9uMACdG9eEouE3xk0E3waoRmffbsTVDh5Kf/G6mR7cDPg2QDWEoiioCEUNEKFo8xCKJsvI5Zx89Qev2Yob8+c+sp/DV3/wGvMZgW90blwTioYrU0NREXwbwI7Ovu2HTAcuvnR1vj0WVQoCvg1wE0JRFFSEogaIULR5CEX14NDbo3LHqr22YsesJ9m33Dhm9d93rNrL02oIjM6Na0LRcGVyKKrAtwH09m2/zC9UZDBXTNwXo9ZAtiD5UjmUa2Yq+DYAoSgKLkJRA0Qo2jyEovowkytUzX1kQrHmLM6WLNsmm7afZHJ3aAqdG9eEouGqHUJREXwbQGffDkJFRC5eLyXujVHpQr4k5XafQNQn+DZ0OoSiKKgIRQ0QoWjzEIrqx8jlnKx7+kR1MaTZHEjOSd2XLNsm654+wdAdaAmdG9eEouGqXUJRBb4NnYrOvt0McwsVGcwm75FhaSBbkGyH9w71At+GToVQFAUVoagBIhRtHkJRfRm5nJNHtrwnty3ffbMYWvpizZPiePWiNaH7kmXb5Lblu+WRLe9RnEEo6Ny4JhQNV+0Wiirwbeg0dPbtVpgulOWcBl7ZrM5lCjJdKLf96vJhgG9Dp0EoioKKUNQAEYo2D6Go/szkCrLj8KB8qftgdcG09MXIn2hbT6gdT6m/1H1QdhweZNgOhIrOjWtC0XDVrqGoAt+GTkFn326ViiyuUG9SODqQXVxIiTA0OPg2dAqEoiioCEUNEKFo8xCKmoV6ml09Sby9qHqxZpiNKrZ8vbb0Rc8VOb/UfZCn1BApOjeuCUXDVbuHonbwbWhndPbtsKiIyEyhLJ9pvBjT8GxRcgyTDw18G9oZQlEUVISiBohQtHkIRc1l5HJOdhwelHVPn/As2lrRHav2yrqnT8iOw4MUZhALOjeuCUXDVSeFonbwbWg3dPbtKCiVKzIxtyADGsw7OjxblOlCmQWUIgbfhnaDUBQFFaGoASIUBVgc9nP843HZcXhQNm0/KXf/tE+++oPX5Ks/eM21iLtj1V7r3+/+aZ9s2n5SdhwelOMfjyd9KtChdFrjGgDfBtPpZN9eqIhkS2U5P1uMPCQ9lynIUK4oE3MLki8xV2iS4NtgOoSiKKgIRQ0QoSgAgPl0cuMaAMBE8O2bVESkUK7IdGFBJuYW5EK+KIPZggxmG4em/ZnF7QazRbmQL8rFfEmmC4sB6AIJKACECKEoCipCUQNEKAoAYD40rgEAzALfBgAwC0JRFFSEogaIUBQAwHxoXAMAmAW+DQBgFoSiKKgIRQ0QoSgAgPnQuAYAMAt8GwDALAhFUVARihogQlEAAPOhcQ0AYBb4NgCAWRCKoqAiFDVAhKIAAOZD4xoAwCzwbQAAsyAURUFFKGqACEUBAMyHxjUAgFng2wAAZkEoioKKUNQAEYoCAJgPjWsAALPAtwEAzIJQFAUVoagBIhQFADAfGtcAAGaBbwMAmAWhKAoqQlEDRCgKAGA+NK4BAMwC3wYAMAtCURRUhKIGiFAUAMB8aFwDAJgFvg0AYBaEoiioCEUNEKEoAID50LgGADALfBsAwCwIRVFQEYoaIEJRAADzoXENAGAW+DYAgFkQiqKgIhQ1QISiAADmQ+MaAMAs8G0AALMgFEVBRShqgAhFAQDMh8Y1AIBZ4NsAAGZBKIqCilDUABGKAgCYD41rAACzwLcBAMyCUBQFFaGoASIUBYiO6/ML8v1fviufX/GSLFm2TW5NbZevfOeQHPvzeM22S5Ztc9XfrD0gz+/9VIqlct33OnB8xPqbA8dHqv7t8tR1+R9PHpPb7txtHcfSh/4g75+9WrXdUztPVr33pcm863ut2PhG1XaKL973srX/yWvzVX/zHyPXrO2f2nmy7rlAcGhcA4RDqz5o59psUW5NbZcly7bJf9vw+7rve+zP4/KV7xyy9vf5FS/JUztPyvX5hZpti6WyfP+X71qeftudu2Xjv39Q8zuh9rV60zFf514sleWNDy7K0of+gE/HAL4NEC52//6PkWtV/+ZWJ9tf85JC1dKfS++UJcu2yefSO+V/PHmspt5VNPLTIDWz/b8bydkGgHAhFEVBRShqgAhFAaJh8tq8fP6bL3kWLc/85pOq7RsVOY0atV6h6KmhaauAa3QczjDg+b2f1ryPvZHvFYq6HS+haLTQuAYIh1Z90M7O1werthm9POu63fpf/NHTo//yW3uqGszFUlm+fP9B122/9vBrVfv1+/sxPJ6T7//y3arfCnw6evBtgHCJKhT9j5FrnrX057/5klybLVrv49dPg9TMhKL6QCiKgopQ1AARigJEg2q03praLv+897RcvJqXkwNT8l/v2W8VLkc/vGRtr177P/7vo3Lxal4uXs1L/4VMVePXvr0Tt2KvWCrLX63eZz3RfuXEqHUc9v2qwtEZBrj1bNr+2oDnU3R7gec8XkLRaKFxDRAOrfqgnX/4Xm/VNhv//cOabeze/ff/+KqcHJiSi1fzsvHfP7ReX/7jI9b2z+/91Hr916+ek2KpLLvf+Mx6befrg9a2fkNRt4Y1Ph09+DZAuLQSim79/Tmr/rZL5ObIgFtT2+VPZ65IsVSWJ7f92frbngNnrPfx66dBauZiqVx1TFt/f87zuN1GF0B4EIqioCIUNUCEou2P25C83W98Zv27/Yf316+ek2/85A2rB8xXvnOoZkjHiU8uV+3vr9fskz19Q1XbqB/61ZuOyVM7T1pD/D6/4iU5/N6YiFQ37OyFgL2g+fDcpKzedMza156+IWso+h2r9sqJTy7L0KWcdTy3prbLuqdP1AwhbHTMXoGdV3G1p29I/nrNPuvf/mbtgar9HX5vzLMQmrw2b13fFRvfsF73ary+e+aK9W/O3qV2GhV7218bqNp+9PJszTGq8739xv1asqy2Z9PyHx+p2UbhLPC+eN/L1r0gFI0WGtftR7FUluf3fmp5nvLk/gsZaxv7d/z371yo8sJv/OSNGi90etdXvnNITnxy2fp3v78H/23D7y0fsKM84K9W7xORm762p29I1j19wuo5842fvCGT1+arPP22O3fX/JYEPeZG/u0cdv659E5Z+tAfZOhSrubvmvVBhd1j1UModV3s2K+l83796N/er/o9FBHrN/Fv1h5wPaZv/dOb1mt+Q9Hb7twt3//lu3JyYAqfjhF8u73pv5CRpQ/9wfLQ2+7cbQVcIsHr78lr81XDt9X31u4bfupve41qD/Psvyc7Xx+0vPCL970sJz65bPmw8urJa/NVx6x83U6QNsMX73vZes3L1xvV362EovV6WKptfvRv71uvFUtl12P066et1Mx+jxvCh1AUBRWhqAEiFG1v7D+an0vvrBrKoQI2+w+vczigM7irN8zE/qNtnyfHud2tqe1ybbZY1WC0FxmqZ41qPKoGoNe+3Iao23vj+DnmII3qngNnrNc+v+Ilq+BURaRIdUPWbT66b/3Tm9bxK7war6eGpl2L13r3WhVI9iGZ9qE9ins3vyX3bn5L/u2V/6g6379Ze8BqYNuvx6XJvLW/+589URMGuN13dcyEotFC47r9UN6nvMbue8qP7N97N4+0e6GzB6RdyjP8/h7YH2q9e+aKiFT7g3rfevv6y2/tcT0WFf41c8yN/Nvec/O/rPyddVyfS++0GvOt+qBCXaPb79xd9XDL/hDQvq/1v/hjzT7cHoqp3w9nKKo+L/Zgwet3pR74dHzg2+3LqaFpy19uTW2vqhXX/vy4iASrv+tNyfTl+w9aYZqf+rtYKlsPdOy90FXNqLaze6hfD2+lzdAoFPVTf0cViqpemJn8zVr62myxxp+d1PPTVmpmQtHkIBRFQUUoaoAIRdsb1Tvlv234vRRLZSmWyvLfHzksS5Ztk/+88nciUv3D++X7D8qFK7OSyRflH77/h6rGXrFUtgoy+3b2xSZUbxr7D/2R9y9KsVSWX+w5VfMDrnrIqELIXmCoRrU9FFX7sg9Z+fL9ByWTL8qFK7PWUHG1P7/HHKRRra7p//X/vGVtp87jy/cfrDpmt4ay137dGq/OY7WHBU7cCqRGx1HvuNRcePYiVRWk//C93qptFfbC1l5cT16bJxSNGBrX7cXAWMb6vjz70ikRWVzkQb2mHiTZv/crNr7h6YWjl2ereqir7ZSfqV6Kfn8P3Hqa24eUK69y25d96o4nt/1ZiqWyvHJitGZ/zRxzPf+2X9Pf//F8zXmoRm2rPqhQ9+D+Z0+4/rdI45EA9p5IKkixD6tXoz76L2Ss3zpCUXPAt9uXtT8/bvmUGs784D+/Y32/rs0WffutSHVgqWrhX796cwi1mvvYb/2tHujcmtpuBar/eeXvLL8VqfZCt6k6Pv/Nl0JtMzQKRf3U32HPKVovcLTfE6/5ouv5aSs1M6FochCKoqAiFDVAhKKdh7MR57dBefTDS64/wPa/V084/RY49t5GlybzVT/yzqGCXvuyD5txhoB+j7mZUPSL970sF64sFkFTmXm5eDUvE9NzrsdR7x44Q1EvNWqguhVI9vDBD/bjsi8kou6FKj63vzZQ1RtWYb/v12aLVk+E1ZuOEYpGDI3rzsA+NFLEu2Hk9CB7Dxt7Q9H+90c/vBTIC5Uf/MP3eqve0z5EvNG+7MM+1Wvq3MI+Znso+oN//ZMVVDh7ALXqgyIiH56btF5XQ1ZVmGkPIfw0bJ3XpdEifoSi5oBvdxb27/t/jFwL5Lf2esqO+k1QPuy3/rYPoXf6qFuvSzvqtSe3/dnzmKNoM/ipv+MKRe1/V88r623TSs1MKJochKIoqAhFDRChaPvz61fPyd+sPeD6Yy/iPxS19wJyFhrqddV7yW+BY++ls/21AevJtb1R3SgUrRcE+D3mIIWps4D6XHqn3PmTI/L+2auex+EkaCi64/Cg637shN1T1P73G//9w6p7dW226Lpv5323X397wEFjO3xoXLcfk9fm5fu/fLdq6Lwz5PIbinqFd3bv2/7aQCAvtD/Umrw2bzXo7EP2G+3LjvPcojhm+3VZsmxxCObGf/9ALk9d9zy+oD4ocrMHkX2eULfQoZmeoiKLvYaXPvQH+Vx6pzV/nRoFonpMuV1TP+DT8YFvtzdqnme3oedBQlH7KCrn91J5kBr95bf+tg+h/9G/vW/5uRo67zwOO36OOYo2g5/6O+yFltwWLTpwfMS6p34XsWsUiooEq5kJRZODUBQFFaGoASIUbW/sc0re+ZMj8tLRz+T/fOLNqiInyVBU5Gavm9Wbjrk2qnULRUUWhyraJ7tXeuHQWRHxP6eovdBU/61Wn//zwJRVdNnnfPKimTlFXzr6mbx09DP546mJmvMtlspWT4K/Wr3PKpjVsCo/oaiIVA11pbEdHTSu2wv70MPPpXfKxn//QF46+pk1vFGHUNQeENq9xj7NR6N92XEGeFEcs4jIKydGqxb+UNdYDX9s1QftYYOXlKc3M6eoG/b3tO/HeU39gE/HB77dvthDrf/9u7+Xrb8/J49sea/Kk5IMRUVuDqH/4n0vW/Mt2+cE1S0UFWlcf0c1p6jio/5Jqzb/+398tWZxPCf1/LSVmplQNDkIRVFQEYoaIELR9kb9cNsXMgpj+LwaDuj8+6BDYUSqexu5NapbCUX9HrN9WGW9a1AslWueHg+P56wiRi18Edbq8/agQS1m8uofz1uv2acOsBfgals1H96SZTd7JincFrpyO19VmKn/VfvxG4raG/U0tqODxnV7Yf+eq++zSDjD5+1zn7UyfF7k5kMtJefq6o325bat2/D5esfs178z+aLl3yKLQeKR9y9afqyGgrbqg3b/ryd1TkFXn3fDfsz2hZzcflcagU/HB77dvqi60P5QO4zh8/Y5iUWaHz4v4u5V9lqxlVA0SJvBPize65j91t97+oZcfxNFqtsbyieDhIv2xbPsi1vVo56ftlIzE4omB6EoCipCUQNEKNreqB/Mb/3TmyIiNYtciPgPRe0Nw7AmTRepDufcGtWthKJBjlkVOv/w/T/I9fmFqgU91DWwP623z6WknrarJ/Ui1fN5/vPe03Lxal5ODkzJf71nv+/Gq32hEbeeRV++/6D0X8hULbJhb1jbe5t9/psvySsnRl2PQzW23QpxezBrnwvPbyjq3AeN7Wigcd1e2Bs86uHHn85cqRmy5zcUtftsGIsWKZwPtey9/EVaC0X9HrOIP/+291w6NTQtIrVDSL3ONYgPqt+X2+/cXTMU84+nJqzt1cIo9gD87//xVTk5MCUXr+arjsNttMDE9Jz0X8jIuqdPeG6nXlcjEJxya9Tj0/GBb7cv9nqoWCrL9fmFKr8IGoraF0bys9CSn/rb2avdPnTeeRx2wm4zqEWpbk1tl/4LGbk+v1D1QOipnSd919/2eaA//82XLD898v7Fqno4yLzOIiJDl3JVC0dNXpv39Tmo56et1MyEoslBKIqCilDUABGKtjf24sNNQRvB9SYkt/9tkKLMvr1bo7qVUDTIMTvnmnNKXQP7dfn8ipeq5vuzD29stBiGcyikMxBQ2IsjFaJ+/5fveu5XDSFS2J9sNzoOt3tuf2pt76EQJBS1TyBPYzsaaFy3F/aGnZvUgy6/oahI9ffbKfW3QUNR+/ZLltX2Zmy0L7dt7R7o55id5+vl38VSuSoo/S8rf2cNwbw1td3V44P6oP2+efXOVFMg2H3SHgA49Zff2uPaALf/bi5ZthioOue/q3dNnPey3j2DaMC32xe1sJqXTg1NB/LbejWlvddi0Prb7mH20UvO47Dj95j91t+NFjtS2/qtv184dNZzX7emtlf9dvgNF+2/HV5yo56ftlIzE4omB6EoCipCUQNEKNreFEtlWff0CauR9pXvHKp6svzumSuBG8EnPrlcNR/bX6/ZVzWMWyR4UWZ/L2ejutVQ1O8xX59fkG/85A3rWi196A9V18p+DXa/8Zn89Zp9Vfvb/cZnNdf/+vxC1UIpt6a2y1e+c0iO/Xm8Zlu1L2dD2t5bSg2PUsfwv3X91vo3r/2KLC7KYZ+D6dbUdln60B9qtve653+1evFc7UOggoSiItXzu9LYDh8a1+3H0KWc/F33YkPsc+md8v1fvlszf1yQUFRkcWih3bu+8p1DcuKTy9a/B/09ELn5vXf28hdpPRT1c8wi/v1befJtNxqcygv7L2QanqsfH7T3nPVqqHoNiT/253HXRVk+/82X5KP+2qHzX7zvZflceqd85TuH5JUTo67v1agRTyiaLPh2e/PUzpNW3aXqTvX9amY+5Mlr81W1nFpkzd7jO2j9bf8NcU6z1GooKuKv/hZZ9E7ly3es2us5DZXf+vv9s1dl6UN/sPz0c+mdNV7vPP964aLzIZSb3Kjnp63UzISiyUEoioKKUNQAEYqCDqi549wa1QDQGBrXkBRqgQ5nL39ojY/6J62eYbemtsu+/2846UOCkMG3IWnU3J/OofMA4A6hKAoqQlEDRCgKSTM8fnOeHhrVAM1B4xriplgqy+43PvPs5Q+tM3ltXv7+H191XZkezAffhiSZysxbw8KdQ+cBwB1CURRUhKIGiFAUksQ+9PDW1PaqFYYBwD80riFu7MMG7VN7QLj4WeEYzATfhqRwztdsX/gTALwhFEVBRShqgAhFIUnUqrl3rNpbM0ccAPiHxjXEjZrX7hs/ecP3SrwAcBN8G5Li//3dp9a8pG5zfAKAO4SiKKgIRQ0QoSgAgPnQuAYAMAt8GwDALAhFUVARihogQlEAAPOhcQ0AYBb4NgCAWRCKoqAiFDVAhKIAAOZD4xoAwCzwbQAAsyAURUFFKGqACEUBAMyHxjUAgFng2wAAZkEoioKKUNQAEYoCAJgPjWsAALPAtwEAzIJQFAUVoagBIhQFADAfGtcAAGaBbwMAmAWhKAoqQlEDRCgKAGA+NK4BAMwC3wYAMAtCURRUhKIGiFAUAMB8aFwDAJgFvg0AYBaEoiioCEUNEKEoAID50LgGADALfBsAwCwIRVFQEYoaIEJRAADzoXENAGAW+DYAgFkQiqKgIhQ1QISiAADmQ+MaAMAs8G0AALMgFEVBRShqgAhFAQDMh8Y1AIBZ4NsAAGZBKIqCilDUABGKAgCYD41rAACzwLcBAMyCUBQFFaGoASIUBQAwHxrXAABmgW8DAJgFoSgKKkJRA0QoCgBgPjSuAQDMAt8GADALQlEUVISiBohQFADAfGhcAwCYBb4NAGAWhKIoqAhFDRChKOjO2bNn5YEHHpDR0dGq17u7uyWVSrmqu7vb9zZelEol2bdvn6xcuVJSqVTN+/vZ5tSpU7JhwwbrPTds2CDj4+Oe7/nRRx9JKpWSXbt2tbQNdB40rkEnvHxbRGR8fNyXL/rxYDunTp2SBx54QFKplKTTaXn44Ydleno68DZB3rveedrBt8ENfBt0ohXfbrbenp6ertqvmyf72cavtyu8PDnofqDzIBRFQUUoaoAIRUFXPvjgA1m3bp1VBDmLtOnpaZmcnKzRt771Ldm6davvbdwolUqyfv166erqkv3798vk5KSUSqVA2wwNDUk6nZbNmzfL2NiYDA4Oytq1a6Wrq6tmX2p/99xzT92Gs59toDOhcQ060Mi3Z2dnpaurS9avXy+Dg4MyODho+ajdF/14sJ3R0VHLbycnJ6393nPPPYG28fvejc7TuT98G9zAt0EHwvDtZuvte+65p2a/Tk9utI1fb1d4eXLQ/UBnQiiKgopQ1AARioKOqMJk06ZNsn//fl+9hERE3n//fUmn0zIxMdHSNs8//7x0dXVJJpNpepvNmzfXFFJnzpyRVCol77zzTs3227dvl+7ubunu7vZsOPvZBjoTGteQNH58+5133pFUKiVDQ0PWa0NDQzW+6MeD7Tz//POyatWqqteU3545c8b3Nn7eO+jvE74NXuDbkDRh+raTRvW26q1pf7/R0VFJpVLy0Ucf+d7Gr7crvDw56H6gMyEURUFFKGqACEVBR2ZnZ2V+fl5ERN566y3foejjjz8uzz33XEvblEolSafTcuTIkZa22bFjhxw6dKjqtUwmI6lUSt56662q1ycmJiSdTstHH33k2XD2sw10Lv8/e3ceJ9VZ4P8+/96ZaUgIy+++7jjj6B3v6DijXklMnMlo5jq/Vhwmy6AhajRjbDWaEGOSSXBEs6hhmGAWQ8QsIh0CCVloQiCAAZOhGuS6AAAgAElEQVRAQtiCQMLaTQO9QO97U71Ufe8fJ8/hVHVV9Tndp/qcp/rzfb3eL01zuupUcXjqOd86CzvXJOr4GbfNznW2HVyzc+1nfM1MR0fHkFMczc6s2XH2s4yf5w7y+cS4TfKFcZtEnbDG7WwZbr791FNPadasWUN+PmvWLHes9LOMn7HdJN+YHORxyPgNpSiCohS1AKUoiXv8lqJHjhzRjBkzdOTIkVEtY76Vfv755/Xv//7vmjFjhq699lrt378/0DLZsnPnTs2YMUPNzc1pP//xj3+se++9V5Jy7jj7WYaM37BzTeKUXOP2wMCAZs+erXvvvVeJREKJREL33ntv2mmYIx1fvenp6dEtt9yiG264IdAyQZ97uM8nxm2SL4zbJE4ZzbidGT/z7cceeyzr9Ua9Y6WfZTKTb/wPMib7+Rwh4y+UogiKUtQClKIk7vFbiv7yl7/UD37wg1Evs2HDBs2YMUOzZ8/Wrl27VFtbq9tvvz3tFCA/y2TGXMPowQcfTPv5q6++qpkzZ7qnamabpPlZhozvsHNN4pR84/apU6d05ZVXutevu/rqq9XY2Oj++UjGV5OnnnrKfdxvfvOb6unpCbRM0OfO9zoZt8lwYdwmccpoxu3M+Jlv33vvvcMWnn6WMRlu/Pc7Jvv5HCHjN5SiCIpS1AKUoiTu8VOKdnd3+zrl0c8pmWYy5L120sDAgGbNmuVeLN7PMpkx36p3d3en/c7s2bP1zDPPuD/LnKT5WYYQdq5JnJLviKMbbrhBt99+u3sDuptuukk33HCDe8TRSMZXk56eHjU3N+vdd9/Vddddl/a4fpYJ+tzDHVnFuE3yhXGbxCmjGbe98TvfDrsUzTe2BxmT/XyOkPEbSlEERSlqAUpREvf4KUWff/55zZo1K++kxc8y0tmd4sx4T7nxs0zmY86cOTNtR1s6e1qQd50yJ2l+liGEnWsSp+Qat1evXq2ZM2emfTlkdqBXr14tKfj4mivmmneZ13DOt0zQ5871Ohm3iZ8wbpM4ZTTjtjd+59uFOn1eGjq2j3RM9vM5QsZXKEURFKWoBShFSdwzXClqTkvPdwSRn2VMXn31Vc2YMSNt8iel7xT7WcYkVyEqyT09JxczGRtuGULYuSZxSq5xO99RPwsWLJAUbHw1aW1tzXq3+BkzZrg7vX6WCfrcuV4n4zbxE8ZtEqeMZtw2CTLfznUTpZkzZ7pHdPpZxs/Y7mdM9vM4hFCKIihKUQtQipK4Z7hS9Pe//71mzJiR91pzfpYxaW5u1owZM7Rhwwb3Z+b0STMp8rOMd91zfcPc3Nw8RFlZmR577DE1NzdrYGDA1zKEsHNN4pRc47bZwfWOW+aO72YH1+/46s0999wz5Pp1mXdH9rNM0OfO9ToZt4mfMG6TOGU047ZJkPm2ubGd92ZM5gZN5m7vfpbxO7YPNyb7eRxCKEURFKWoBShFSdwzXCn6gx/8QD/96U/zPka+ZU6cOKHbbrst7fEffPBBzZw5U1u3bk270Yb3G+Thljl27JhmzpypRYsWDZmItba25lxXP6fzcBomyQw71yROyTVuNzQ0aObMme616XLdyGi48TVz3N62bZtmzJihX/3qV2publZlZaVuuOEGlZWVuTvyfpbx89x+Xme2MG6TzDBukzhltOO2FHy+fcMNN+i6665TZWWlOyZnHpU63DJ+x/bMZI7JI30cMr5CKYqgKEUtQClK4p58O50HDhzQjBkztHPnzpy/P9wye/fuTfvGWXK+AX/iiSd0+eWXa8aMGfre976nU6dOpf3ecMt4716ZKdtpSCaUomQkYeeaxCn5xu2amhrNmTPHHQ/nzJmjmpqatGWGG1+zjdt//OMf9c1vflMzZszQzJkzNW/evCFFpp9l/Iz/fl5nZhi3SWYYt0mcMtpxeyTz7Y6ODt12223u4952221DxmQ/y/gZ2zOTbUweyeOQ8RVKUQRFKWoBSlFCCLE/7FwTQohdYdwmhBC7QimKoChFLUApSggh9oeda0IIsSuM24QQYlcoRREUpagFKEUJIcT+sHNNCCF2hXGbEELsCqUogqIUtQClKCGE2B92rgkhxK4wbhNCiF2hFEVQlKIWoBQlhBD7w841IYTYFcZtQgixK5SiCIpS1AKUooQQYn/YuSaEELvCuE0IIXaFUhRBUYpagFKUEELsDzvXhBBiVxi3CSHErlCKIihKUQtQihJCiP1h55oQQuwK4zYhhNgVSlEERSlqAUpRQgixP+xcE0KIXWHcJoQQu0IpiqAoRS1AKUoIIfaHnWtCCLErjNuEEGJXKEURFKWoBShFCSHE/rBzTQghdoVxmxBC7AqlKIKiFLUApSghhNgfdq4JIcSuMG4TQohdoRRFUJSiFqAUJYQQ+8PONSGE2BXGbUIIsSuUogiKUtQClKKEEGJ/2LkmhBC7wrhNCCF2hVIUQVGKWoBSlBBC7A8714QQYlcYtwkhxK5QiiIoSlELjIdS9NChQwAQK2Gn2Hauo/77AYBMYYdxGwAKK+xQiiIoSlELjIdSlBBCij3FtnNNCCHFHsZtQgixK5SiCIpS1AKUooQQYn/YuSaEELvCuE0IIXaFUhRBUYpagFKUEELsDzvXhBBiVxi3CSHErlCKIihKUQtQihJCiP1h55oQQuwK4zYhhNgVSlEERSlqAUpRQgixP+xcE0KIXWHcJoQQu0IpiqAoRS1AKUoIIfaHnWtCCLErjNuEEGJXKEURFKWoBShFCSHE/rBzTQghdoVxmxBC7AqlKIKiFLUApSghhNgfdq4JIcSuMG4TQohdoRRFUJSiFqAUJXmzb4m0/3dRrwUhZJiwc00ChbGdkMjDuB2zMC4SQoYJpSiCohS1AKUoyZl9S6T55zj2LYl6bQghecLONfEdxnZCYhHG7RiFcZEQ4iOUogiKUtQClKIkZzwTxOfvWRL12hBC8oSda7Jjl3TBxdI55+R37SeXsPNPSAzCuB2jUIoSQnyEUhRBUYpagFKU5Mu1n1yi6k1L9I1vSxPPlR5aFPUaEUKyhZ3r8Z1HHpX++m+kXVX+VG9yxvZzzol6zQkZv2Hcjleev2eJFly7RJd+Luo1IYTENZSiCIpS1AKUoiRXzjknfSf6lV3SZV+S3v8BacXKqNeOEOLNeN253rFL+uk90qf/SbrwYqnipchWJbKUfU/64hX+C9FMFKOERJPxOm7HNRPPdea6V14t3fdg1GtDCIljKEURFKWoBShFSbZkFqJez/1e+uznpE9cIL2yOeo1JYRI42fnuq5e+vWj0uWzpPMnO0dHXlMmLVrqjE8X/aNTEo6XXHyJ9IO5Iy9EKUYJiS7jZdy2IQ8tcr74N2PilKnSyZqo14oQErdQiiIoSlELUIqSzOQrRL0eXyl9/JPSP/9vad/+qNeakPGdYt65rnhJ+s73nQJ00mTnqMi77pM2bM8+Nv1grvShv3EK1GJNXb1TCpsyOAwUo4SMbYp53LYt7/+A86W/GQ+frJA+8tGo16r4ctE/RL0GhIwulKIIilLUApSixBu/hajXwt84k8lZV0sNjVG/AkLGZ4p15/qGW5yjP2+6Q1qx1v+4tGKtU6A+8mjBVi2yVLzkvLZcpTDFKCF2pFjHbduyYqX0mc8NHQ/L5ki33B712hVPLv2cdNNc6WP/b9RrQsjIQymKoChFLUApSkxGUoh6zZvvXI/p+jlRvxJCxl+Kded65yhLvi9e4ZxqXyz5yT1OSRx2GUoxSsjYp1jHbdvyiQucs5+yjYcf+TvpjbeiXkP7c9+DzrVad1VJt/5Yuu67Ua8RISMLpSiCohS1AKUokUZfiHrddLt0wcXShInS+94v/d3HpUsulf7tSunab0k/vF36xQLpN09Iz1VIr22VDhySmpqifhcIsTfFunM92lJ0V5V0z0LnVPMduwq2mmOSy2dJXy8rbCFKMUrI2KVYx22b8spm51JQucbC9dukyVOjXku7c7LGuUar9339lxnSkiejXjNCgodSFEFRilqAUpSEWYh6bdotrdok/e4F6cEnpHt+Kd32E+nbN0lf/ro043LpHz4r/e3HpPf9pVOiXnixc6Qpp+ETEizFunMdRim6q8o51fyv/8Y50nIkqat3StWKl5wbPf30Huc6p5fPcu58/6EPO8XrhRc7RxbNvkZa+GB4Rxh96MNOuTsWhSjFKCFjk2Idt23KP/9v5zJQ+cbCH9/rjOlkZPnIR51rtGa+r9P+T6n6RNRrR0iwUIoiKEpRC1CKju8UqhAdjZtud07Dn3U1N3AixG+Kdec6rFLU+HqZc8d2KVjROel85+ZNF/2jc0r+177lXOf0rvucmx2tWHv2Gp9PVkg/+pl05Wzpwx91xtlsRanf57/g4mDXU6UYJcSOFOu4bUv27Xeuie9nLPynf5aeeS7qNbYvt9zuXJs123u6dqs09X9FvYaEBAulKIKiFLUApej4TRwLUa95853J6j//b+f0pmJOQ6P00CLntV54sVMIF/trJuGmWHeuwy5Fd1U5JeYFAYvO0cosSoMWrVGiGCWkMCnWcduWzLramWv6HQsvuEj6i/c7l4S69lvOpaCeq3AuAUWG5o23nC8E872nCxZJn//XqNeUEP+hFEVQlKIWoBQdn4l7Ieq18DfO9Z4+cYFzh9Biyb790ry7nNc18Vzpsi+dPYVr3nzp49OdUnjeXVxOgAyfYt25LkQpiuCmX+R8bvhxwcX+l73wYueyBpfPco6UrXjJOYKWkPGQYh23bUhDozP3CjoWrtrkXBLqtp84l4L6h886l4C68OLRF6YHDjm/d8mlzuNdcqnz37aWrpOnOtdkHe49/eo3pbt+HvXaEuIvlKIIilLUAuOpFL3hFv87at4dtonnSu//oFNeXfovzjfL19/olFUPLXKKulc2OyWXDeWVTYWo1+Mrpc98zikKH1oU9bs4sryy2blm6vs/4PjGt3Pf8XRXlfTc751lJp7rHEVaTKUwCTfFunNNKVr8Vqx1jo792reco2YnTXYuG/Dpf3IuJ/DrR+2/SRYh2VKs47YNuX6Oc7mmMMeyVZtyF6Yf+GvniMgf3u7cYOjtvc56PFfhlKh/8X5n2au+7jzGrirnf6/6uvPzv3i/s9xzFRG+aQEy+xrnWqx+37u/+7j0h9ejXmtChg+lKIKiFLXAeCpFR7pz/coup5x6fKVzJN+8+dKNtzvXprvsS9JnP+ccyfiXH3DKqyBHyYzkyJrR/k7UO8Cj9dzvnfd94rnSj+8c+fbQ0OgU2a9sdsrGhxY5Rff1N0pf+opTgH/iAqe8nHjuyAvyFSud5Sae6xz9eePtzmsI+roX/sYphSee60zmR3W91bXXSevLRvEAJG4p1p1rStHxacN25xICN93hXFrgr//Gc8mBDzuF6eWznNL0p/c4xWnFS055WrRHmjJuF12KddzOdxBCvrlrrj8bye/4+bOxHNNWrpfm/8q52ei/zHBK0gsvlj79GadEXbUp/++v2uQs9+nP5H9d+QrYfDlwyClcf7HAKV8vuVR63/tHdgTsM88512AN+h4V5eUJGLeLLpSiCIpS1AKUorDVK7ucoygvCHBaZ+YRwH/5V06h/dnPOUXr18uc0nLefKeEfHylU2C+suvscwYpyC+82Cky580/+xhhvO4bb3fK2k9cMIKjZtdeJ80/x7H2uoL8WyNjn2LduWbchteG7c6RpYuWOkeX3nSHc4TpF69wjjL90N84R5peeLFz6uZH/s4Zl6++xikIFj7o7LC/8ZZ0sqZgm234YdwuyjBuoxCyFbDDFanv+0vnyNarvu6Urw8+cbaoXbUp+xGw+Urska570OcK47IFQRKkPD72a8btYgylKIKiFLXAeCpFjzdJda1A8XjuJenfZ0sXftp/Ifz4lUzSijHFunPNuI2R2vWutOYV6fFl0s/uk268VfryV50vqj7yd9KUqdKnAoydUS7LuF2cYdwGRu/1ndKSFdK8n0lf+6ZTTP7F+/OPrSP5s099+mzx+bX/cJ5vyQrn+bOtx5rvM24XYyhFERSlqAXGUylKCHkva69jglZkKdada0LIe2HcLrowbhNS5GHcLrpQiiIoSlELUIoSQoj9YeeaEELsCuM2IYTYFUpRBEUpagFKUUIIsT/sXBNCiF1h3CaEELtCKYqgKEUtQClKCCH2h51rQgixK4zbhBBiVyhFERSlqAUoRQkhxP6wc00IIXaFcZsQQuwKpSiCohS1AKUoIYTYH3auCSHErjBuE0KIXaEURVCUohagFCWEEPvDzjUhhNgVxm1CCLErlKIIilLUApSihBBif9i5JoQQu8K4TQghdoVSFEFRilqAUpQQQuwPO9eEEGJXGLcJIcSuUIoiKEpRC1CKEkKI/WHnmhBC7ArjNiGE2BVKUQRFKWqBOJWiJ0+eZJJGCCEjSFQ714zbhBAysjBuE0KIXaEURVCUohagFCWEEPvDzjUhhNgVxm1CCLErlKIIilLUAnEoRRsbG1VfX88kjRBCRpjq6mo1NjaO2c414zYhhIwujNuEEGJXRjNuF2p9ou6TkB+lqAUoRQkhxP6wc00IIXaFcZsQQuwKpSiCohS1QBxK0aampoJO0g4dOgQAsRJ2qqur1dTUNGY714zbAMabsMO4DQCFFXZGM24XIpSi8UcpaoEoStHe3l51dXWpo6NDra2tamxs1KlTp1RTU8M314QQMoKYb65bW1vV0dGhrq4u9fb2hrZzzbhNCCHhhnGbEELsymjG7UKtT9R9EvKjFLXAWJeiiURiyCStqamJSRohhIwi5pvrzElaIpEY9c414zYhhIQfxm1CCLEroxm3C7U+UfdJyI9S1AJjVYoODAykTdK6u7vV2dmp1tZWNTc36/Tp06qtrWWSRgghI0h1dbWam5vV2tqqzs5OdXd3p03SBgYGAu9cM24TQkjhwrhNCCF2ZTTjdsHWJwadEnKjFLXAWJeifX197iSto6NDbW1tampqYpJGCCGjiPnmuq2tTR0dHe4kzYy7o9m5ZtwmhJDww7hNCCF2ZTTjdqHWJ+o+CflRilpgLEtRc0qP95vrtrY2NTc3q6GhQfX19UzSCCFkBDHfXLe1taV9c21O5RnpzjXjNiGEFCaM24QQYldGM24XbH1i0CkhN0pRC4x1KZpIJNw7YnZ2drp3xGxsbGSSRgghI0x1dbV7J8zOzk73TpiJRGLUO9eM24QQEn4YtwkhxK6MZtwu1PpE3SchP0pRCxSyFDUTtcxvrs0kraurS+3t7Wl3xGSSRgghwVNdXa3W1la1t7erq6vLnaRl++Y614414zYhhIxdGLcJIcSujGbcLtT6RN0nIT9KUQuMVSnqvSPmmTNn3Dtimou/m+scMUkjhJDgMZO0zs5O906Y3kmaGYeD7FwzbhNCSOHCuE0IIXZlNON2odYn6j4J+VGKWiCKUjTzjpjmOkeNjY1M0gghZASprq4ecn0jcyfMMHauGbcJISTcMG4TQohdGc24Xaj1ibpPQn6UohYYi1I0846Y2a5z1NraqubmZiZphBAyglRXV2e9vlGQOxgzbhNCyNiFcZsQQuzKaMbtQq1P1H0S8qMUtUAhJkV+7ojpPaWno6PD/faaSRohhARPdXW1Ojo6sp7K4+ei74zbhBAytmHcJoQQuzLacbsQ6xN1n4T8KEUtEFUpmnlKj/n2mkkaIYQET3V1dc5TecLauWbcJoSQ8MK4TQghdmW043Yh1ifqPgn5UYpaoNClaOZ1jsxEzXtKj/fbayZphBASPNXV1Wl3wUwkEmkTtOGub8S4TQghYxvGbUIIsSujHbcLsT5R90nIj1LUAmNViub79to7UaupqVF/f3/o60QIIcWavr4+1dbWqqenJ9C31sPtXDNuE0JIYcK4TQghdiWMcTvsUIrGH6WoBca6FM28K6a51lF3d7e6urrU2tqq2tpaVVdXAwB8qKurU0dHh3tto1x3wRzpzjXjNgCEi3EbAOwSxrgddqqrKUXjjlLUAtXV1aH/4/RzV0wzUTMXgTffXnd1dam9vV1tbW1qaWlRU1OTGhsbdfr0aZ06dUr19fWqra1VTU2NTp48qRMnTuj48eNpA9axY8d07NgxVVVVqaqqyv1vAIha5rjkHbuOHz+uEydO6OTJk6qpqVFtba3q6+t16tQpnT59Wo2NjWpqalJLS4va2trU3t7ujpvmNB4zrvr51jrlmaRl+zPGbQBg3GbcBmCbuI7bYYdSNP4oRS1QiFJU0rDfXuc7rcd7zaPW1lY1Nzerubl5yGTNTNjMpM1M3DKdOHECAGIh2xhlxi8znpnxzTs5M+Nga2ur2tra3DtfmglartN4gnxrzbgNAEMxbjNuA7BLnMftMEMpGn+UohYY61I037fXZqJmTu3p6Ohwv8U2kzXzTXZjY6MaGhp0+vRpd+LmnbzV19errq4OAGLJO1aZ8cuMZw0NDe4419TUlDY5a29vdydo3d3d7gRtuG+tR7NzzbgNAIzbjNsAbBPHcTvMUIrGH6WoBcaqFB3u2+vMax6Zb7E7OzuHTNZaW1vV0tLiTtq8k7fMSRwAxJF3EuadjJn/bWlpccc77+Sss7Mz7dtq7zWNgnxr7WfnmnEbAM5i3GbcBmCXOI7bYYZSNP4oRS0wlqWon4larm+xOzs7Xe3t7e6kzTtxM5M3ALCJdwwz45oZ57xjX75vq4NO0PzuXDNuA8BQjNvR/x0AQBBxGbfDDKVo/FGKWqBQpaiU/9vrbBM17zWPvN9iZ07YvJM2801OR0eH+w03ANjEjF/eMc1MyjInZt5vq73XNMo1QQv6rTXjNgAMj3E7+r8DAAgiTuN2WKEUjT9KUQuMdSmab6KW7fQeM1nLnLCZSZthBjMAsJV3TDPjnHdiljk5835bHWSCFnTnmnEbALJj3AYAu8Rh3A4rlKLxRylqgUKWolKwiVrmt9j5JmzeSZuXGdgAwBbZxjLvWJdtYpbt2+qwJmiM2wCQH+N29H8HABBE3MbtMEIpGn+UohaIqhTNnKhlm6xlnubj5R2wsk3gAMAmmRMx7//PnJxlflOdOTnLN0Ebzc414zYAnMW4DQB2idO4HUYoReOPUtQChS5FpfwTNb+TtcxvtHNN3gDAdtnGOu9YONLJWZAJGuM2APjHuA0AdonDuD3aUIrGH6WoBcaiFJWCT9QyJ2u5Jm75JnAAYJNsY1uucTDbmBn2BI1xGwDyY9wGALvEbdweTShF449S1AJjVYpKw0/U8k3Y8k3aAKDY5RoX/Y6rjNsAMLYYtwHALlGN2yMNpWj8UYpaYCxLUcn/RG24CRsAjFdBx1HGbQCIFuM2ANhlrMftkYRSNP4oRS0w1qWoSdBBhskbgPFmtOMk4zYAjC3GbQCwS9zG7SChFI0/SlELRFWKmox2EAIApGPcBgC7MG4DgF3ikGpK0dijFLVAdcSlaGaiHtwAwDZRJ+rXDwC2iTpRv34AsE0cU00pGnuUohaojlkpmitRD4IAEDXbEvX7BQBRsy1Rv18AEDWbUk0pGnuUohaotqQUJYQQQgghhBBCCCGUojagFLUApSghhBBCCCGEEEKIPaEUjT9KUQtQihJCCCGEEEIIIYTYE0rR+KMUtUAhStFjJ+sBAAAAAABwsj703oVSNP4oRS1QiFK0pHQpAAAAAAAASpeG3rtQisYfpagFKEUBAAAAAAAKJ+xQisYfpagFKEUBAAAAAAAKJ+xQisYfpagFKEUBAAAAAAAKJ+xQisYfpagFKEUBAAAAAAAKJ+xQisYfpagFKEUBAAAAAAAKJ+xQisYfpagFKEUBAAAAAAAKJ+xQisYfpagFKEUBAAAAAAAKJ+xQisYfpagFKEUBAAAAAAAKJ+xQisYfpagFKEUBAAAAAAAKJ+xQisYfpagFKEUBAAAAAAAKJ+xQisYfpagFKEUBAAAAAAAKJ+xQisYfpagFKEUBAAAAAAAKJ+xQisYfpagFKEUBAAAAAAAKJ+xQisYfpagFKEUBAAAAAAAKJ+xQisYfpagFKEUBAAAAAAAKJ+xQisYfpagFKEUBAACA8PysfI9+9OhO38tfOmetHn/psC6dszbydQcAFEbYoRSNP0pRC1CKAgAAoNgcON42ZI6aTKZU09itWxdtL9jz3r9yv/t8P3z4LV+/c+J0tyRp/7HWyN+3klJnx/3A8bbI1wMAiknYoRSNP0pRC1CKAgAAoNiYUnRgMKXOnn519vS7c9VkMqV5j+8a9XMsWXdkyPz3e798QwODKXX1DuiyuRt9Pc6Og02SpHVv1Yz5+5TtNUiUogAQtrBDKRp/lKIWoBQFAABAsTGlqLfcu3TOWjW0npEk1Tb1jPo5shWKtslVim57pyHydQOAYhJ2KEXjj1LUApSiAAAAKDbZStGS0qUq33B0yJz1/pXvqK2rT5JzFGllXadm37nZ/fPm9oQk6YXXjqvjvSNON+2uHzIHXrLuiO5YvMP97zsW71BJ6VJNL6vQ1n2n1deflCT1Jga1/JWqnOtq/ntfVasa25wSt68/qfINR9Nei9/1Xr+91n2cgcGU1rxxQiWlS3O+BvP6SkqXat1bNe56DwymtLeyhWufAsAIhB1K0fijFLUApSgAAACKjd9S9LE1h9z/rqrrdAvAhtYz7u+YcjGZTLnLPv7SYZ1s6Hb/e19Vq+5ZuidrKbr/WKv7+91nBtw/N+VkrlJUcspQs06S9NBz7wZeb8kpYr2Pc/fv9uR8Deb3N+6sleSUofuqWtXV66x7GEfZAsB4E3YoReOPUtQClKIAAAAoNtlK0Zl3bHRPn69vdoq9qrpOSWdPF7/7d3vcOa0pNU252JsY1ILle1W2YItKSrOfep5Zinr/21zH9IXXjks6W2DmKkWPn+7S9LKKtPWsqusMvN47DzWppNQ5YtVcW9UUsvkuAWDeK3NU6x2Ld7jXZ/3q3X+I/O8YAGwSdihF449S1AKUogAAACg22e4+bzLcjSQ+riYAACAASURBVJZMMstFc0q54acUXbn5mCSppTPhLnPZ3I1atrFSyzZWpq1rZinqLXTNEa6J/uSo1jvzZ/lK0T1HWyRJXb0DWrutRjc+8Gbkf68AYKuwQykaf5SiFqAUBQAAQLHJdvf5zp5+HTzerlsXbXeXu3TOWu042KTexOCQOW0Ypai5bmdze2LYdc1XimY+10jXO0gpOvvOzao+1ZX22F29A1r49P7I/34BwDZhh1I0/ihFLUApCgAAgGKT65qimY7WdkiSWjv73KM3TQp1pOj0sgqVLdjinoYf5EjRzp7+Ua13kFLUuOqnm/T8a9Vq6XB+N9GfdE/rBwD4E3YoReOPUtQClKIAAAAoNn5LURNzZ/fZd252fxakFDUloZ9ripqC0xSlQa4perS2Y1Trna8UzSw6Mx/v0jlrh/wMAOBP2KEUjT9KUQtQigIAAKDY+C1Fa5t6JJ09zX5g8Owd5ucv26uS0tylqLfw7E0Mat1bNVnvPm/WJZlMuTc6kkZ39/mRrnfmz7K9BrPs7sPN7nPsq2p1jxT13uEeAOBP2KEUjT9KUQtQigIAML7dumi7FizfG+pj/qx8j3706M7IXxvGL7+l6Ow7N6vyvaMwBwZT2rS73i0uV24+ppLS3KVoSelSbd13WsmkU0i+9ObJrKXo9LIKbd132i03exOD7h3ds62r90jRxjbnDvB9/Un3qNDRrHe2n2W+BvPz6WUV2rS73l3vgcGUDh5v1+w7N0f+9zseBR2rp5dV6PGXDmvmHRsjX3cAlKLjEaWoBeJWirZ0JrTtnQaVlC5Voj+pV/ecinzwwuiYGwxIQ0+18nPzASBKty7arprGbvcInL7+pPZWtujSOWsjXzfYIYxtKFvJEpbr5r/uliGPrTkUymPev3K/u74/fPitgr23+e4ubpKtxCo0v2UckAvbUHx557XenG7p1f0r3ynY845krN5xsElSfI7sNdt11OsRV97P+qjXBYURdihF449S1AJxKkUvm7tRknNtpOvmvy4pvB00RMc7eayq68z6Z5SiiKN5j+9yd0CSyZS6zwy423JX7wA3mcCwwtqGClmKTi+rUFfvgAYGU6E99vd++YYGBlPq6h3QZXMLd4TSzkNN7h3FvXfg7j4z4P7ce9TbWKHQwmixDcWXmbuaSyF09vS747wkLVl3ZNTPketo46Bj9arXj0uS9la2jPn7lO0GXpSi/v/eo14XFEbYoRSNP0pRC8SpFJ2/bK8k5yL0j605JKmwR5hgbGR+o+6dLFKKIs72H2t1t09zVN+1v3jN3fkx14IDcglrGypkKVosvDvgUb9HFFoYLbah+Mo2d51eVuH+nSX6k6N+jmIY83OVop09/ZGvW1xRiha/sEMpGn+UohaIQynq/dDMFiaEdsssRdu7+92jo7JNLK/9xWuqrOt0S4O2rj4tfHq/++fmWlgvvHZcNY3dkpxrXK1544TuWvK22rr6JDmnqD6y6kDauix8er9Ot/RKcr7hr6zr5LpYyMncxOLwyfa0n7/05kntq2rV869Vuz979MVD7rY3MJgacnr0nAe3udue5Jxmd+ui7e6fm52pV/eccp/X7Aix3drL7zZkxjXvl0be6/55d5S2vdPgnop/uqXX3Ra8yzyy6oA63ru2YEdPv+Y9vkvr3qpxrwvY2HYmbRsyMc8/vaxCOw42pZ3yv2l3fdqRrd7Hy9zmc+3Qe69NmPmY3t8p33DUXc6s/3Dvdb5S1Pu5Yd4X7+swR5madcp8zOb2hDbtrnffj8z3z7u+lXWdOn66SxLzF6AY5fpCf97ju4aMQUHmtGZsyrZfZMalzLG6pDT//CNzXc1jt3QmtLeyRclkSsmk8zve8X249TZzlu0HGt3r2iaTKe042JT2vN4sWXdEB463ueuy8On97vVypaHzokx+12lfVWvO6/AGWSbbfCzfZ1hJ6VJdOmet9la2uJ8VvYnBtMcuKV2qu5a8PWROd+0vXlNJ6dDPce9n9pwHt0W+7WP0wg6laPxRilogDqXo9Qu3atnGStU396i9u9/9/83tCS3bWKn/WbEv8gEMI2cmRi2dCbV3OxO+jTtr0/7MTJAum7vR3Tlt6Ui4E5Zk8uypQmYCmUym1JsYTLvbaqI/mfazZDLlnrrpPY3Vu0xcrrOE+Fn3Vo27bW3ddzrnjQrMke2Sc9qu2c5qm3pUUupMcs3PvHcRTiZTbtnjvTOxyR2Ld7DdWs7vNhSkFJWUdrqm2Ra8y2Te4Trx3jbn/dnR2g73uUzM85sjXLt6B7SvqtXd7nYfblZJ6VJt3Fkr6ewdqbt6B4Zs897t2PuYmethisN8r7G9e/gji/yUot5/XyWl6Tvu3nUyn1Hex8x8T83799Bz77o/600Mpt0lnFIUKD5+S9Ggc1qTe5bu0ZGaDve/j9R06PGXDqukdOhYPdz8I1cpap7Te0kXM777WW/v9Zz73pt7m6x4pUqPv3RYJxu63Z/tq2rVPUv3uO+Vd15UVdepuvfKx2Qype/98o0h7/lI1sk7Fj/03LuBl8mcjw33GVZSulQNrc56dfUOuAduSGcvB+d93d45XW9iUNPLKrJ+DpqYv1PYLexQisYfpagF4lCKGlV1ne4HS3N7wv1wht28EzIzGUsmU5p95+Yhk7WVm49JUtqpNaZINd+SmwnkzkPOt9HTyyrcCYa5SdfsOze726OZ5BytdSaY5oitS+esdYsCswzgNb2sQodPtqeNb41tZ4bcSMFsk+bGcN7To3/48FvuBLuqrtM9osA8rilWvJPw3649rLIFWzS9rILt1nJBtyE/peijLzo7V94d8PnL9qYtYx7fuwM8f5lzx+IXXnOuMec9xdPEPL/Zfu9a8rZKSp0d786efjW1OwWs2fEzd8++Y/EO99p6X737D0NKUe9/myN7vOt/9+/2ZF3/hU+fvWHTdfNfz/te+ylFexODWrB8r8oWbNFlcze6r9McyfPoi4fS3hvvY5ojeTLfv6r3jpIy18yeXlah+mZnB59SFCg+2UrRS+esTTt9fnpZRaA5rXdsKinNfbR95lg93PwjXylqxjSznpJ02dyNvtbbvNbjp7vceY05Qt7sv2U7fd4wX6wdqTn75dzJhm519vTrmc3Hhiw/0nXKHJ+DLOOdj/3ymbOfRbk+w8xl4Mz7WFJ6dt/DfBaYx/bO6czreGzNobS/d/Ol+SOrDrg/41r29gs7lKLxRylqgTiVop09/e4HWzKZco/UgN0yJ2Rm8rH/WKuva4qaCUTmBNJ7imO2QsHE/MzEe/OuzMcGsnn4hQNpp76b7bek9OwN4iSlneL7m9UHtWxjpa5fuNUtMb2nUHm/ICgpzX39OLbb4pBvGyopDVaKeneQzTJr3jiRdZls1yfLtqOaOV6aUq+lI6HnX6vWVT/dlPZ69hxtkeQcDbN2W41ufODNtD/PXJc1b5xwHq8zfaw3679xZ+2w6z/cdfX8lKLZTo03/wYz34s7Fu/I+l5l/izbv2+uBwkUr1x3n88cR7PxM6ctKfVXivqZf+QrRc3y08sq3J/l+rI1c72zjXGZP8tXipqiz5xyv2D53sCFn591Kt9wVNLZL7FGuoyfz7B824p5LHPkp/fz4n9W7NOyjZX68WO7sn5mF8P1ZXFW2KEUjT9KUQvEoRQdLnwA2C1zQub9cDcFqbcUXf5KlVo6EkO2g9GUoj98+K2825g5whTIZ+YdG7X9QKO73ax4pcrXZNW7LZqfZU58s03C2W6LT7ZtqKR09KVormVGWorOeXDbkHG4pSPhXtNs9p2bVX2qK+3Pu3oH3CNoMtcl1xdg3p3asS5FzZFKuTJ/2V5fpWjme+d9XZSiQPHJdvf5zp5+1TR262fle9KWHcmctqTUXynqZ3z0U4pmPq6f9R5tKWrWzXuKejKZyvtl70jWKXMdRrqMn8+wktKlun/lOzrd0pv2uryPlfk+Z6IULX5hh1I0/ihFLRCHUnTZxkq9vveUJOnl7TV6670dxrVvntSyjZXuKQiwU7aJxO7DzWnbjPmzFa9USXImRmu31bjXl5XCO1K0sq5T+6pa06zeeiLy9wnx8tW7/+Du6Ny/cn/an5kL7+8/1przSI1v/Pw1lS3Ykna6+2iOFGW7tY/fbaikNH5Hiho3PvCm1m6rca8ZWt+cfk2zq366Sc+/Vu3uqJrTRm06UrR/IDnk35a5/h1HigLI5Ocsp5LSkc9pS0pHd6Sod/4R9EjR+cv2+lrvMErRklLn9PFfPf+uDh4/e5mZzJuk+n0v8x0Fak67H+kyfj7D7v7dHvc1bN13Wss2VurQifa0x8p2pOhVP92ksgVbNPOOjZSi40DYoRSNP0pRC8ShFC0pPfuBNL2swv3giXrQQjiyTR4vm7vR3ZH0/lnmtXZKSs9eo2i0pagpIQ4cb3NP0bl0ztohd4UEDHOdJ+82M/vOze62a67hlXlNL+8y8x7fFeiaopklCtut3YJuQ97rIptlMktR83ef75qioylFze8kkyl3ne9a8nba72Q+z6Vz1qb9bLTXFB2LUvS6+a8PeU/NazUFg59SNPO6v9PLKtznoxQFio/fUnSkc9qS0vSxz1t4esdq7+/nmn8EuaaouTmpn/UOWopmnhqf7TJA5uZS2Y4WDbJO2a4XmjnX8rOM97X5+Qzz3ljW/J45MyTXNUW9nxflG45Sio4DYYdSNP4oRS0Ql1L01T2n3G/odh9uHnaiAXvkmjya8tv7Z96fdfb0p93N0pQFIy1FvXfxHhhMv4vwguV7I3+fED+PrTnkbjOZd5723iHVO/HvPjPg3k10JHefzyxR2G7t5ncb2rrvdNo25D31biR3nx/tkaKmjDd3nzdHipojW83R/ubu8+ZI0XzrEuTu82NRipaUpl8bsDcx6H7mdPUO5HyvMn/mvft85t2MKUWB4uO3FB3pnLakNP0mon39Sb19xLl5UeZYPdz8YyR3n/ez3n5KUe/43ZsY1Lq3atxlveNmVV2nW0x67yYf9L0M++7zmeP3cJ9h3tfUfWYg7b01N3Hyzul6E4Pu82e7+7x5XkrR4hJ2KEXjj1LUAnEpRQ+fbHc/MGqbetiRKCL5Jo9mMuj9s027691JnTllWDo7oRhpKVpSulS3Ltqedq2ftq4+jrhDXrcu2q6Dx9vdbXJgMKWaxm732orGoy8eUltXn7vM3soWXTpnrfvncx7clnajndMtvbp10Xb3z/Odbst2azc/29D0sgpVenYKdxxsco8m9pai5ppr5rFOt/Rq9p2bVVIabil66Zy12lvZ4j5PX39SOw42uUfWTC+r0Kbd9e4O3cBgSgePt+ddl5LSpWm/09ef1Kbd9e5jRlGKlpQ616kzO6/JZPrfjZ9StKTUOdvFvK7GtjPaeagp579nAHbzW4qaZYPOaY2Vm4+5v5urFC0pzT//yFeK7jjYpGQypWTS+R3v0ZzDrbefUrSk1PnCz8xdXnrzZNrru3/lO+56S87nmTkKcyTvpfco0Ma2M+7nTLZLm/hZJtv4ne8zrKR06GeBuTycOfCnpNQ5G8HMB5PJlCrrOt2jdilFi1/YoRSNP0pRC8SlFAUAAADCtu6tGvfIsmQyNWz54pefayYCcVLM26yfazlzvWdELexQisYfpagFKEUBAABQjLyny2Ym1x2g/SrmggnFqZi3WUpR2CDsUIrGH6WoBShFAQAAUGxMAZRMpnT/yndUUupc+mHP0RZJZ6/jN9rHZ+4LWxTzNkspChuEHUrR+KMUtQClKAAAAIqNuXlLZgFy3fzX3Tnr/GXODeuml1WkXUe3NzGo5a9Upf3enAe3udch7Ojpd+8s7Z37Ti+r0I6DTWk3UOEa0ACAklJK0fGIUtQClKIAAAAoNon3ismNO2uHXbah1Sk7M+/IbW6AM72swr0u6cBg+jLeua85Ei3zcR5bcyjy9wMAEK2wQykaf5SiFqAUBQAAQLExGe7aod7T7M1doMs3HHV/dtncjVq5+Zj737Pv3KyS0qXasKM2be579+/2uP897/FdacvUNvVE/n4AAKIVdihF449S1AKUogAAACg2JsOVorsPN0uSDp9sz/r7j605lHWZzOszbtpdL0lqaD3jLnPH4h3MjwEAKimlFB2PKEUtQCkKAACAYmNOn1/zxom8y+W6+Upze0KSU6pmWyazFN1/rDXv/PiyuRsjf08AANEJO5Si8UcpagFKUQAAABQbc6OlPUdb0n7+w4ffcues85ftDf1I0a7eAe2rah3iuvmvR/6eAACiE3YoReOPUtQClKIAAAAoNiteqZLkXAf03mV/VEmpc8Mkc9Rnoj+p6WUVvq4pah4r0Z90ryn66p5TaXPfh5571/2du5a87a7Hoy8ecn8HADB+hR1K0fijFLUApSgAAACKkSlAs8V7rdEgd5/PXMY79/U+X/eZAfW9dwp/9amuyN8LAEC0wg6laPxRilqAUhQAAADFaHpZhda9VZNWaJ5u6dXCp/cPWW5vZYsGBlOSpN7EoJa/UpW2zJwHt6mxzSlP+/qTQ+4+bx5n0+569/kGBlM6eLydI0UBAKH3LpSi8UcpagFKUQAAAAAAgMIJO5Si8UcpagFKUQAAAAAAgMIJO5Si8UcpagFKUQAAAAAAgMIJO5Si8UcpagFKUQAAAAAAgMIJO5Si8UcpagFKUQAAAAAAgMIJO5Si8UcpagFKUQAAAAAAgMIJO5Si8UcpagFKUQAAAAAAgMIJO5Si8UcpagFKUQAAAAAAgMIJO5Si8UcpagFKUQAAAAAAgMIJO5Si8UcpagFKUQAAAAAAgMIJO5Si8UcpagFKUQAAAAAAgMIJO5Si8UcpagFKUQAAAAAAgMIJO5Si8UcpagFKUQAAAAAAgMIJO5Si8UcpagFKUQAAAAAAgMIJO5Si8UcpagFKUQAAAAAAgMIJO5Si8UcpagFKUQAAAAAAgMIJO5Si8UcpagFKUQAAAAAAgMIJO5Si8UcpagFKUQAAAAAAgMIJO5Si8UcpagFKUQAAAAAAgMIJO5Si8UcpaoFClKLHTtYDAAAAAADgZH3ovQulaPxRilqAUhQAAAAAAKBwwg6laPxRilqgEKXotPL1AAAAAAAAKF8feu9CKRp/lKIWoBQFAAAAAAAonLBDKRp/lKIWoBQFAAAAAAAonLBDKRp/lKIWoBQFAAAAAAAonLBDKRp/lKIWoBQFAAAAAAAonLBDKRp/lKIWoBQFAAAAAAAonLBDKRp/lKIWoBQFAAAAAAAonLBDKRp/lKIWoBQFAAAAAAAonLBDKRp/lKIWoBQFAAAAAAAonLBDKRp/lKIWoBQFAAAAAAAonLBDKRp/lKIWoBQFAAAAAAAonLBDKRp/lKIWoBQFAAAAAAAonLBDKRp/lKIWoBSNjym/eknnz1ul8777jCbMWqaS0qVDTJi1TOd+7xmdP2+VpvzqpcjXGQAAAAAA5Bd2KEXjj1LUApSi0ZqyaJ3Ou/lZTbgiewk6nAlXLNN5P3xOUxati/y1AAAAAACAocIOpWj8UYpagFI0GlMWrdN51z8zoiI0l/Ouf0ZTfr028tcGAAAAAADOCjuUovFHKWoBStGxNfWxdTpvzrMq+UJ4ZWiaLyzVeXOe1ZTHXo78tQIAAADj3dQnXtbkX6zWpJuf1cRvPa0Js59SyRfLC7MvgML4YrkmzH5KE7/1tCbd/Kwm/2K1pj7B/haCCTuUovFHKWoBStGxM2XxWk340shOkw9qwpeXacpijhoFAAAAxtTS9ZrywEua9J/Pa+LXVujPPh+DUg+h+7PPL9XEr63QpP98XlMeeEnTlsZg20OshR1K0fijFLUApejYmHL/Gk24/Mkx/aCecPmTmvIQN2MCAAAAxsTS9Tr/rgpNuHJs5/2I1oQrl+n8uysoRpFX2KEUjT9KUQtQihbepP96oXCnyw/nC0t1/rxVkb8HAAAAQDGb/N+rNeHLY3NWGOJp4tVPafJ/r458W0Q8hR1K0fijFLUApWhhTV74okqiPmXm80s1+b4XI38vAAAAgGI0ecGLKpnJdUKxVCUzyzV5AfteGCrsUIrGH6WoBShFC2fKwy+p5N9iMjn6t3LuTA8AAACEbNLc57luKNL82eeXatLc5yPfNhEvYYdSNP4oRS1AKVoYU3/3siZe/VTkH8heE7/ylKYu5S6JAAAAQBgm/08MzgpDPH1+qabcvybybRTxEXYoReOPUtQClKKFMen256P/IM5i0u18YwkAWK85i2/RjYtviXw9AMBWUx9dF5+zwhBLE658UlN/w9l6cIQdStH4oxS1AKVo+KYseim6GysN5wtLNeVh7kgPAOPZnMW3SPPPkeafozkUowAQ2NSlL2viNcujn9sj9iZes5yz9aBp5ZSi4xGlqAUoRcN37ndXRv7hm8+5310Z+XsEAIiOtxT92a0PRb4+AGCb8+9eFfmcHvY4/+5VkW+ziF7YoRSNP0pRC1CKhmvKwy/F/7pCn1+qKYs5jQMAxqt/mHNad1z2W1VvWqKr/iOlSVOkT/3nicjXCwBsMPWJdZpwxZPRz+lhjQlXPKmpSzhadLwLO5Si8UcpagFK0XCdd2s8ryWa6bxbubYoAIxHF8w4o8u/mtSuKrnWb5P++V9T+uBHkvrkzw5Gvo4AEGeTbn8h8rk87DNp7guRb7uIVtihFI0/SlELUIqGZ+rSlzXhSju+NZ5w5ZNc2wYAxpH3Pb5Zf/5XKc37n1RaIer1ZIX08U+l9PeX9OvDD+6MfJ0BII4mfoVriSK4iV9ZHvm2i2iFHUrR+KMUtUAcStHmRH/Ox2pO9LvLPbi/Sk1n+iRJyZRU231G33n9j2mPdeu2d9TQm3B/v6E3oVu3vTMmg9zkB9aE+sE5vaxCif6k+1rqm3tCffzJD6yJ/IMBI5Pv38r2hjYlkskhv1Pd2aO6njNDfp5IJrW9oc3971frm9WXTEmS+pIpvVrfnLb8wbautH+Xw/n1u9WSlPY483Ye9PVvPg6WV9aqvW/AHXeOdfboG394O+/fhcnBtq60x/rCum3a3dSu3sFkoLHyv/94VE1n+jRvZ/oRfH7GTr/j63DPNa08+Pia7e/e7zLLK2vV2e+87wOplA61d+kL67alLfPg/ip3mb5kShtqGrP+/Q33OOPB9HsO6U/+VHpuY/YyNNMvH5P+/K9S+tRlPXrfE5sjX38AiIspi9eGOh//3i/fkCRt3Xc60O9t2l2v5vZEaMthqSRp0+76gj4HlzAb38IOpWj8UYpaIA6l6Ldf+6O+v3XfED0Dg3rzdKumlTslSjIlvdvaqe9v3aefv31EjWf61NE/4D7Ol3+/U72DSTWe6dPP3z7iLtM7mNQlq7cUfJA770fhnkqz4pWqIe/t9375RmiPf96POIXDRqZQ3FjbqKcr61xPHHKuB/jkkRpJ0h3bD7i/c8nqLXqv59SXf3/26K87th+QJC2vrNW08vXaVNckSdpQ06jvb92nDTWNkqR1Jxvc3wlSil6yeos63iukspWiFcdPDfl3/+3X/jii96UQzHv55ulWfX/rPv3mwHH1DibTyuVsY9dPdh6SJD1bVecu940/vK3ewaTa+vr1TFWdvr9137DP/5sDx9XiKTUzi0o/Y6efZfw8V9DxNdffvZ9llhw+6f7s+1v36f59VeodTKqqs8dd5u7dh9M+E7Jtq34eZzz4x7IWfeLi3EeH5nPHPSn9H38qffra1shfBwDEwaR54d5gad1bzlwj0Z8M9HuUouGTCl+KTvppReTbMKITdihF449S1AJxKEWzefTgcSVT0s1v7te08vXa09yhrv7BtGUW7q2UJC3cW6lp5Wd3gO/efdhd5u7dhyVJSw6fLPggF/Zd54/Wdgx5b4N+i5wPd6G3k9nusx3JN618va7fslfS2aJzWvnZo/ESyaSePFLj/nx5Za0k6fotezWtfL0az/TpSHt32uMdae9W45k+97+DlKJbTrWoOdGv5kR/1lLUuy5x1Himb0iB9sKxeknppXOmDTWNQ8rCup4zajzT5/sLGvNF0KH2Lq0/2ZD379wrc+z0s4yf5wo6vub6u/ezTF3PGVXneN9NqX+wrUunehNpy2QeJe3ncYrdxz/bp69+JzmiQtTrujnvlaM310f+mgAgSud+55lQ5/vN7QkdON4mSXpk1QHfv0cpGj6p8KXoud95JvJtGNEJO5Si8UcpaoG4lqJVnT3a29Lh/vc1m3cPOYLMlEO/frda08rP7rR7d+ZN+TIWpWiY1xe6bv7rWd/b9u7+0J5jwjUrxuwDwHvarTkF2XsKqynallfWuqdut/cNDDk1d3llrXvqcbZTuyVpy6kW7W/tVDLlPNfBti63iNrbMrRcN0cD3rvniPv/f3vohPs8nf0DenB/lX6x54h7GnVfMpV2RNq0cudIwGOdPe4RmZmnFucqAjMLod8eOpF2uu/+1s60Is2sY773u6t/MO2U+O0NbW5BlPlz7/vReKZvyCnfB9u6RlSK3vzmfiVTzr9PW0vRvS0d+l3G2PHg/qoh40ymjv6BtFO5zeu9d88R38/95d/vdP+NmL9zP6Vo5tjpZxk/zxVkfM33d+9nmW+/9kdds3l32vKmzDQFfnOiP21bnlZ+tvw36+jncYrVBx95Q+dPkf578ciOEM3m9X3Sv16V0v/1/pQu+Ell5K8RAKIw4ZoVoc3F7/7dHknS/GV7VdvUoz1HW3Iuu2l3vQYGnUlmZV2nth9ozFp2+l0u13P0vXfprt7EoB598VDW4nD99lo1tp1x5qqDqaxFop/llqw7IklaufmYBgZTOnC8Le/6lG84OuL1nl5WoR0Hm9z3pq2rTwuf3j9knV/dc0p7K1uUTKaUTDrrNL2swsr9L8RP2KEUjT9KUQvEsRS9d4/zAZmvQJi1cad75JX52SWrt6h3MKmDbc41476wbpsOtnWN2enzJZeFd5MlcyqNpLTrikrSQ8+9G86H8hVPjsng/40/B/+vHAAAIABJREFUvK1kSqrq7Ml5CuvBti4lU9Lp3oR+/vYRdxnvkWDr3juCzZwKu7KqTslU+mm3klOE7mpqSzul1hRUjx48Luns0cXTyp3iy1yGwRRCZj3MKcKJZFLdA4MqP1Kj72/dp4NtXWnbqNn22vr69fO3j2ju9gM62X1GvYNJ9/qTfkpRs+1vb3DWv/xIjZIpaU9zx5D3wVxfdyCV0u6m9rRt/N3WzrR/G+Y51p1sSCs063rO6N3WzrTHTqak+957f+7bW6lkamSnz1d39rgFq62laDYbahqzXrPVePa97dJ7JOK6kw1KJJN6tb5ZA6mU+/fn93rHfktRP2PncMvkeq4g42u+v/sgyxhz3tivjv6BtG01Wyk63Jdg2R6nGF0075jOnyq9/GY4ZWim51+RLv5sSh/+5KD+/r7iLpcBINOELy0Lbb6/7Z0Gdfb0u3P/ZDKVtYDbuNM5s2ftthqVLdiiTbudL/gyy06/y+Val2QypYdfOKCyBVu065BzSaW7f7dnSHE4MJjSb9ceVtmCLdp/rFWSU2wGXc6Uoh09/Xr+tWr9z4p97p/tPtysZDKl5a9Upb2WJeuOjGi9DxxvU29i0F1u/7FWJZMp3bF4R9o6J5MpbT/QqLIFW7R2mzMnWvdWTXil6JeWRb4NIzphh1I0/ihFLRDHUnRvS8eQ0yKNV+ub3edp7xvQrI3pp0Desu0d90hDSeoZGNScN3KfRhqmP5sRzodlSelS1Tf3uK9h2zsNqm06+9/5vkUO5F/Lx+R9ef5Yvbr6B9OKky2nWtK2lYNtXUok08sVU/5NK3cKmcwbAk0rX++WnuaoL0lDjpKr6zmTdvRj5uMkkkn32oqmEPLeSMccffbCsbOnjX759zslnS0LN9Q0KplK/z2zzqbQ9FOKmu3b++fPHavX1tMt7n+/fLLBvanM4gPVevO0M8n0vibz3l2yeou7rgv3VrrrcP2Wvbpk9Za012DsbmpP+/fsfW7zdzVcKbq8sjbt/chVimaLn6Mho2IK/sz3zOtUb2LINri9wTktzpTmP3/7iNr6+n1/YeO3FM03dvpdJt9z+Rlfh/u797uM2dZMTnT1pr1X2U6fN5eDyPw3lu9xis0/XNOhf/j/wjs6NJ/fLJc+9NGUppcm9MFHtkb+2gFgLJT8a3lo8/1Ef1K7DzerpPTsDZdWvFKVdblt7zSk/SzbEaB+l8umqf1MWvk3vaxC0tDTyaWhBWhVXeeQ5/CznClFM++ZYN6LzN/fc7RlyLVX/az3HYt3SBp6eYLm9oT7/pt1ztzPqm3qGXIEqw37X4insEMpGn+UohaIWyn65d/vVDKVfoMSr1kbd7pHG7b19addo++S1VvUeKZPJ7vPaO72A/r520d0ujcR6Dp+IzX1ty+H9mFpTqUxmb9sr9a8ccL971zfIgf1ZzOWRvaBkFn+ZSvavKeJm2sXmkslGOb6maYEkYbe1OVgW1daKeo9ZTzz+pzZTk3PVWZ6n+tIe3fWO7vvae5wX1eQI0WPdnTr528f8b3d7mpqUzIld3nzfi3cW6knj9SkHdnY1T+oF47Vu6/de43IJ987MnXlezcCMmWvd52HK0XNEYWb6pqyvkbve5HtRktxLazM+OI9AjdTrqMwTenvLc1vfnO/pNxjXbZ/C/lK0eHGTr/L5DtSdLjx1c/fvZ9ljGs273aPmDZHqZo/M19WmBstrT5+yj0K17tND/c4xeRvPzWgb98yNoWo1z33S+dPkS6eXdxH4ALAtPLwStFHVjk3u/SeAdbcnlBVXWfacqbQe2xN+inhmdcK9btcEFL2UjTzaE2znxJ0OVOKZj5v+YajkqTr5r+e9vOHnntXktKO7vSz3is3H5OkYfefsr3eA8fbKEURmrBDKRp/lKIWiFspak5N9VOMZJZM5tRf72mrpgTId2RXWMI6UnTrvtPue2lOqbls7sa09zjbt8hBjWUpurKqzr0eZ7ZtZbhSNF8p5N0GpOFLUVNcLdxbqe0NbWnPO9JStDnRn7VoebW+OVApOq3cuWal9/qrh9q70q6/mk2298ds93uaO9LW7d3WTu1p7nD/vXgfx3vUrPHm6da0UnW4UtS8p95/w8Vw+rw5VdxbbGbKdRRmrvesq38w72nj+f5+M/kZO/0sk+u5/Iyvfv7u/Szjd7281yBuOtOnZ6rqJOW/XmiQ67Pa4iMP7NKf/Kn0yJNjW4ZmmjM3pb+/MKlzzlEo/u7CpD74kaQuvLxHF91Ux6n6CMT8Wzcxn8feZFsm6vVG/IV1+ny2ox7NKeLeMtCUnZlFYK5SdLjlcrn2F6/p4PF295qbJn5KUVNufv7W9YGWy1WKmvch8+fZXqOf9c71eFGUopw+P76FHUrR+KMUtUCcStFLVm9RR//AkFJmWnn2G2aYgcVMYnMVD82J/jG5hlxY1xT1XkPUe7f5qrpO9+eZ3yKPyGVjc01Rc43F8iM1Q27mYpbxe6So91qg08rX647tzrfsQUrRaeXOjXC2N7QNuSHOaI4UzbzL9bRyp4AMWop6/z2Ya6ue7D57FOr3t+4bctmIbEWPuWajOTLU/PyF9y5n8G5rZ9o651o/89jmbuvDlaLDZd7Og9aVon4KUXNqfbajMLecahlyg69p5eGVovnGziDL5HsuP+Orn797P8tk28b9bDMbahrT3ueRPo5NPn1rjf7iAym9tjfaQrRQnqyQfvQz6d+uSulDf5vSOeeIohS+fGHdtrSzEGZt3Klvv/bHtJ9lWybq9Ub8hXGjpcvmblQymcr5Weg9HdwUgZn3FMhVig63XC7t3f06WtuhGx940/1Zc3vCVylqrmUadLnhjhS9bO7GtJ8/tuaQpPRS1M96x+lIUW60NL6FHUrR+KMUtUCcStFn3zvK5+Y3h14D9Eh795AjsDJvqvFqffOQo6AuWb1FyZTSTtUslDDuPm9OpTHxXiTcfKCbZF5/J6iJX1k+JoN/tjJl9fFTadvKcKVokGuK+ilFX61vdu8S793eRlqK+rmmqLm2p7egvGT1lrRibH9rpw5kWVfvOjUn+rWrKf19ePN0a9rp8+b3egeTae/PtPKzlxzo6B8YclpzMqW0ktj7XuX7u/LKPB3++1v3qbWvX281tLqnx9tUTJnXn3lKdiZzRG22ozDNqd7eUt+cPu/nPRiuFM03dgZZJt9z+Rlf/fzd+1mmta9/yHVZM8v5TN/4w9vqHUymbdMjeZxC+NL3Epo0xSnzPvZP/frU5T361LUtuuimOl3wk0r9/X17fV+Tc87iW3Tj4ls0rXy9Lp7VrX+5fOxPl4+aKUpnFrAo/eAjW/X39+3VBT+p1EU31emia1v0qct79LF/6tcHP5LUpCnSRy8c1PlTpf/7o0l9/LN9+tSV3broW0361K0n9cl7DukjD+zS+x7fPGbbmQ282y9gq3O/88yo5/srXqmSJP1m9UGVLdiSpr65Z8TXCh3pNUVNoeotMaeXVaizp39MrimauT5+rynqd71zXVO0sq5Tr+89Naal6LnfeSbybRjRCTuUovFHKWqBOJWip3oTaXck91py+KQk6e3mdn1/6z73ruCtfWdPw7z5zf1KpuRe887cATyZGr4ICMO531056g/KA8fb3Pexvbs/7c8yv1Ue7Z0Qz/3uyjEZ/E1x+Ye6Zs3dfsAt8LzbynCl6LTy3Hef9x75Zv7c+zjZSlFTSGUW7SMtRXPdfX4glUorSk/1JtQ7mHRvtnOy+0za47xwrD7tNZojRb3/LsxpzBtqGtPeh8zC2BRxuY7uk4Zeo3VPc0faNUXNY5ti17yfrX39WcutXKdl23r6vNkeXj7ZMOS1eo9cNwV4vqMw63rOqHcwqfv3Vbk3WuroH3Dfs1+/W63a7jNpp6dnrkeuUjTf2BlkmXzPNdLx1c+p8ZnLbKpz7hxrtvFs/w6mlTtHgs3dfkAbahrVO5gccv1ov49TaLuqpPXbnDLv/secQq/sJufox4s+6xR7509xThl3y9NL+p2S79pWtzyd9993S/PPkeafo9v+7bf64U/HXyE62iNKs5WdF17eo49dcrbsPOcc5xqpH/pb5+/n365K6Vs3Oo9//2POc63f5jzvy29KS1dJ9/1a+s87pW98Ryq9PKVPXJzSX3wgpT/5U+lP/lT6879K6W8/NaALvnhGF32tTRfdcEoX/LhKH/vvffrgI29EPtaNhTmLb3G33zkUo7DYpHmrRj3fr6rrHDLPN0xh6j0wIvOu8uZSW8PdfT7Xcpmml1Uo0Z9UQ+sZLVi+V796/l21dDiXcspWivYmBt27ypu7vWe7+/xwy+UqRUtKc9993nsJsSDrnXn3+V2HmpRMpjTv8V1jWopOmrcq8m0Y0Qk7lKLxRylqgbiUouamL48ePJ5zmYffOeZelzKZko519gw5nfVHOw6412OUpIbehH60Y2yOCDrvRy+M6kNyuFNpMpNrMuXXeT96YUzel0tWb9Hupnb3JijHOnvcI0XN0Xd+StFp5c41BM3Rj33J1JCyRfJXik4rX6/2voEhR0WOtBSdVu4cqXass8ctfBt6E7p12ztpv3PrtnfUdKZPkjSQSrnXOPM+jvc1DqRSWa8purKqLu/7MK387JGpmWXptPKzd0PPLOAuWb1Fr9Y3u9dpNI+dedfvXMlV2tlaiuZ7rd5typTZ+crBL6zbpkPtXe72kTl+vXj8dM6CMV8p6mfs9LOMn+cayfg6klI0cxsfSKW0v7VzSOlu1rVnYFAbahqzlvJ+HqfQ5r9Vq5tfrfTlxlUn9d3fntZ/LGzR1f/Vqcu+26vPXJnQJy4Z0G3/+lu3VPrdww/6fszx6ru/Pa2r/6tTn7kioQ98OKn/Z3q/Jk1J6QMfTuoTlwzoM1cmNLOsV1f/V6f+Y2GLvvvb07px1cnQ1+Oml6v1veV1+tZDzfrqnR268oYe/fNVCX3y0n598KNJTZqa0t9MHwjtWqznnKNQHy+sx7r2k0soRVEUpixeO6r5tzkKMtfBDWZ/wHsJrZJS5zR4c93MyrrOnEeA+l0u011L3lZblzNH7etPavkrVWpoPaPDJ9uHlJ3rt9eqsc35Yn9gMJX1tfhZLl8pal5L33uXFetNDKp8w9ERr/f0sgrtrWxx35vGtjNa+PT+Ietc6FJ0yuK1kW/DiE7YoRSNP0pRC8SlFC0Gkx9YM6oPyczT4/3E+y1yUJMfWBP5exYVc7OlfDdkAYC4mbP4FgolWIvtF8ViwlVPhVaS2UYaeq3Q0Sw3nozVpcsQX2GHUjT+KEUtQCkarglXjPyOlLVNPYHf692Hm0f0XBOuGJ93PvzCum26f1+VGs/0jfkptAAAALDfpNtHd3aYzSRK0ZGaNHdsztJDfIUdStH4oxS1AKVouM679fkRfUiaU2lMMi+S7uW9C32iPznsnRSzOe/W5yN/r6Jgrk1b13Mm753EAQAAgGymLnlZE654MvKSLQoSpehITLjiSU1d8nLk2y6iFXYoReOPUtQClKLhmrJoZNcZMhcPN5m/bG/OZTNPsx/JhGPKonWRv1cAAACAjc6/e/Q3XML4cf7d3GAJlKLjEaWoBShFwzex7JnAH5Tt3f3u+5foT+Zd9rr5r6e930drOwI911jddR4AAAAoVhO/sSLysg3xN/EbKyLfVhEPYYdSNP4oRS1AKRq+Kb96KdAH5cKn96e9f3uOtgz7O5nXH51952bfzzflYe56CAAAAIzG1N+sVcll4/M0evgz4YonNfVRztCDI+xQisYfpagFKEULY6TXFi20SbePz2uJAgAAAGGb/D8vquTz0c/xEUOfX6opD6yJfBtFfIQdStH4oxS1AKVoYUxd+rImfuWp6D+MPSZe/ZSmLuUC3wAAAEBYzv8J1xfFUOf/hOuIIl3YoRSNP0pRC1CKFs6UR9ZqwszyyD+QS0qXasLMck35NafNAwAAAGGbvOBFlcRk3o+IzSzX5AUvRr5NIn7CDqVo/FGKWoBStLAm3xeDU2o+v1STF/LBDAAAABTKlEfWaeLV8TpTDGNr4tVPacojXEMU2YUdStH4oxS1AKVo4UV9Ss35d3HqBgAAAFBwS9fr/LsrNOHKZZEXdBg7E658UuffVaFpS2OwDSK2wg6laPxRilqAUnRsTP7lGpVcPsZ3p7z8SU2+n4t7AwAAAGNt0o9XacI1yyMv7FA4E65Zrkk/5gAU+BN2KEXjj1LUApSiY2fK4rWa8OWx+dZ4wpeWacpiriEKAAAARGnqEy9r8i9Wa9LNz2rit57WhNlPqeSLXH/UKl8s14TZT2nit57WpJuf1eRfrNbUJ7iBLYIJO5Si8UcpagFK0bE19YmXdd6cZwv6oX3enGf5kAYAAAAAICbCDqVo/FGKWoBSNBpTFq3Tedc/E24Zev0z3GEeAAAAAICYCTuUovFHKWoBStFoTVm0Tuf98DlNuGJkp9VPuGKZzrv5WU1ZxF0OAQAAAACIo7BDKRp/lKIWoBSNjym/eknnz1ul865/RhNmZS9JJ8xapvO++4zO/8kqTXmYo0IBAAAAAIi7sEMpGn+UohagFAUAAAAAACicsEMpGn+UohagFAUAAAAAACicsEMpGn+UohagFAUAAAAAACicsEMpGn+UohagFAUAAAAAACicsEMpGn+UohagFAUAAAAAACicsEMpGn+UohagFAUAAAAAACicsEMpGn+UohagFAUAAAAAACicsEMpGn+UohagFAUAAAAAACicsEMpGn+UohagFAUAAAAAACicsEMpGn+UohagFAUAAAAAACicsEMpGn+UohagFAUAAAAAACicsEMpGn+UohagFAUAAAAAACicsEMpGn+UohYoRCl67GQ9AAAAAAAATtaH3rtQisYfpagFClGKEkIIIYQQQgghhJDChFI0/ihFLUApSgghhBBCCCGEEGJPKEXjj1LUApSihBBCCCGEEEIIIfaEUjT+KEUtQClKCCGEEEIIIYQQYk8oReOPUtQClKKEEEIIIYQQQggh9oRSNP4oRS1AKUoIIYQQQgghhBBiTyhF449S1AKUooQQQgghhBBCCCH2hFI0/ihFLUApSgghhBBCCCGEEGJPKEXjj1LUApSihBBCCCGEEEIIIfaEUjT+KEUtQClKCCGEEEIIIYQQYk8oReOPUtQClKKEEEIIIYQQQggh9oRSNP4oRS1AKUoIIYQQQgghhBBiTyhF449S1AKUovHJgeNt/397Z/8WxXno/fwDfZqmfc4v5+pp6Sm07HOeNVWMmmiM1hgzZiMGFSWaaBR8JTHEqgRfEomK8SViJZrEYCSpRIIv0RBSRY2KGgWjiFERCFsVxBB8GZPW0ur3+WGfe5zZnYXZZXZnRr+f6/pcp8CwM3vvQo4f7rlv5JfUYOLScvzhha34yRMbAvzDC1sxZcVB5JfU4LT3qtWXTAghhBBCCCGEkCjDKGp/GUUdIKOotXzbdAPz3j+G+NHFuhG0I+NHF+O19V/j26YbVj8VQgghhBBCCCGERAFGUfvLKOoAGUWt4dumG5i8vDysEBrMKcsPwtvMOEoIIYQQQgghhNzNMIraX0ZRB8goGl1arv0DM9ccxQODPzQ1iAofGPwhZq05iivyP61+qoQQQgghhBBCCIkAjKL2l1HUATKKRo/Glh+RkLotIjHU3+6p23Dxux+sfsqEEEIIIYQQQggxGUZR+8so6gAZRaPD1+e+R1xKUVSCqPB3z37CzZgIIYQQQgghhJC7DEZR+8so6gAZRSPPO5+eidjt8kZup1/3WY3VQ0AIIYQQQgghhBCTYBS1v4yiDpBRNLIcOf0dfiYVWBJEhT+TCnCoutnqoSCEEEIIIYQQQogJMIraX0ZRB8goGjnqLl7Hr4Z/bGkQFf56xMe4wDVGCSGEEEIIIYQQx8Moan8ZRR0go2hkaPvXLfRN/8zyGKr2sRdLcOvWbauHhhBCCCGEEEIIIZ2AUdT+Moo6QEbRyLD842rLI6ieyz+utnpoCCGEkPY5uR6o/sDqqyCEEEIIsS2MovaXUdQBMoqaT13jdcs2VurIBwZ/iLqL160eIkIIIUSfk+uBnPt8nlxv9dUQQgghhNgSRlH7yyjqABlFzWfi0nLL42d7TlxabvUQEUIIIfqooujm7PVWXw0hhBBCiC1hFLW/jKIOkFHUXOouXsf9T1q723xH3v9kAZq+/9HqoSKEEEJ0GdttPRp2r8fzacBP7wdW5Vl9RYQQQggh9oJR1P4yijpARlFzWVhwwvLoacSFBSesHipCCCEkgPvuAyrr71hWCQwZDvz6N0BhkdVXRwghhBBiDxhF7S+jqANkFDWP27dvwzWm2PLgacT/eW4zbt/mTvSEEELsg38QVVu8C3hsAPCH7kDZHquvlBBCCCHEWhhF7S+jqAO0WxQ9WX0KnsQk1NXVW30pIVNV12pquExI3YabbbeUx2/6/kdTH7+qrtXC0SKd4ebNm8icMw8ud1fExMaje8/eWL+hIOA46emhiImN1/jHJySUlH7R7uPv3FWGmNj4gJ/DispjeGb4SM1jHTlaoXvOA+UHgz5+1tzXEBMbj7w172i+r3uvPpBv3Ag4Pm/NO5CeHtruNUeaXWW70bf/wIDP+4+v2owZswwfE4y2tjas31CAh/v0031NjBzj/7o9M3wkLly4GPSchw5/FfD6mH2Mked18+ZNZC9cjO49eyMmNl73HO0d05lxJ9GnvSCqdl0R8GA3oP9A4GS11VdNCCGEEGINjKL2l1HUAdolipYfPIQnnxqi/IPViVF09ZbTpkbLwrLAMZiy4qBpj796y2kLRol0lqtXr6F7rz545NH+2PRJMc6cOYvlb+UizuUOCD3S00MxZdpLaG6+jObmyzhz5ixmzs5CTGw8du4qC3oOvSgqPjdzdhbOnDkb9LFEFA0WneQbNxDncutG0ZjYeMx/PTvge6yKom1tbdi+owSPPNpf+d3kjxhbtbV1dYiJjce27TsMHxPs/IlJI9C9Vx98sOFDNDdfRltbW0jHnK05hziXGzNnZ6HB68WZM2cxYNBgdO/VJ+CxxOP1GzCo3eDZ2WOMPC/xPh8waDB2fPY5mpsvB5yjo2PCHXcSfYwGUbXL3/HdUj9sFHD5O6ufASGEEEJIdGEUtb+Mog7QDlG0rq4ecS43pmf8CRsKPnJsFDV71/nai9cDzlF+stm0x+cu9M5k/uvZeDChJ65evab5fEnpF4iJjcehw18pn5OeHqobJ4ePfBajRj8f9Bz+UbStrQ0PJvTUfawJaZPRb8AgzTkfTOiJOJdbd9bn5i3bEOdyo/djfwyIoiKWnjhRpfkeq6Lozl1lcLm7InvhYixZujzobEV/1m8oCBodQzlm/uvZ6N6rT8BrHcoxM2dnaV4fADhxogoxsfHYvefLgONXrX4b0tNDIT09NGjw7OwxRp7XqNHPIzFpRLvjY+QYf4yMO4ku4QRRtXNzfJsxTX7R6mdCCCGEEBI9GEXtL6OoA7RDFJVv3MDNmzcBBL9t1wn0e7HEtGA5Pme/7jmu/dBm2jkGzWj/FmozuXDhonL7bpzLjdRJU5XXHAAyZsyC9PRQlJR+gS7deii3Zvvf4ltS+oVym2yXbj0CYktMbDxWrX4bmXPmIc7lRpzLjZdfmakEkKy5r6H3Y3/UfI94z5365rTyv/fs3aecp2//gaioPIZvTp/GH5+QlHN/+JeNmse5evUaUidNVcKe/y3KdXX1ujM0/aPRnr370Lf/QMTExsPl7orMOfM0AefBhJ7IeXOZ7jj3fuyPmDk7S/PYeiEzY8YsxLncuo+hHhPxcyg+9o+VALB7z5fo028ALl5sVM6Z8+YyxLncAWME+IJs1tzX8GBCz4Aomj49Qwlp6udsVRS9evWach15a94xHEX7DRiku5xBKMe0tbUhzuXucCZpR8f8OW8NNhZu0nzu6tVruu/Fi42NiHO5cejwV0GDZ2ePMXLN4mfl1DfBZ7MbOUYPI68NiR6dDaJqX5oFdO8F/K+fAr/8NfB/HwT69AOefgYYOwHImAUsehN4532geBuwrxw4fRZoabF6FAghhBBCQodR1P4yijpAO0RRNU6OorGjikwLlp9/dUF5XPW6ogCwqvgbU87xu2c/icq4XL16DXEuNyZNTUdz82V8ffwEuvfqg0lT05VjRKQblpyCM2fOKscMH/mscsyHf9mo3Irb3HwZ23eUIM7l1gQXEV3fWJSD5ubL+GDDh4iJjVciyIHygwFxL2vua8pMOvH+E9dx5sxZJCaNwIMJPfHIo/2xq2w3mpsvI2PGLE2QaWtrU27jPXPmLBq8XowZO14zG85IFD31zWnExMYj581laG6+jF1luxHnciu3lAd7DPU4quNhsCg6IW0yEpNGBH3N/H8OQwmC0tNDsWr128ia+5rm9VNfv95ak+JaxSzGd997X/maHdYUNToG27bvCDpLNpRjxBit31Cg/KFABPpQjtFD/Bxc9rvneELaZOX9Eix4dvYYI9f84V82KtFcrJvrSUzS/JHByDH+GBl3Ej3MDKJqdx8Dtu4GPtgC5L4PZK8A/jQPSHsJGPEcICUCjzwG/J8uwC9/5YuoD/XyzTTlbfiEEEIIcQqMovaXUdQBMoqax8+f+tC0KNr0/Y/K4x4+dRkXW+58fLzWnA2d/nNo4Cy+SLBl26fo02+AZubfqtVvawJTxoxZeDChp+YYEUGBO7dv+8+QXL+hQBN3YmLjkTX3Nc0xo0Y/rwmD/o/zYEJPLH8rF8Cd95/6tl4RcTZv2aZ8Tr5xAzGx8cpMyPUbChDncmu+T1xzR0FTHY30wtvWT7djxcpV7T6Gehzbi6JtbW34uKhYc+16dDaKZsyYpYQ39Uy+5W/lKgE6WBQFfLdXx7ncuNjYqJzfKVFUzITt7DGbt2zzbaLVqw/KDx5SQrt6XIwc449Y69N/7daS0i8072G94GnGMUauOefNZYiJjVf+yKC3DqqRY8IZdxIdIhVzCx4gAAAgAElEQVREOzvT9Kf3+9Yo5QZOhBBCCLE7jKL2l1HUATKKmsM//vlv04Logg+Oax4756Mq7Dj4N+XjW7duIyF1W6fP8/OnPoz2MCn4Byb/mAfceS8Avs1i/NfLBIDLl7/TREK9TV0yZszShMGcN5cpt9CLWYn+t4mrCRYi1edKn56hu0bn/NezlecVykzRqS++jDNnzgbEnXCiqP+u23Eud4e3D5sRRQHfrcoiOAPQ3DLfXhSVb9zAgwk9kT49Qzm/E6KoeP3au6XbyDHq852tOad8ToR2MaZGjvEnY8YsdO/VRzNbUsx0Vs/O1bvt3YxjjFyz+COJ+o8MFxsbNRskGTlGjdFxJ5HHjkHUf43SX//Gt7t92R6rRyuyXP4OWJXne64P9fIF4bv9ORNCCCF3C4yi9pdR1AEyipqHWTNFy082K48p/+hbQ3RI5k7NuQrL6h0VRbfvKFHW41Qr6CiKtve+CDWKijhy4kQVct5cpjlvuFE02G3q6phndE3RispjmvVXp2f8SVl/NZwoqt59XuxSH2wWof84dDaK5q15R5kBLGaOinO3F0WBOzMKd+/50jFRVG/JgHCOae986lvTjRzj/5hxLrcmSAJQfg7UEd7/fWnWMUauWe/3AQDN5lxGjlFjdNxJZLF7EFW7/B3gwW7AH7oDhUVWj5x5nKwG5r7ue14/vR8YMtz3XEUQfjDBF4Xnvu7s5QTEf8eE4r8j6s/pHUMIIYQ4BUZR+8so6gAZRc3DrDVF1WuIqnebr2+Ulc/XN8qdPk/sqOj8K0+s47erbHfAhloCozNF/Tf68f7tbyFHUcA3gzHnzWUBm650ZqbohLTJAc995uyskKOooK2tTVlbdczY8crn41zusDdaEjMw1bdONzdfxo0fftA8jgiS3r/5Zii393Opt9GSOKeYuXeg/CAmTU3XrCPbURQFfEsfdO/VR9nJ3Eo6iqJi7dz2NhAycoygpPQLxMTGB6x/qY6HRo5RX79eEAUQ8McKf8V714xjjFzzqtVvB2yIBmiDp5FjBKGMeySY9oovBobiQ718werX/+2LV/0e983im5zui1Wr8nyhrmyPL3I5IV45KYiqXVcE9B3gC4Wr8qwexfAo2+NbM/XXv/H5fJrveQV7zsW7fMf89H7fLFInRuGbN28qfxAU/51r+f57zef0jiGEEEKcAqOo/WUUdYCMouZhxu7zb2/V3tq54IPjyteK9nyr+dqUFQc7da5+L5ZEZVz0gqdY17K9Y9SBMpQ1RY1EURGI1DMX/c8pMBJFjawpKtYhVa9N2tbWpok4s7Pm4k+zXg24VvU1zX89O+C2YeBOIDtQflD5nF5oFGMmfsb0IqvYHd7/uaiDq2BC2mRlnVC9c06amo6UMWMDbms2EkXr6uoR53IjzuW2fRRd/lZuwLq44RwjEEtD+L9f1EsQGDkGuPO+DjbDWB0FhE9IHixZuhzNzZfR1tZm2jFGrlms46v+I4gI7OI5GDkmnHGPBBVhxriySl+cWlfkm8k3NwdInwU8l+qb3ffYAN9Mxl/9xhevuvcKPb5G83usjpudtXiXb9x/ej8wpxNL017+zheyy/b4YuOqPF/onpwODE/xBfA/dPfFy5/eH34gLyzyHffT+32zP9Nn+Z5DODNm+w7wPc7kFzu53mrJeOCL1E48ACGEEEIEjKL2l1HUATKKmsfEpeWdjqKnvVeVx7v2Q5vma0Myd+LWrdvK1z//6kKnzjVxaXlUxkVEuDXvvIcGr1e5hTuUKAoE331evXai0Sgq4on/7bThRtFgu8+73F018XL4yGfRvVcfZWOYMWPHax5HzNAUz1HMFFXPsLx69RoeebQ/Hnm0PzZ9UowzZ84qY+r/PPVCowhQ4vMzZ2chzuXGx0XFyi32euMoxmbm7Cw0eL04c+YsZs7OChgb/3OK7/OPUkaiKHBnUy47R9GO1vE0csyhw1/h2efGaWZQig2ndpXt1mxIpH5PdXTM2ZpziHO5seCNxQHBsuX774Neb7AZzGYcY+R5iVnCXx8/oWyi1G/AIM17yMgxRl6bSBNuFKX2tKzSN4uye8/wZwD/KsYXtB8b4Autz6X6ouXcHF+EXFfkC5hllXfOGUogf6iXL2TOzbnzGGY87/RZvlj7h+5hzJotGQ/k3OezZHzHxxNCCCGkXRhF7S+jqANkFDWP1VtOdypS+kfPjvCPpqG6ekt0Nhxpa2tD9sLFcLm7IiY2HqmTpiozRcWtvEaiKOCbDdm9Z2/ExMajS7ceAbHFaBQFgP4DnwzYcCjcKAr4YmXqpKlK8H1m+EhcuHBR8z0XLlyEJzEJMbHxcLm7KmucqR9H/Rxd7q6aNUUFN2/eROacecqYdu/ZW3fzpGChUQTmEyeqlNenS7ceQcdVcORohWZt2GeGj8SRoxXtnjPYLF+jUVTslm7nKCpidntrtXZ0TOHHRQHrvba1tWHZipXK6+xJTAp4T3V0jLhuPdsb00hGUSPP6+bNm5ie8Sfl5yl10tSA2dFGjjHy2kQabwvQeIXSu8fiz4CkkcBDDxsPwuueYRQlhBBCzIRR1P4yijpAu0VRJ1NV19qpSOl/e7wR1LfXh2pVXWsERsEZiM2WLjthIT5CCCHkbqBkPIMoIYQQYhKMovaXUdQBMoqaS/zo4rAj5cWWH0M+37Ga78M6V/zo4gg8e/tz8+ZNfH38BBKTRmhuSSeEEEIIIYQQQpwCo6j9ZRR1gIyi5rKw4ERYkXLKioOaxzl86nLQY9W70N9su4WE1G0hn29hwYloD40t2L3nS8TExmPks88F3GZLCCGEEEIIIYQ4AUZR+8so6gAZRc2lvlEOK4ruPtakeZycj6oM32a//vNzIZ/v26YbIIQQQgghhBBCiPNgFLW/jKIOkFHUfJ5fuC/kSHnthzu7Jd9su9XuseNz9mvOV3vxekjnitau84QQQgghhBBCCDEfRlH7yyjqABlFzee092pIkXL5x9Wa7z9e2/GGTf7rj458bY/h8527cD2aw0EIIYQQQgghhBATYRS1v4yiDpBRNDKEu7ZopPUPsIQQQgghhBBCCHEWjKL2l1HUATKKRoZbt27jsRdLLI+gavumf4Zbt25bPTSEEEIIIYQQQgjpBIyi9pdR1AEyikaOhks38F/DCi2PoT95YgP+a1ghvM3cXIkQQgghhBBCCHE6jKL2l1HUATKKRpZD1c34mVRgaRD9mVSAI6e/s3ooCCGEEEIIIYQQYgKMovaXUdQBMopGng2l5yyNon/ZVWf1EBBCCCGEEEIIIcQkGEXtL6OoA2QUjQ5HTn+H344qimoM/e2oIlScbbH6qRNCCCGEEEIIIcREGEXtL6OoA2QUjR4Xv/sB3VO3RSWIJqRuQ2PLj1Y/ZUIIIYQQQgghhJgMo6j9ZRR1gIyi0eX6j22YteZoRIPozDVHcf3HNqufKiGEEEIIIYQQQiIAo6j9ZRR1gIyi1vBt0w1MWX7Q1Bg6eXk5d5gnhBBCCCGEEELuchhF7S+jqANkFLWWb5tu4LX1XyN+dHFYITR+dDHmvX8M3zYxhhJCCCGEEEIIIfcCjKL2l1HUATKK2ofT3qvIL6nBpGXl+MMLW3Uj6B9e2IqJS8uxofQczl24bvUlE0IIIYQQQgghJMowitpfRlEHyChKCCGEEEIIIYQQ4hwYRe0vo6gDZBQlhBBCCCGEEEIIcQ6MovaXUdQBMooSQgghhBBCCCGEOAdGUfvLKOoAGUUJIYQQQgghhBBCnAOjqP1lFHWAjKKEEEIIIYQQQgghzoFR1P4yijpARlFCCCGEEEIIIYQQ58Aoan8ZRR0goyghhBBCCCGEEEKIc2AUtb+Mog6QUZQQQgghhBBCCCHEOTCK2l9GUQfIKEoIIYQQQgghhBDiHBhF7S+jqANkFCWEEEIIIYQQQghxDoyi9pdR1AEyihJCCCGEEEIIIYQ4B0ZR+8so6gAZRQkhhBBCCCGEEEKcA6Oo/WUUdYCRiKLfnm+ilFJKKaWUUkoppeebTO8ujKL2l1HUAUYiisqyTCmllFJKKaWUUkpl2fTuwihqfxlFHSCjKKWUUkoppZRSSmnkNBtGUfvLKOoAGUUppZRSSimllFJKI6fZMIraX0ZRB8goSimllFJKKaWUUho5zYZR1P4yijpARlFKKaWUUkoppZTSyGk2jKL2l1HUATKKUkoppZRSSimllEZOs2EUtb+Mog6QUZRSSimllFJKKaU0cpoNo6j9ZRR1gIyilFJKKaWUUkoppZHTbBhF7S+jqANkFKWUUkoppZRSSimNnGbDKGp/GUUdIKMopZRSSimllFJKaeQ0G0ZR+8so6gAZRSmllFJKKaWUUkojp9kwitpfRlEHyChKKaWUUkoppZRSGjnNhlHU/jKKOkBGUUoppZRSSimllNLIaTaMovaXUdQBMorax4pvLmLNlpN4YdFedBm7GT95YkOAXcZuRuqSL7Fmy0lUfHPR8mumlFJKKaWUUkpp+5oNo6j9ZRR1gIyi1lpd24xZbx/C71KKdCNoR/4upQiZaw+jurbZ8udCKaWUUkoppZTSQM2GUdT+Moo6QEZRa6yubcaEnL1hhdBgpuZ8iW/qGUcppZRSSimllFI7aTaMovaXUdQBMopG14aLLZieW44HBn9oahAVPjD4Q7ycW47zTa2WP1dKKaWUUkoppZQyit6LMoo6QEbR6FnTcBldx2+JSAz1t9v4LTjbcNny50wppZRSSund4unTpyFJkkaPx4OMjAzU1tZG5RokScLOnTsNX58kSRg3bhxKS0sjdk3l5eVYuXIlrly5YngcFy9ejMbGRstfU1mWkZaWFnRM6Z33lVlj5P/+TEtLM/V6D31VgcXLV2Px8tWWj51as2EUtb+Mog6QUTQ6lh//G2JHbYpKEBXGjdrEzZgopZRSSik1SRGHtmzZAq/XC6/XiwMHDmDcuHFITk6OSuQzEkXV11dVVYWFCxdCkiTs2LGj0+ffuXMnJEnSfK64uBgejwder9fQYxw+fBiSJOHw4cNRfw31rp9RtH3NiqLBor3ZYfSjjzcrUfTQVxWWj5/QbBhF7S+jqANkFI28q4pOROx2eSO30+dtPmn5GFBKKaWUUup0g8Wh+vp6SJKEoqKiiF+DkSiq9/XMzEyMHTu20+fXi4pOMlgUra6utvza7KoZUdQ/iPq/HmbORBVBlFGUWi2jqANkFI2seysa8DOpwJIgKvyZVICyIw2WjwWllFJKKaVOtr04JEkSFi5cqHxcW1uLadOmQZIkJCYmIjc3V3N7+ZUrV5CTk4PExETlFvcTJ05oHrO2thaTJk2CJElISkpCaWlp2FE0Pz9fE6PU1+fxeJCZmYmWlhbN8WlpaVi7di08Ho/ysTpsZWdn6z62LMs4cuSIcu2JiYnIyclRnr8IYadPn9Z8XFpaiqSkJEiShOeffx5HjhwJGI/2rlmSJKxbtw45OTnweDzweDxYsGCBct5g15+WlqZcy+bNm5VrSEpKQn5+frvvCaPjmJ+fr7zWkyZN0iy3EMox6tdDlmU0NjYiMzMTHo8HkiRh2rRpAUs5dHSNHb1e6hnImZmZyjFr1641/LOjF0SF2dnZkCSpw7E2onqWaN67H1j+O0Ot2TCK2l9GUQfIKBo5T9Q04b+GFVoaRIW/Gl6Is99yZ3pKKaWUUkrDNVh0vHTpEiRJQkFBAWTZF6qSk5MxY8YM1NTUYP/+/fB4PMjLy1O+JzMzE8nJyaiqqkJNTQ2ysrLg8Xhw6dIl5TGTk5MxZcoUVFVVoaqqCuPGjQs7ii5ZsgTDhg1Trs/j8SArKwterxcVFRVITk5GVlaWcnx+fj48Hg9SU1NRUlKCU6dO4fz589iyZQskSYLX61WWC/CPotXV1fB4PFi4cCG8Xi/279+P5ORkJRoHi6Lp6ema5+rxeJRzGLlmEf1yc3Ph9XpRWFgISZKwceNGyLIc9PqFO3bs0Cw/IL4/2Axgo+MoSRLmzZunvBeSk5MxduxYJToaPcb/9bhy5QqSk5Mxbtw45X00Y8YMzVIORq6xo9dLvK8SExNRWFgIr9eLFStWQJIk7Nu3r8OfG/H8xHtEHaHFx2ZE0c9Kd2lmiX5Wusvy3xlqzYZR1P4yijpARtHI2HrlGnpP+dTyGKr20anbce3adcvHhlJKKaWUUieqFx2bm5uVoFlfXw9ZlpGbm4thw4ZpZoZu3LgRHo8HV65cwYULFzBmzBjs2bNH+Xp1dbXmsYuKijRRUJZ9gSucKCqi7LJlyyDLvvg3ZswYzfWtW7dOEzbz8/MDnoMs699+7h9Fs7OzkZ6ervt9Xq83aBQVQVg8V/WMSCPXLEkSlixZojnv9OnTlRmhwa5ffd3+a1tu2LABn3zyie7xRsdx9OjRmu+rrKzUvE5Gjwn2nlK/R65cuYJhw4aF9Fp39HqJ95WIy8Jhw4a1GzLF6ytmgmZnZwcEUvXH6lAaqrV19ZogqudHH2829fdBqJoNo6j9ZRR1gIyikXHRhkrLI6ieizZUWj42lFJKKaWUOtFgG8WkpKRobn1PS0vT3Eovy3ciV7Dw4x80s7OzMWXKlIDjwtl9XpIkze3QevqHTXG7tv9xRqLo6NGjsW7duqDnChZF/Y/zD5odXbPebMPs7GzDUVTMFM3NzUVNTU1Y7xGj46gOiuEeM3/+fEyfPj3g+5YtW9buxkWhvl7BYru45b+978nPz1fOJ14H8Z7Mz8/XBFOjY+wfQA99VYG8dz/oMIpafTu92TCK2l9GUQfIKGq+VTVNeGCwteuIBvOBwQU4UdNk+RhRSimlnfEfR9fgHxXG1zKjlFIz1NvdPS0tLSBMJScnB42TYnbo2bNnkZGRoawF6b/ZjH/MExqJourr83q9AetHyrKMkpIS5XZ8vfUeOxNFO7oV2mgUzc7Oxquvvmr4mjsbRWVZRmlpqXKOxMRErFmzpt2YHO44pqWlYc2aNZ06Ji0tTfc94n9sOOOm974KJYqKW+LFrfLqEKqOpCKMhvJzGG4UtXrTJbNhFLW/jKIOkFHUfF9YtNfy+NmeLyzaa/kYUUoppeH6j6NrgJz7gJz78I+jayy/HkrpvaNeHBKRrby8XPlcWloaVq1apQmT6kB56dIleDwerFixQnPrs38U1ZsFGO6aomp37NgBj8eDXbt2KcHUPxbaYabolClTlGBm5JrNiKLClpYW7Nq1S1mj1OxxVC8NEO4x8+fPR2ZmZsD3LVy4UDnWyDWaPVNUvaO8/3sk3NmhasONolavMWo2jKL2l1HUATKKmuuJmibc/6Q9Z4kK73+yAOe8ly0fK0oppVTtvgN/R/dewH33te/YbusZRSmllhgsDqWnp2uC1ZIlS5CWlhYww/Dbb7+FLAdGQVkOXC/UzDVF/dVbO1NsQCQ+7iiKqp+bkTVFy8vLMWbMGFy4cCGsNUWNXHMoUVRv9ueLL76o+/3BbkU3Oo5mrSnqfy4ja4oaucaOXq9Qo6j/7fJ6XzPyPg1muFG0tq4+rPOZpdkwitpfRlEHyChqrvPXHbU8ehpx/rqjlo8VpZRSKszNa0Ps74HKemM27F6Pht3rcd999/b/30Epja7B4tC+ffs0nz99+jQ8Ho+y+3xNTQ0WLlyIlJQUfPfdd6ivr4ckScjKykJVVRVKSkqQkpKieQz/3ecrKio6tfu82o0bN0KSJHzwwQeoqanB2rVrldv4xTHBomh5eTkkScL27duVyNvR7vNix3MRyYJF0RkzZii7z0+ZMkUT/Ixcs5Eoqnf9wry8PHg8HpSUlMDr9SozRdeu1V+uxeg4SpKEhQsXoqamRhkLvd3nOzrG//UItvt8YmJiSOPW0etlxkxR9fPszCxRWWYUFTCK2l9GUQfIKGqe169fx++fLbI8eBrRNeYTXL/OnegppdRq9x34O7Lm/wsPPwo81AvYtPmm5dcUbcdPuoXBQ40HUX8ZRiml0bK96Dh9+nRNxKqtrcW0adOUCJSRkYHa2lrl+D179mDEiBGQJAnPP/88Dh06BI/Ho7mNuba2FpMmTYIkSUhKSkJpaakpUfTKlSvIzc1FYmIiJElCZmamMnuwuroashw8isqyjFmzZikRTxzrH8COHDmiWZszNzdXGZtgUbS0tBRJSUnKmKg3rzJyzUaiqN71q83Pz1euISkpqd01RUMZx/z8fOW4SZMm4fz585pzGj3G/xoaGxuRmZmphM5p06Zp3mdGrrGj1yucNUXVa5eePn1aWWO0s0FUlu9EUfF/jURRqzdZkmVG0XtRRlEHaJcoum//AQx5ZjhiYuMRExuPIc8Mx5kzZy3/xRWKh6rOWx47Q/FQ1XnLx4yG7qCnhiAmNh5/3Rl8TZyZs7MQExuPFStX6X79meEj0bf/wHbPs6moGP0eH4SY2HjEudwYN2EiGhoaAo7bt/8AHu33OGJi49GlWw+sffc9zdc/3b4DMbHxqKo62eFza2howIxZmfjz6rctH2d/t+/4DI/2e1z3a/v2HwgYq/PnLwQc19LSgrnzX0dCj0cQExvf4Tn37T+AwU8PVR535LPPBbwGRo6RZRmtra1Y++576NX7sXZfj8NfHcHgp4fqft2sczU0NGh+3wd7nI7G3cgxxVu2Gnptoum52h+wKq8NQ5Ju4+e/AGJ/D4xJBfI2+AJfz97A+Em3LH/PR8tefYDpmeEHUYZRalT1DCX/25bDVf2PfBFQcnNzdTe1sfI5R+tc7e12TWl7Gl3n04ka+dm4G39+1LNF1XY2iMqyfhSVZbndKPrRx5stHxOzYRS1v4yiDtAOUfTY18cR53Lj5VdmovrUKVRWHkP/gU8ioWdvtLa2Wv7Ly6jLC4+bGi0TUrfhZtstZVybvv/R1MdfXnjc8jGjoSuiaPpLGbpfb2xqQpzLHTSKnq2pUWJU2e49uo+xYuUqxMTGY8asTFRWHsOOks/Rf+CTcLm7agKX+me3rq4ea995DzGx8Xjv/Tt/MTYSRc/V1mJq+nTluoLF3Gjb2tqKTUXFeLhPP+Xa/I+pqjqJOJcbEyZORvWpUyg/eAgJPXtjxCjtulDnz19AQs/e6D/wSRR9shl1Hdy+Ix5XjG1l5TF4EpM0MdvIMeJ5eBKTkNCzN9a+8x7q6uoDfrfu3FWGJySP8jz9Xy8zz9W3/0B4EpNQWXlM93GMjLuRY8R7b/GSpairq8fOXWW6r0003LT5JlIn30Ls74EHfgEMHgq8vgz46xH9wDc9E4j7PXCu9gfLfw4i5bnaH/DzX9yJwWbIMErbM1JRdM6cOcoGOuIW6JSUFM0af1Y/52id626LOjR6MorevT8/6j8emfF7V9jebfGHvqqwXRCVZUbRe1FGUQdohyj68iszA/5hffDgIcTExuOzklLLf3kZ1exd5wvL6gPGdsqKg6Y9Pnehd6aDnhqCLt16IM7lRmNTU8DX/7LxY8S53Hikb3/duLhi5So80rc/RowajZmzswK+XlV1UjdMtra2om//gZgwcbLyufSXMvDM8JGa4xa8sQhduvVQPjYSRQc9NQSDnx6KnbvKbBVFP92+Ay53V8yd/zqyFy7WDW9/Xv02YmLjNeGveMtWxMTG49Q33yifGzFqNDyJSYb/0PPqnHl4pG9/zefE78WDBw8ZPkYcl9Czd9AZkiJ4Tk2fjnfeXaf7epl1rrLdewIeX7znRKQ3Mu5GjvEkJmner+Lnw/+1ibRTM26jZ2/gpdlAYYnxwFdY4guouXltlv8smO2mzTfxwC+CR2GGURoJIxVF/Wc9NTY2atbis8Nzjta57taoQyMvoyh/fu4FzYZR1P4yijpAO0TRZStWIn/9Bs3nzp+/gJjYeHy6fYflv7yM+ujU7aZG0dqL1wPGtvxks2mP//jLJVEbmzNnziq3y4pbWNW3lqW/lIFBTw1B8Zat6NKtB2Ji49Hv8UEBSygUb9mq3HrcpVuPgHgWExuPpcvfwoxZmYhzuRHncmPaiy8rIWrm7KyAsCOi3ZGjFcr/Lvn8C+U8j/Z7HPv2H8DRigrlNtwu3XpoZkOK9+y4CROVWZr+S0CI8OP/nh701BDN8yj5/AvldnSXuytmzMrUhLRBTw3BgjcWIc7lDrgGWfbdGj9zdpbu+Miyb5begjcW4b3389GlW4+ASLd4yVLEudy68e699/MRExuP+vpvNdeiPsY/ehmJoupbp+0URc+fv6CMg5g963+MiKJ67ykR3sRrf+RoRUjnbvB6NZ8TEVLEQyPHtLa2Is7lRuGmoqDnamxqUn4eg71eZp1rxcpVmmguVL9fjYy7kWNmZc7BjpLPNZ/bt/+A4eUczLKik5Fv8FBgSNJty38ezDLrtX+jZ2/zYyjDKO3IaEVRWfbtGi5JEryq35vq9SU9Hg8yMzOV2aRivb7y8nLl+E8//TRgN+68vDxlh2qxo7R6DcZx48Zp1hLUi6KlpaXKOpZJSUm66wG2t7ag+rHVaxTm5uYy6lBKaTuaDaOo/WUUdYB2iKJ6/nXnLk18cYK/HbnJtGA5Pme/7the+6HNtHPEjtoUlXE5f/6CcntxXV29cnux/4zDOJcbQ4clo7LymHKMehaiCHIrVq5CXV09NhUVI87l1gQ0EV3nvbZAczu3WOdSvK/UM9tmzs5SZiqLICSuQ9za26VbDzzcpx+27/gMdXX1SH8pQxO5WltblVujKyuPofrUKaSMGauZMWckih45WoGY2HgseGMR6urqsX3HZ4hzufHqnHma45cufwszZ2cFzNJUz7jTi4vqmX3iNnr/6xn7QmrQ24uPfX1cM4NbL4qKaxDHhLKmqHgN7RJF1QYLb2drahDncmPp8rfQ2tqKpkuX4ElM0oyhCNArVq6Cy90VMbHxGPz00JDWTW66dEmZbRrKMeK9sPbd95Q/OIjQr/cYRl+vcM+14I1FGPTUkIDH8//jQEfjHuoxQnFt0XzvdDaKVtYD2cuBn/8C2Hfg75b/LHTGIUm38VxqZIMowygNZjPV6TEAABDTSURBVDSjaHV1NSRJwp49vj8a1dfXa3Yir6qqwrhx4zBlyhQlNo4ePVoTKLOzsyFJEnbsuPPf6SlTpmDZsmXK1z0eD9LT05WdyZOTk5Genh7wnMXHItbm5+crt/t7PB7NeSsrKyFJEvLy8oLuvl1QUABJklBYWAiv16uch1GUUkqDazaMovaXUdQB2jGKitt01SHICf78qQ9NC5aff3VBGU/1uqIAsKr4G1PO8Z9DN0ZlXDZ+vAm9H/ujZubh0uVvaSJG+ksZAbMWRQQV74ku3XoEBLi1776niecxsfEBt4SPGDVas/6m/+N06dYDi5cshSzfCULqW39F6PnLxo+VzzU2NWnWzlz77nuIc7k13yeuWbyPjURRvbiz8eNNyHlzmeb49JcylMCrnn24eMlSJfDqxcVX58zTBKFnho8MuL1YPL7ea+n/HPRunxe3jotj7vYoKssy9n65T1nXUgRP9UzoBW8sQkxsvBLNQ1k3WZxXzJ5uUs0YMnKMuF08oWdv7NxVpgT7OJcbZ2tqAh6ro9ers+cSs8L9HzcaUVT8gUZvhnUkNSOKVtb7bjWP/T2Q9dq/w7qOc7U/YN+Bv2PT5ptYldeGrPn/QurkWxiSdBsPPwrExfvC60O9ANf/BUY8ews5y9pQttecEBsX74u70QiiDKNUGGyjD3/DffxgUdR/p+YlS5ZodiWXZV8olSQJRUW+2fXLli1DZmYmZNm3W7TH49E8/qVLlzSPmZ2djWHDhmkeU0RP8bE6il65cgXDhg1DXl6e5lo3btyomdX67rvv4pVXXtEcM3/+fE3w1HsczhSllNL2NRtGUfvLKOoA7RhF01/KQELP3rrrJdrV776/auqt803f/6iM5+FTl3Gx5c7Hx2tbTTnHz5/60LLx8o8YeqFExBlZvjND0X9joPr6bzUBTi+opb+UoYl8C95YpNxCL2ZO+t/qrf7+YDFTfa7J017UnV356px5yvMKZaboxCnpqKw8phvM1NGyb/+BStCVZe0tyP5j4R9p1a+D+mctlCgqgrHYfOeDgo+UmZDHvj6uGdO7NYqKDZTEGJQfPISH+/TTjKGI/upoLmbqtneruSz7ZmSKx+0/8EnddUnbO0Zct3g91O8F9XvH/+cu2OvV2XNZFUXFBlDtzbSNlGZFUeFzqUCvPr7/1oYSOh/4uW/zpp69fbfkj57gW+f09WW+zY4KS+6s8fnhNuDVN4BnRgLx/+OLi3qh1Oj5u/cKbT1VhlFqpmLGZTBFZAxHo1F0/PjxygxPtdOnT1e+f+fOnfB4PLhy5QrKy8sxbNgw5f/Ksozy8nLN7fTi9nn14/mvy6iOomL2qvoWfVmW4fV6OxwH9bnEcxOzYNXnYhSllNLgmg2jqP1lFHWAdouiK1auQpzLrflHtVM0a6bogg+Oa8Yz56Mq7Dj4N+XjW7duIyF1m6Oi6KaiYmU9TrXi6x1F0fZCTahRVITHgwcPBdzKG24UDRYSV6xcFVIUlWXfmofq9Venpk/XzDpUn0usz9ja2qrMHBUz8vzHQnxdHZbFNalnzoVy+7wsy5p1YAc/PRRFn2zWzN6926Poq3PmBWwUJ95jYqyDhcBgm2EFM9h7qL1jgl332BdSdd+zobxe4ZzLqtvnxR/bgm0AFUnNjqKV9b6I2T3E0NlZ/UNpqKHVShlGabAw2pkgKsvGb58Xt6zrXZf/TNDKykrk5eVhyZIlyozRyspKrFu3DtOnT9d8byhRVHxNb9kA9VhcuXIFGzduVNYdFfpHUf/HYRSllNL2NRtGUfvLKOoA7RRFnRxEZdm8NUXLTzbfGcsffWuIDsncqRnjwrL6Tp/ntyOjs6Zo4aYixLnc2L7js4DNXMQxRmeKqtcClWUZp775JuQoKst3Nhvq23+gst6o3nXJsvGZomNfSA147i+/MjPkKCpsbW1V1lZNGTNWc7x4PmK24V937sKEiZM1t8L7j8WEiZMDorRQfQu82MTJyEZLeq599z3NZlZ3exQNFsRjYuPx59VvQ5Z9y0X4b/Aly+1H0QavVzfgqcfHyDFiOQP/mfehRlGzzhVso6U4l1sZLyPjHsoxVgZRWY5MFKWhm9DTF0eN2L2X8WMf6uVb1mBI0m1kzf8XNm2+iXO1P1j6+4rq6x9GOxtEZTl4FPW/JX38+PEBt5vLsm+NUPX3p6WloaCgAGlpaZrb5NeuXYvMzMyANUfDmSlaWVmp+Z6amhrNeKxduxbJycmoqKhQbs1XB0+9TaH8j6GUUhqo2TCK2l9GUQdolygq/iHupN3m/TVr93n1GqLq3ebrG+/8Iq1vlDt9nkenbo/KuOgFzw8KPgopioaypqiRKCoCvHpmpf85hUaiqJE1RcU6pOq1SVtbWzVh7JWZszE9408B16q+Jv8IN2HiZCSnjAm4FVt9fY1NTYhzuZE19zXU1dVrXLlqtSaCiefrP45irV//NUjVilvJ1d97t0dRvXVV/TebEssMqKN+sI2uhJOnvdjh4xo5Riwx4f++Uy+1oPdz5/96mXUuMRbqtXD9Z9YaGXejx9jhj22Mone/hSW+2bGjJ/hmzT7wC9+yAQ8/CqROvoVVeW2O3yTLaeqtJXr69GkljO7cuTNg46Vw1hbVi6KNjY1ITk7WfN7ImqKy7NtdfuzYsZrb5D/99FOkpaUpM0bFsaFGUaNriuo9J//1QrmmKKWUhq7ZMIraX0ZRB2iHKHrs6+OIc7kxZ97rAcGm4f//P2hO8IVFezsdKt/eelozlgs+OK58rWjPt5qvTVlxsFPnemHR3qiMiwiXK1etRvWpU1i8ZKkSJMUxHUVRWQ6++7x6XUSjUVQEKf/IE24UDbb7vMvdVRNKnxk+Egk9eyub7aSMGat5HLFRjXiOYqaoOkT6R1Fxzf4bVek9rjpECUUwVY+jiEwzZmWisvIYdpR8jickD1zurgGxrKWlBdWnTmHtO+8hoWfvgDUvxfXt/XJfwM+33qZBToui/uuqBttEacSo0Ujo2RvlBw8px/TtP1A5pmz3Hox89jllluVnJaWIiY3Hq3PnK4/rSUzCgCcGK99j5BhZ9t3iL2Zrqzc/0ps5GSyKmnkuT2KSZtMpT2KS7i317Y27kWPEc3l3XX7Aey+as0YZRe9N/3rEt4TAS7N9SwvE/l615EC8L5gOSbqN1Mm3kDX/X1iV14ZNm29i34G/37UzTdu2PYe2HWOjcq5gt8uLW771gmg4s0fT0tIwZ84ceL1eeL1eFBYWIiUlBSkpKWhsbFSOC7b7/Pjx4zWhVKwbqr5NXqz5KdYWVT/HUKKoLAfffV69s/ySJUvg8XhQUlKCqqoq5OTkBOws77/7/Nq1a7n7PKWUdqDZMIraX0ZRB2iHKKrezdjfYP9QtqPLC493KlL+5IkNOO29qozjtR/aNF8bkrkTt27dVr7++VcXOnWu5YXRmTnV2tqKufNfVzbgGTdhojJTVMzeMhJFZdl3e25Cj0eUCOgfz4xGUVmW8diAJzS3zgc7p5EoKsu+WZLjJkxUgu+QZ4bjzJmzmu85c+YsBj89FDGx8XC5uyprjqofR/0cXe6u7a4pKsZXbxat+vqeGT4yIACrnTBxcsC6mMVbtirrwIrnNPaF1IDb6sWY9er9GNa++17Qr+upFz+dFkVl2bf7vHqsxk2YiIaGBs0xLS0tmJo+XRnLcRMmasLc+g8KAnaE13tc/5hn5JjW1lYsynlT+Rkc/PTQgPem/+ulN7PXrHOdP38BI599TnkfjHz2uaCRsjNRNP2ljKDvvWCbiUVCRlGq9q9HfDNL8zb4Zpe+NNs3w3TwUN8s07jf+2aaPtQL+MV/+Da4emwAkPzsLbw049/IWdaGDzf+E2V7/44zZ50TT9u2PQfk3Afk3Ie2bc9F/Hwdba5k1qZLaWlpmu8fMWIEcnNzNf/dFtbW1mLatGmQJAkejweZmZmacCrLd3adV88elWXthkzq5xhqFJVlGaWlpcp6oUlJSQFrnba0tCAzMxMejwcejwc5OTlYt24dJEnSBNz8/HwkJiZCkiRkZmZypiillHag2TCK2l9GUQdohyh6t3io6nynIqV/9OwI/2gaqoeqzls+ZlYpbtdtb21MqnXf/gNwubui/8AnLVubkVInWtvUhobmf1IasodPtGHrF//COxv+jQVv3sK0V25jeMpt9B3gi6X/+z+AHg8bX//UymPXPTPedlFUBLzs7GwlJpqxzii9txR3jPj/QTfYH4Xt+IdfSml0NBtGUfvLKOoAGUXN9XcpRWFHSv/b442gvr0+FH+XUmT5WFlhS0sLyg8egicxqd21Mam+DQ0NWJTzpuXXQSml1Hm2bXsuKkFUloPfHt+RejuzUxpMsd66XuxcsXIVHunbH58Ub9b49fETll83pdQazYZR1P4yijpARlFznb/uaNhR9GLLjyGP9bGa78M61/x1Ry0fKysU6yIOH/ksZztSSimllNKwXbr8LQx6akjAUkiyLGPBG4sctQwYpTTymg2jqP1lFHWAjKLmevLcpbAi5ZQVBzVjePjU5aDHqnehv9l2Cwmp20I+X3Vts+VjRSmllFJKqRM9W1ODOJcbZbv36EbRYGvaU0rvXc2GUdT+Moo6QEZR83329d0hR8rdx5o0Y5jzUZXh2+zXf34upHNFa9d5SimllFJK70bHvpCqRE+9KDpi1Gg82u9xdOnWAzGx8Ujo8QhKPv/C8uumlFqn2TCK2l9GUQfIKGq+Fd9cDDmKXvuhTRm/m2232j12fM5+zXjXXrwe0rmOn22yfIwopZRSSil1osVbtiLO5VaWYtKLoqNGP48nJA8+Kd6MXWW7kTJmLGJi43Hw4CHLr59Sao1mwyhqfxlFHSCjaGQMZW3R5R9Xa8bveG1ryOuPjnxtj6FzLdpQafnYUEoppZRS6kRbW1uR0LM3/rz6beVzelFU7/se6duft9RTeg9rNoyi9pdR1AEyikbGa9eu49Gp28NaXzRS9p7yKa5du2752FBKKaWUUupExQZKra2tyueMRFFZ9q0zys2XKL13NRtGUfvLKOoAGUUj56m6ZvwyaaPlMfQnT2zAL5M24pt6bq5EKaWUUkppuMbExrdrVdVJtLS0oK6uXhNOZZlRlNJ7XbNhFLW/jKIOkFE0spYdacDPpAJLg+jPpALsrWiwfCwopZRSSil1snV19QE+PmgwshcuVkJoVdVJxMTGY9/+A5rv7dt/IG+fp/Qe1mwYRe0vo6gDZBSNvO9sPWlpFH1/xynLx4BSSimllNK70WC7zz/cpx/KDx5CXV09Xn5lJjdaovQe12wYRe0vo6gDZBSNjnsrvfjvkZuiGkP/e+Qm7Pv6b5Y/d0oppZRSSu9W9aJoS0sLZszKhMvdFTGx8ej3+KCAmaOU0ntLs2EUtb+Mog6QUTR6nm24jG7jt0QliHYdvwU1DZctf86UUkoppZRSSum9rtkwitpfRlEHyCgaXRsvX8HLueURDaLTc8vRePmK5c+VUkoppZRSSimljKL3ooyiDpBR1Bqra5uRmvOlqTF0Qs5e7jBPKaWUUkoppZTaTLNhFLW/jKIOkFHUWqtrm5G59jB+l1IUVgj9XUoRZr19CNW1jKGUUkoppZRSSqkdNRtGUfvLKOoAGUXtY8U3F7Fmy0mMX7wXXcZu1o2gXcZuxguL9uKdrSdx/GyT5ddMKaWUUkoppZTS9jUbRlH7yyjqABlFKaWUUkoppZRSSiOn2TCK2l9GUQfIKEoppZRSSimllFIaOc2GUdT+/j93kksXOhGUlwAAAABJRU5ErkJggg==)"
   ]
  },
  {
   "cell_type": "markdown",
   "metadata": {
    "id": "CwZk-P5RgcXM"
   },
   "source": [
    "### Private Leaderboard"
   ]
  },
  {
   "cell_type": "markdown",
   "metadata": {
    "id": "eWVtHlnYggXR"
   },
   "source": [
    "![Screenshot_2021-09-22 JOB-A-THON - September 2021(1).png](data:image/png;base64,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)"
   ]
  },
  {
   "cell_type": "code",
   "execution_count": null,
   "metadata": {
    "id": "BZ0B0cqOVJUx"
   },
   "outputs": [],
   "source": []
  },
  {
   "cell_type": "code",
   "execution_count": null,
   "metadata": {
    "id": "HagciuGTVJQH"
   },
   "outputs": [],
   "source": []
  }
 ],
 "metadata": {
  "colab": {
   "collapsed_sections": [],
   "name": "av-job-a-thon-sept2021.ipynb",
   "version": ""
  },
  "language_info": {
   "codemirror_mode": {
    "name": "ipython",
    "version": 3
   },
   "file_extension": ".py",
   "mimetype": "text/x-python",
   "name": "python",
   "nbconvert_exporter": "python",
   "pygments_lexer": "ipython3",
   "version": "3.7.6"
  }
 },
 "nbformat": 4,
 "nbformat_minor": 0
}